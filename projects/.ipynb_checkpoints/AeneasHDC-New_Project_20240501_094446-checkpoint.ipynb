{
 "cells": [
  {
   "cell_type": "markdown",
   "id": "56b65b72",
   "metadata": {},
   "source": [
    "<div style=\"background-color: #f4f4f4; padding: 20px; border-radius: 15px; text-align: center; box-shadow: 0px 4px 10px rgba(0,0,0,0.1);\">\n",
    "    <img src=\"../doc/img/logo/AeneasHDC_white.png\" width=\"25%\" style=\"background-color: #2D3748; margin-bottom: 10px; border-radius: 10px; \">\n",
    "    <h1 style=\"color: #2D3748; font-size: 36px; font-weight: bold;text-align:center;\">Aeneas HyperCompute Platform</h1>\n",
    "</div>\n"
   ]
  },
  {
   "cell_type": "code",
   "execution_count": 2,
   "id": "9498ed0a",
   "metadata": {},
   "outputs": [
    {
     "name": "stderr",
     "output_type": "stream",
     "text": [
      "ERROR: Could not open requirements file: [Errno 2] No such file or directory: './requirements.txt'\n",
      "\n",
      "[notice] A new release of pip is available: 23.1.2 -> 24.0\n",
      "[notice] To update, run: python.exe -m pip install --upgrade pip\n"
     ]
    },
    {
     "ename": "ModuleNotFoundError",
     "evalue": "No module named 'aeneas_style'",
     "output_type": "error",
     "traceback": [
      "\u001b[1;31m---------------------------------------------------------------------------\u001b[0m",
      "\u001b[1;31mModuleNotFoundError\u001b[0m                       Traceback (most recent call last)",
      "Input \u001b[1;32mIn [2]\u001b[0m, in \u001b[0;36m<cell line: 5>\u001b[1;34m()\u001b[0m\n\u001b[0;32m      3\u001b[0m \u001b[38;5;28;01mimport\u001b[39;00m \u001b[38;5;21;01mjson\u001b[39;00m\n\u001b[0;32m      4\u001b[0m \u001b[38;5;28;01mfrom\u001b[39;00m \u001b[38;5;21;01mIPython\u001b[39;00m\u001b[38;5;21;01m.\u001b[39;00m\u001b[38;5;21;01mdisplay\u001b[39;00m \u001b[38;5;28;01mimport\u001b[39;00m display, HTML\n\u001b[1;32m----> 5\u001b[0m \u001b[38;5;28;01mimport\u001b[39;00m \u001b[38;5;21;01maeneas_style\u001b[39;00m \n\u001b[0;32m      6\u001b[0m setup_html_css()\n\u001b[0;32m      7\u001b[0m setup_html_css()\n",
      "\u001b[1;31mModuleNotFoundError\u001b[0m: No module named 'aeneas_style'"
     ]
    }
   ],
   "source": [
    "!pip install -r ./requirements.txt\n",
    "import sys\n",
    "import json\n",
    "from IPython.display import display, HTML\n",
    "\n",
    "sys.path.append('./main/')  \n",
    "sys.path.append('./src/config/')\n",
    "import aeneas_style \n",
    "setup_html_css()\n",
    "setup_html_css()\n",
    "from datetime import datetime\n",
    "\n",
    "import config_py as config\n",
    "from main import Aeneas\n",
    "\n"
   ]
  },
  {
   "cell_type": "markdown",
   "id": "7518f696",
   "metadata": {},
   "source": [
    "<div style=\"background-color: #2D3748; padding: 8px 12px; margin: 5px 0; border-radius: 4px; color: white; font-size: 20px; font-weight: bold;\">Model Initialization </div>\n"
   ]
  },
  {
   "cell_type": "code",
   "execution_count": 121,
   "id": "3bc45e0d",
   "metadata": {},
   "outputs": [
    {
     "name": "stdout",
     "output_type": "stream",
     "text": [
      "Initialising Aeneas...\n"
     ]
    },
    {
     "ename": "NameError",
     "evalue": "name 'Aeneas' is not defined",
     "output_type": "error",
     "traceback": [
      "\u001b[1;31m---------------------------------------------------------------------------\u001b[0m",
      "\u001b[1;31mNameError\u001b[0m                                 Traceback (most recent call last)",
      "Input \u001b[1;32mIn [121]\u001b[0m, in \u001b[0;36m<cell line: 2>\u001b[1;34m()\u001b[0m\n\u001b[0;32m      1\u001b[0m \u001b[38;5;28mprint\u001b[39m(\u001b[38;5;124m\"\u001b[39m\u001b[38;5;124mInitialising Aeneas...\u001b[39m\u001b[38;5;124m\"\u001b[39m)\n\u001b[1;32m----> 2\u001b[0m aeneas \u001b[38;5;241m=\u001b[39m \u001b[43mAeneas\u001b[49m()\n\u001b[0;32m      4\u001b[0m \u001b[38;5;28mprint\u001b[39m(\u001b[38;5;124m\"\u001b[39m\u001b[38;5;124mSelected Configuration...\u001b[39m\u001b[38;5;124m\"\u001b[39m)\n\u001b[0;32m      5\u001b[0m aeneas\u001b[38;5;241m.\u001b[39mconfiguration\u001b[38;5;241m.\u001b[39mprint()\n",
      "\u001b[1;31mNameError\u001b[0m: name 'Aeneas' is not defined"
     ]
    }
   ],
   "source": [
    "print(\"Initialising Aeneas...\")\n",
    "aeneas = Aeneas()\n",
    "\n",
    "print(\"Selected Configuration...\")\n",
    "aeneas.configuration.print()\n",
    "\n",
    "print(\"Do you want to change the configuration? (yes = y, no = n)\")\n",
    "answer=input\n",
    "if (answer==y):\n",
    "    aeneas.configuration.run_gui()\n",
    "    aeneas.configuration.read()\n",
    "    aeneas.configuration.compile()\n",
    "    aeneas.configuration.save()"
   ]
  },
  {
   "cell_type": "markdown",
   "id": "cf90810a",
   "metadata": {},
   "source": [
    "<div style=\"background-color: #2D3748; padding: 8px 12px; margin: 5px 0; border-radius: 4px; color: white; font-size: 20px; font-weight: bold;\">Software Model </div>\n"
   ]
  },
  {
   "cell_type": "code",
   "execution_count": 124,
   "id": "7ff9a70c",
   "metadata": {},
   "outputs": [
    {
     "name": "stdout",
     "output_type": "stream",
     "text": [
      "y\n"
     ]
    }
   ],
   "source": [
    "print(\"Running the Software Model...\")\n",
    "results = aeneas.model.run();\n",
    "print(results)"
   ]
  },
  {
   "cell_type": "code",
   "execution_count": null,
   "id": "86ea4329",
   "metadata": {},
   "outputs": [],
   "source": [
    "print(\"Evaluation of the Software Model performances...\")\n",
    "results = aeneas.model.get_eval();\n",
    "print(results)\n",
    "results = aeneas.visualizer.plot_confusion_matrix(results['confusion_matrix']);"
   ]
  },
  {
   "cell_type": "markdown",
   "id": "d8748a83",
   "metadata": {},
   "source": [
    "<div style=\"background-color: #2D3748; padding: 8px 12px; margin: 5px 0; border-radius: 4px; color: white; font-size: 20px; font-weight: bold;\">Hardware Model </div>\n"
   ]
  },
  {
   "cell_type": "code",
   "execution_count": null,
   "id": "72d1abb5",
   "metadata": {},
   "outputs": [],
   "source": [
    "print(\"Generating the Hardware Model using VitisHLS...\")\n",
    "aeneas.hdl.run_simulation();\n",
    "\n",
    "print(\"Synthesizing the Hardware Model using Vivado...\")\n",
    "aeneas.hdl.run_synthesis();\n",
    "print(\"Evaluation of the Hardware Model performances and requirements...\")"
   ]
  },
  {
   "cell_type": "markdown",
   "id": "78ff70c2",
   "metadata": {},
   "source": [
    "<div style=\"background-color: #2D3748; padding: 8px 12px; margin: 5px 0; border-radius: 4px; color: white; font-size: 20px; font-weight: bold;\">Report </div>\n"
   ]
  },
  {
   "cell_type": "code",
   "execution_count": null,
   "id": "2c1531e9",
   "metadata": {},
   "outputs": [],
   "source": [
    "print(\"AeneasHDC succesfully generated the required HDC models in software and hardware. Check the obtained results on the dedicated HTML page.\")\n",
    "aeneas.report.open()"
   ]
  }
 ],
 "metadata": {
  "kernelspec": {
   "display_name": "Python 3 (ipykernel)",
   "language": "python",
   "name": "python3"
  },
  "language_info": {
   "codemirror_mode": {
    "name": "ipython",
    "version": 3
   },
   "file_extension": ".py",
   "mimetype": "text/x-python",
   "name": "python",
   "nbconvert_exporter": "python",
   "pygments_lexer": "ipython3",
   "version": "3.9.12"
  }
 },
 "nbformat": 4,
 "nbformat_minor": 5
}
