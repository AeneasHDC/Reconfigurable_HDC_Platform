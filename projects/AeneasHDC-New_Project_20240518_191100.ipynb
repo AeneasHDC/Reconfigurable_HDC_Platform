{
 "cells": [
  {
   "cell_type": "markdown",
   "id": "56b65b72",
   "metadata": {},
   "source": [
    "<div style=\"background-color: #f4f4f4; padding: 20px; border-radius: 15px; text-align: center; box-shadow: 0px 4px 10px rgba(0,0,0,0.1);\">\n",
    "    <img src=\"../doc/img/logo/AeneasHDC_white.png\" width=\"25%\" style=\"background-color: #2D3748; margin-bottom: 10px; border-radius: 10px; \">\n",
    "    <h1 style=\"color: #2D3748; font-size: 36px; font-weight: bold;text-align:center;\">Aeneas HyperCompute Platform</h1>\n",
    "</div>\n"
   ]
  },
  {
   "cell_type": "code",
   "execution_count": 1,
   "id": "9498ed0a",
   "metadata": {},
   "outputs": [
    {
     "data": {
      "text/html": [
       "\n",
       "    <div id=\"particles-js-left\"></div>\n",
       "    <div id=\"particles-js-right\"></div>\n",
       "    <div id=\"logo-container\">\n",
       "        <img src=\"../doc/img/logo/AeneasHDC_white.png\" alt=\"AeneasHDC Logo\" id=\"aeneas-logo\"/>\n",
       "    </div>\n",
       "    <script src=\"https://cdn.jsdelivr.net/particles.js/2.0.0/particles.min.js\"></script>\n",
       "    <script>\n",
       "        particlesJS('particles-js-left', {\n",
       "                particles: {\n",
       "                    number: { value: 100, density: { enable: true, value_area: 800 } },\n",
       "                    color: { value: \"#a0a0a0\" },\n",
       "                    shape: { type: \"circle\", stroke: { width: 0, color: \"#000000\" } },\n",
       "                    opacity: { value: 0.5, random: true },\n",
       "                    size: { value: 4, random: true },\n",
       "                    line_linked: { enable: true, distance: 100, color: \"#a0a0a0\", opacity: 0.2, width: 1.5 },\n",
       "                    move: { enable: true, speed: 2, bounce: true }\n",
       "                }\n",
       "            });\n",
       "        particlesJS('particles-js-right', {\n",
       "                particles: {\n",
       "                    number: { value: 100, density: { enable: true, value_area: 800 } },\n",
       "                    color: { value: \"#a0a0a0\" },\n",
       "                    shape: { type: \"circle\", stroke: { width: 0, color: \"#000000\" } },\n",
       "                    opacity: { value: 0.5, random: true },\n",
       "                    size: { value: 4, random: true },\n",
       "                    line_linked: { enable: true, distance: 100, color: \"#a0a0a0\", opacity: 0.2, width: 1.5 },\n",
       "                    move: { enable: true, speed: 2, bounce: true }\n",
       "                }\n",
       "            });\n",
       "    </script>\n",
       "    <style>\n",
       "    /* Ensures the main background of the Jupyter interface matches the page style */\n",
       "    #site {\n",
       "        background: radial-gradient(circle at center, #0A1931, #161616) !important;\n",
       "    }\n",
       "    #particles-js-left {\n",
       "      position: fixed;\n",
       "      width: 20%;\n",
       "      height: 100%;\n",
       "      z-index: -10;\n",
       "      top: 0;\n",
       "      left: 0;\n",
       "    }\n",
       "    #particles-js-right {\n",
       "      position: fixed;\n",
       "      width: 20%;\n",
       "      height: 100%;\n",
       "      z-index: -10;\n",
       "      top: 0;\n",
       "      right: 0;\n",
       "    }\n",
       "\n",
       "\n",
       "    /* Ensure cell outputs are also above the particles */\n",
       "    .notebook_app .cell .output {\n",
       "        z-index: 10 !important;\n",
       "        position: relative;\n",
       "    }\n",
       "\n",
       "    .cell .container {\n",
       "        background-color: #ffffff !important; /* Change to any color you want for the cells */\n",
       "    }\n",
       "\n",
       "    .cell .input, .cell .output {\n",
       "        background-color: #ffffff !important; /* Change to any color you want for the cells */\n",
       "        opacity: 1 !important;\n",
       "    }\n",
       "    #logo-container {\n",
       "      position: fixed;\n",
       "      top: 15%; /* Adjust the value to place it where you want */\n",
       "      left: 100px; /* Adjust the value to place it where you want */\n",
       "      z-index: 20; /* Above the particles */\n",
       "    }\n",
       "    #aeneas-logo {\n",
       "      width: 200px; /* Adjust the size as needed */\n",
       "      height: auto;\n",
       "    }\n",
       "    </style>\n",
       "\n",
       "\n",
       "    <head>\n",
       "    <!-- Add Font Awesome CDN link -->\n",
       "    <link rel=\"stylesheet\" href=\"https://cdnjs.cloudflare.com/ajax/libs/font-awesome/5.15.4/css/all.min.css\">\n",
       "    </head>\n",
       "    <style>\n",
       "        @keyframes fadeIn {\n",
       "            from {opacity: 0; transform: translateY(30px);}\n",
       "            to {opacity: 1; transform: translateY(0);}\n",
       "        }\n",
       "        #myMenu {\n",
       "            animation: fadeIn 0.5s ease-out;\n",
       "            position: fixed;\n",
       "            right: 20px;\n",
       "            top: 50%;\n",
       "            transform: translateY(-50%);\n",
       "            background-color: #fff; /* Set to white */\n",
       "            border-radius: 10px;\n",
       "            box-shadow: 0 4px 8px rgba(0, 0, 0, 0.2);\n",
       "            padding: 15px;\n",
       "            display: flex;\n",
       "            flex-direction: column;\n",
       "            align-items: center;\n",
       "            z-index: 100; /* Ensure it's above other elements */\n",
       "        }\n",
       "        #myMenu ul {\n",
       "            list-style-type: none;\n",
       "            padding: 0;\n",
       "            margin: 0;\n",
       "            display: flex;\n",
       "            flex-direction: column;\n",
       "            align-items: center;\n",
       "        }\n",
       "        #myMenu li {\n",
       "            font-size: 36px;\n",
       "            margin-bottom: 20px; /* Reduced space after h1 */\n",
       "            color: #2D3748; /* Logo color */\n",
       "            cursor: pointer;\n",
       "            transition: transform 0.3s;\n",
       "            text-align: center; /* Ensure text is centered */\n",
       "        }\n",
       "        #myMenu li:hover {\n",
       "            transform: scale(1.3);\n",
       "        }\n",
       "    </style>\n",
       "    <div id='myMenu'>\n",
       "        <ul>\n",
       "            <li onclick=\"window.location='./main/main.html';\" title=\"Home\">\n",
       "                <i class=\"fas fa-home\"></i> <!-- Font Awesome Home icon -->\n",
       "            </li>\n",
       "            <li onclick=\"window.open('./doc/reference_manual.pdf');\" title=\"Help\">\n",
       "                <i class=\"fas fa-question-circle\"></i> <!-- Font Awesome Help icon -->\n",
       "            </li>\n",
       "        </ul>\n",
       "    </div>\n",
       "    \n",
       "    "
      ],
      "text/plain": [
       "<IPython.core.display.HTML object>"
      ]
     },
     "metadata": {},
     "output_type": "display_data"
    },
    {
     "data": {
      "text/html": [
       "\n",
       "    <div id=\"particles-js-left\"></div>\n",
       "    <div id=\"particles-js-right\"></div>\n",
       "    <div id=\"logo-container\">\n",
       "        <img src=\"../doc/img/logo/AeneasHDC_white.png\" alt=\"AeneasHDC Logo\" id=\"aeneas-logo\"/>\n",
       "    </div>\n",
       "    <script src=\"https://cdn.jsdelivr.net/particles.js/2.0.0/particles.min.js\"></script>\n",
       "    <script>\n",
       "        particlesJS('particles-js-left', {\n",
       "                particles: {\n",
       "                    number: { value: 100, density: { enable: true, value_area: 800 } },\n",
       "                    color: { value: \"#a0a0a0\" },\n",
       "                    shape: { type: \"circle\", stroke: { width: 0, color: \"#000000\" } },\n",
       "                    opacity: { value: 0.5, random: true },\n",
       "                    size: { value: 4, random: true },\n",
       "                    line_linked: { enable: true, distance: 100, color: \"#a0a0a0\", opacity: 0.2, width: 1.5 },\n",
       "                    move: { enable: true, speed: 2, bounce: true }\n",
       "                }\n",
       "            });\n",
       "        particlesJS('particles-js-right', {\n",
       "                particles: {\n",
       "                    number: { value: 100, density: { enable: true, value_area: 800 } },\n",
       "                    color: { value: \"#a0a0a0\" },\n",
       "                    shape: { type: \"circle\", stroke: { width: 0, color: \"#000000\" } },\n",
       "                    opacity: { value: 0.5, random: true },\n",
       "                    size: { value: 4, random: true },\n",
       "                    line_linked: { enable: true, distance: 100, color: \"#a0a0a0\", opacity: 0.2, width: 1.5 },\n",
       "                    move: { enable: true, speed: 2, bounce: true }\n",
       "                }\n",
       "            });\n",
       "    </script>\n",
       "    <style>\n",
       "    /* Ensures the main background of the Jupyter interface matches the page style */\n",
       "    #site {\n",
       "        background: radial-gradient(circle at center, #0A1931, #161616) !important;\n",
       "    }\n",
       "    #particles-js-left {\n",
       "      position: fixed;\n",
       "      width: 20%;\n",
       "      height: 100%;\n",
       "      z-index: -10;\n",
       "      top: 0;\n",
       "      left: 0;\n",
       "    }\n",
       "    #particles-js-right {\n",
       "      position: fixed;\n",
       "      width: 20%;\n",
       "      height: 100%;\n",
       "      z-index: -10;\n",
       "      top: 0;\n",
       "      right: 0;\n",
       "    }\n",
       "\n",
       "\n",
       "    /* Ensure cell outputs are also above the particles */\n",
       "    .notebook_app .cell .output {\n",
       "        z-index: 10 !important;\n",
       "        position: relative;\n",
       "    }\n",
       "\n",
       "    .cell .container {\n",
       "        background-color: #ffffff !important; /* Change to any color you want for the cells */\n",
       "    }\n",
       "\n",
       "    .cell .input, .cell .output {\n",
       "        background-color: #ffffff !important; /* Change to any color you want for the cells */\n",
       "        opacity: 1 !important;\n",
       "    }\n",
       "    #logo-container {\n",
       "      position: fixed;\n",
       "      top: 15%; /* Adjust the value to place it where you want */\n",
       "      left: 100px; /* Adjust the value to place it where you want */\n",
       "      z-index: 20; /* Above the particles */\n",
       "    }\n",
       "    #aeneas-logo {\n",
       "      width: 200px; /* Adjust the size as needed */\n",
       "      height: auto;\n",
       "    }\n",
       "    </style>\n",
       "\n",
       "\n",
       "    <head>\n",
       "    <!-- Add Font Awesome CDN link -->\n",
       "    <link rel=\"stylesheet\" href=\"https://cdnjs.cloudflare.com/ajax/libs/font-awesome/5.15.4/css/all.min.css\">\n",
       "    </head>\n",
       "    <style>\n",
       "        @keyframes fadeIn {\n",
       "            from {opacity: 0; transform: translateY(30px);}\n",
       "            to {opacity: 1; transform: translateY(0);}\n",
       "        }\n",
       "        #myMenu {\n",
       "            animation: fadeIn 0.5s ease-out;\n",
       "            position: fixed;\n",
       "            right: 20px;\n",
       "            top: 50%;\n",
       "            transform: translateY(-50%);\n",
       "            background-color: #fff; /* Set to white */\n",
       "            border-radius: 10px;\n",
       "            box-shadow: 0 4px 8px rgba(0, 0, 0, 0.2);\n",
       "            padding: 15px;\n",
       "            display: flex;\n",
       "            flex-direction: column;\n",
       "            align-items: center;\n",
       "            z-index: 100; /* Ensure it's above other elements */\n",
       "        }\n",
       "        #myMenu ul {\n",
       "            list-style-type: none;\n",
       "            padding: 0;\n",
       "            margin: 0;\n",
       "            display: flex;\n",
       "            flex-direction: column;\n",
       "            align-items: center;\n",
       "        }\n",
       "        #myMenu li {\n",
       "            font-size: 36px;\n",
       "            margin-bottom: 20px; /* Reduced space after h1 */\n",
       "            color: #2D3748; /* Logo color */\n",
       "            cursor: pointer;\n",
       "            transition: transform 0.3s;\n",
       "            text-align: center; /* Ensure text is centered */\n",
       "        }\n",
       "        #myMenu li:hover {\n",
       "            transform: scale(1.3);\n",
       "        }\n",
       "    </style>\n",
       "    <div id='myMenu'>\n",
       "        <ul>\n",
       "            <li onclick=\"window.location='./main/main.html';\" title=\"Home\">\n",
       "                <i class=\"fas fa-home\"></i> <!-- Font Awesome Home icon -->\n",
       "            </li>\n",
       "            <li onclick=\"window.open('./doc/reference_manual.pdf');\" title=\"Help\">\n",
       "                <i class=\"fas fa-question-circle\"></i> <!-- Font Awesome Help icon -->\n",
       "            </li>\n",
       "        </ul>\n",
       "    </div>\n",
       "    \n",
       "    "
      ],
      "text/plain": [
       "<IPython.core.display.HTML object>"
      ]
     },
     "metadata": {},
     "output_type": "display_data"
    },
    {
     "name": "stdout",
     "output_type": "stream",
     "text": [
      "C:\\Reconfigurable_HDC_Platform\\projects\n",
      "C:\\Users\\disa\\anaconda3\\python311.zip\n",
      "C:\\Users\\disa\\anaconda3\\DLLs\n",
      "C:\\Users\\disa\\anaconda3\\Lib\n",
      "C:\\Users\\disa\\anaconda3\n",
      "\n",
      "C:\\Users\\disa\\anaconda3\\Lib\\site-packages\n",
      "C:\\Users\\disa\\anaconda3\\Lib\\site-packages\\win32\n",
      "C:\\Users\\disa\\anaconda3\\Lib\\site-packages\\win32\\lib\n",
      "C:\\Users\\disa\\anaconda3\\Lib\\site-packages\\Pythonwin\n",
      "../main/\n",
      "../\n",
      "../src/config/\n",
      "../src/config/\n",
      "Path exists: True\n",
      "File exists: True\n",
      "Import successful\n"
     ]
    }
   ],
   "source": [
    "import sys\n",
    "import json\n",
    "import os\n",
    "sys.path.append('../main/')  \n",
    "sys.path.append('../')  \n",
    "sys.path.append('../src/config/')\n",
    "import notebook_setup as aeneas_style\n",
    "aeneas_style.setup_html_css()\n",
    "aeneas_style.setup_html_css()\n",
    "from datetime import datetime\n",
    "\n",
    "import config_py as config\n",
    "from main import Aeneas"
   ]
  },
  {
   "cell_type": "markdown",
   "id": "7518f696",
   "metadata": {},
   "source": [
    "<div style=\"background-color: #2D3748; padding: 8px 12px; margin: 5px 0; border-radius: 4px; color: white; font-size: 20px; font-weight: bold;\">Model Initialization </div>\n"
   ]
  },
  {
   "cell_type": "code",
   "execution_count": 2,
   "id": "3bc45e0d",
   "metadata": {},
   "outputs": [
    {
     "name": "stdout",
     "output_type": "stream",
     "text": [
      "Initialising Aeneas...\n",
      "Selected Configuration...\n"
     ]
    },
    {
     "data": {
      "text/html": [
       "<div style='font-family: Arial, sans-serif; font-size: 14px;'><div style='margin-left: 0px; margin-top: 10px; padding: 8px; border: 1px solid #eee; border-radius: 4px;'><span style='color: #2c3e50; font-weight: bold;'>general</span>:<br><div style='margin-left: 20px; margin-top: 10px; padding: 8px; border: 1px solid #eee; border-radius: 4px;'><span style='color: #2c3e50; font-weight: bold;'>VERBOS</span>:<br><div style='margin-left: 40px; margin-top: 10px; padding: 8px; border: 1px solid #eee; border-radius: 4px;'><span style='color: #2980b9; font-weight: bold;'>description</span>: <span style='color: #e74c3c;'>Verbosity level</span></div><div style='margin-left: 40px; margin-top: 10px; padding: 8px; border: 1px solid #eee; border-radius: 4px;'><span style='color: #2c3e50; font-weight: bold;'>options</span>:<br><div style='margin-left: 60px; margin-top: 10px; padding: 8px; border: 1px solid #eee; border-radius: 4px;'><span style='color: #2980b9; font-weight: bold;'>VERBOS_DISABLE</span>: <span style='color: #e74c3c;'>0</span></div><div style='margin-left: 60px; margin-top: 10px; padding: 8px; border: 1px solid #eee; border-radius: 4px;'><span style='color: #2980b9; font-weight: bold;'>VERBOS_L1</span>: <span style='color: #e74c3c;'>1</span></div><div style='margin-left: 60px; margin-top: 10px; padding: 8px; border: 1px solid #eee; border-radius: 4px;'><span style='color: #2980b9; font-weight: bold;'>VERBOS_L2</span>: <span style='color: #e74c3c;'>2</span></div></div><div style='margin-left: 40px; margin-top: 10px; padding: 8px; border: 1px solid #eee; border-radius: 4px;'><span style='color: #2980b9; font-weight: bold;'>selected</span>: <span style='color: #e74c3c;'>VERBOS_L1</span></div></div><div style='margin-left: 20px; margin-top: 10px; padding: 8px; border: 1px solid #eee; border-radius: 4px;'><span style='color: #2c3e50; font-weight: bold;'>OS</span>:<br><div style='margin-left: 40px; margin-top: 10px; padding: 8px; border: 1px solid #eee; border-radius: 4px;'><span style='color: #2980b9; font-weight: bold;'>description</span>: <span style='color: #e74c3c;'>Operating System</span></div><div style='margin-left: 40px; margin-top: 10px; padding: 8px; border: 1px solid #eee; border-radius: 4px;'><span style='color: #2c3e50; font-weight: bold;'>options</span>:<br><div style='margin-left: 60px; margin-top: 10px; padding: 8px; border: 1px solid #eee; border-radius: 4px;'><span style='color: #2980b9; font-weight: bold;'>WINDOWS</span>: <span style='color: #e74c3c;'>0</span></div><div style='margin-left: 60px; margin-top: 10px; padding: 8px; border: 1px solid #eee; border-radius: 4px;'><span style='color: #2980b9; font-weight: bold;'>LINUX</span>: <span style='color: #e74c3c;'>1</span></div><div style='margin-left: 60px; margin-top: 10px; padding: 8px; border: 1px solid #eee; border-radius: 4px;'><span style='color: #2980b9; font-weight: bold;'>MAC</span>: <span style='color: #e74c3c;'>2</span></div></div><div style='margin-left: 40px; margin-top: 10px; padding: 8px; border: 1px solid #eee; border-radius: 4px;'><span style='color: #2980b9; font-weight: bold;'>selected</span>: <span style='color: #e74c3c;'>WINDOWS</span></div></div></div><div style='margin-left: 0px; margin-top: 10px; padding: 8px; border: 1px solid #eee; border-radius: 4px;'><span style='color: #2c3e50; font-weight: bold;'>target</span>:<br><div style='margin-left: 20px; margin-top: 10px; padding: 8px; border: 1px solid #eee; border-radius: 4px;'><span style='color: #2c3e50; font-weight: bold;'>DEVICE_TYPE</span>:<br><div style='margin-left: 40px; margin-top: 10px; padding: 8px; border: 1px solid #eee; border-radius: 4px;'><span style='color: #2980b9; font-weight: bold;'>description</span>: <span style='color: #e74c3c;'>Target Device or Board Type</span></div><div style='margin-left: 40px; margin-top: 10px; padding: 8px; border: 1px solid #eee; border-radius: 4px;'><span style='color: #2c3e50; font-weight: bold;'>options</span>:<br><div style='margin-left: 60px; margin-top: 10px; padding: 8px; border: 1px solid #eee; border-radius: 4px;'><span style='color: #2980b9; font-weight: bold;'>FPGA</span>: <span style='color: #e74c3c;'>0</span></div><div style='margin-left: 60px; margin-top: 10px; padding: 8px; border: 1px solid #eee; border-radius: 4px;'><span style='color: #2980b9; font-weight: bold;'>MICROCONTROLER</span>: <span style='color: #e74c3c;'>1</span></div><div style='margin-left: 60px; margin-top: 10px; padding: 8px; border: 1px solid #eee; border-radius: 4px;'><span style='color: #2980b9; font-weight: bold;'>SOFT_PROCESSOR</span>: <span style='color: #e74c3c;'>2</span></div></div><div style='margin-left: 40px; margin-top: 10px; padding: 8px; border: 1px solid #eee; border-radius: 4px;'><span style='color: #2980b9; font-weight: bold;'>selected</span>: <span style='color: #e74c3c;'>MICROCONTROLER</span></div></div><div style='margin-left: 20px; margin-top: 10px; padding: 8px; border: 1px solid #eee; border-radius: 4px;'><span style='color: #2c3e50; font-weight: bold;'>DEVICE_INFO</span>:<br><div style='margin-left: 40px; margin-top: 10px; padding: 8px; border: 1px solid #eee; border-radius: 4px;'><span style='color: #2980b9; font-weight: bold;'>description</span>: <span style='color: #e74c3c;'>Specific Target Device Information</span></div><div style='margin-left: 40px; margin-top: 10px; padding: 8px; border: 1px solid #eee; border-radius: 4px;'><span style='color: #2980b9; font-weight: bold;'>TARGET_DEVICE</span>: <span style='color: #e74c3c;'>xczu9eg-ffvb1156-2-e</span></div><div style='margin-left: 40px; margin-top: 10px; padding: 8px; border: 1px solid #eee; border-radius: 4px;'><span style='color: #2c3e50; font-weight: bold;'>TARGET_BOARD</span>:<br><div style='margin-left: 60px; margin-top: 10px; padding: 8px; border: 1px solid #eee; border-radius: 4px;'><span style='color: #2c3e50; font-weight: bold;'>options</span>:<br><div style='margin-left: 80px; margin-top: 10px; padding: 8px; border: 1px solid #eee; border-radius: 4px;'><span style='color: #2980b9; font-weight: bold;'>AMD_ZYBO</span>: <span style='color: #e74c3c;'>0</span></div><div style='margin-left: 80px; margin-top: 10px; padding: 8px; border: 1px solid #eee; border-radius: 4px;'><span style='color: #2980b9; font-weight: bold;'>AMD_ZEDBOARD</span>: <span style='color: #e74c3c;'>1</span></div><div style='margin-left: 80px; margin-top: 10px; padding: 8px; border: 1px solid #eee; border-radius: 4px;'><span style='color: #2980b9; font-weight: bold;'>AMD_ZCU106</span>: <span style='color: #e74c3c;'>2</span></div><div style='margin-left: 80px; margin-top: 10px; padding: 8px; border: 1px solid #eee; border-radius: 4px;'><span style='color: #2980b9; font-weight: bold;'>AMD_ZCU102</span>: <span style='color: #e74c3c;'>3</span></div><div style='margin-left: 80px; margin-top: 10px; padding: 8px; border: 1px solid #eee; border-radius: 4px;'><span style='color: #2980b9; font-weight: bold;'>AMD_VCU108</span>: <span style='color: #e74c3c;'>4</span></div></div><div style='margin-left: 60px; margin-top: 10px; padding: 8px; border: 1px solid #eee; border-radius: 4px;'><span style='color: #2980b9; font-weight: bold;'>selected</span>: <span style='color: #e74c3c;'>AMD_ZCU102</span></div></div></div><div style='margin-left: 20px; margin-top: 10px; padding: 8px; border: 1px solid #eee; border-radius: 4px;'><span style='color: #2c3e50; font-weight: bold;'>VIVADO</span>:<br><div style='margin-left: 40px; margin-top: 10px; padding: 8px; border: 1px solid #eee; border-radius: 4px;'><span style='color: #2980b9; font-weight: bold;'>description</span>: <span style='color: #e74c3c;'>Vivado Configuration</span></div><div style='margin-left: 40px; margin-top: 10px; padding: 8px; border: 1px solid #eee; border-radius: 4px;'><span style='color: #2980b9; font-weight: bold;'>OP_FREQ</span>: <span style='color: #e74c3c;'>200</span></div><div style='margin-left: 40px; margin-top: 10px; padding: 8px; border: 1px solid #eee; border-radius: 4px;'><span style='color: #2980b9; font-weight: bold;'>USE_VIV_EN</span>: <span style='color: #e74c3c;'>1</span></div><div style='margin-left: 40px; margin-top: 10px; padding: 8px; border: 1px solid #eee; border-radius: 4px;'><span style='color: #2c3e50; font-weight: bold;'>VIV_OPT_METHOD</span>:<br><div style='margin-left: 60px; margin-top: 10px; padding: 8px; border: 1px solid #eee; border-radius: 4px;'><span style='color: #2c3e50; font-weight: bold;'>options</span>:<br><div style='margin-left: 80px; margin-top: 10px; padding: 8px; border: 1px solid #eee; border-radius: 4px;'><span style='color: #2980b9; font-weight: bold;'>VIV_OPT_DEFAULT</span>: <span style='color: #e74c3c;'>0</span></div><div style='margin-left: 80px; margin-top: 10px; padding: 8px; border: 1px solid #eee; border-radius: 4px;'><span style='color: #2980b9; font-weight: bold;'>VIV_OPT_RESOURCE</span>: <span style='color: #e74c3c;'>1</span></div><div style='margin-left: 80px; margin-top: 10px; padding: 8px; border: 1px solid #eee; border-radius: 4px;'><span style='color: #2980b9; font-weight: bold;'>VIV_OPT_SPEED</span>: <span style='color: #e74c3c;'>2</span></div><div style='margin-left: 80px; margin-top: 10px; padding: 8px; border: 1px solid #eee; border-radius: 4px;'><span style='color: #2980b9; font-weight: bold;'>VIV_OPT_PERFORMANCE</span>: <span style='color: #e74c3c;'>3</span></div></div><div style='margin-left: 60px; margin-top: 10px; padding: 8px; border: 1px solid #eee; border-radius: 4px;'><span style='color: #2980b9; font-weight: bold;'>selected</span>: <span style='color: #e74c3c;'>VIV_OPT_DEFAULT</span></div></div></div></div><div style='margin-left: 0px; margin-top: 10px; padding: 8px; border: 1px solid #eee; border-radius: 4px;'><span style='color: #2c3e50; font-weight: bold;'>languages</span>:<br><div style='margin-left: 20px; margin-top: 10px; padding: 8px; border: 1px solid #eee; border-radius: 4px;'><span style='color: #2c3e50; font-weight: bold;'>HDL_LANG</span>:<br><div style='margin-left: 40px; margin-top: 10px; padding: 8px; border: 1px solid #eee; border-radius: 4px;'><span style='color: #2980b9; font-weight: bold;'>description</span>: <span style='color: #e74c3c;'>Hardware Description Language</span></div><div style='margin-left: 40px; margin-top: 10px; padding: 8px; border: 1px solid #eee; border-radius: 4px;'><span style='color: #2c3e50; font-weight: bold;'>options</span>:<br><div style='margin-left: 60px; margin-top: 10px; padding: 8px; border: 1px solid #eee; border-radius: 4px;'><span style='color: #2980b9; font-weight: bold;'>HLS</span>: <span style='color: #e74c3c;'>0</span></div><div style='margin-left: 60px; margin-top: 10px; padding: 8px; border: 1px solid #eee; border-radius: 4px;'><span style='color: #2980b9; font-weight: bold;'>SYSTEM_VERILOG</span>: <span style='color: #e74c3c;'>1</span></div><div style='margin-left: 60px; margin-top: 10px; padding: 8px; border: 1px solid #eee; border-radius: 4px;'><span style='color: #2980b9; font-weight: bold;'>VHDL</span>: <span style='color: #e74c3c;'>2</span></div><div style='margin-left: 60px; margin-top: 10px; padding: 8px; border: 1px solid #eee; border-radius: 4px;'><span style='color: #2980b9; font-weight: bold;'>VERILOG</span>: <span style='color: #e74c3c;'>3</span></div></div><div style='margin-left: 40px; margin-top: 10px; padding: 8px; border: 1px solid #eee; border-radius: 4px;'><span style='color: #2980b9; font-weight: bold;'>selected</span>: <span style='color: #e74c3c;'>HLS</span></div></div><div style='margin-left: 20px; margin-top: 10px; padding: 8px; border: 1px solid #eee; border-radius: 4px;'><span style='color: #2c3e50; font-weight: bold;'>MODEL_LANG</span>:<br><div style='margin-left: 40px; margin-top: 10px; padding: 8px; border: 1px solid #eee; border-radius: 4px;'><span style='color: #2980b9; font-weight: bold;'>description</span>: <span style='color: #e74c3c;'>Modeling Language</span></div><div style='margin-left: 40px; margin-top: 10px; padding: 8px; border: 1px solid #eee; border-radius: 4px;'><span style='color: #2c3e50; font-weight: bold;'>options</span>:<br><div style='margin-left: 60px; margin-top: 10px; padding: 8px; border: 1px solid #eee; border-radius: 4px;'><span style='color: #2980b9; font-weight: bold;'>PYTHON</span>: <span style='color: #e74c3c;'>4</span></div><div style='margin-left: 60px; margin-top: 10px; padding: 8px; border: 1px solid #eee; border-radius: 4px;'><span style='color: #2980b9; font-weight: bold;'>MATLAB</span>: <span style='color: #e74c3c;'>5</span></div><div style='margin-left: 60px; margin-top: 10px; padding: 8px; border: 1px solid #eee; border-radius: 4px;'><span style='color: #2980b9; font-weight: bold;'>CPP</span>: <span style='color: #e74c3c;'>6</span></div><div style='margin-left: 60px; margin-top: 10px; padding: 8px; border: 1px solid #eee; border-radius: 4px;'><span style='color: #2980b9; font-weight: bold;'>C</span>: <span style='color: #e74c3c;'>7</span></div><div style='margin-left: 60px; margin-top: 10px; padding: 8px; border: 1px solid #eee; border-radius: 4px;'><span style='color: #2980b9; font-weight: bold;'>RUST</span>: <span style='color: #e74c3c;'>8</span></div></div><div style='margin-left: 40px; margin-top: 10px; padding: 8px; border: 1px solid #eee; border-radius: 4px;'><span style='color: #2980b9; font-weight: bold;'>selected</span>: <span style='color: #e74c3c;'>PYTHON</span></div></div></div><div style='margin-left: 0px; margin-top: 10px; padding: 8px; border: 1px solid #eee; border-radius: 4px;'><span style='color: #2c3e50; font-weight: bold;'>dataset</span>:<br><div style='margin-left: 20px; margin-top: 10px; padding: 8px; border: 1px solid #eee; border-radius: 4px;'><span style='color: #2c3e50; font-weight: bold;'>DS_INFO</span>:<br><div style='margin-left: 40px; margin-top: 10px; padding: 8px; border: 1px solid #eee; border-radius: 4px;'><span style='color: #2980b9; font-weight: bold;'>description</span>: <span style='color: #e74c3c;'>Dataset Information</span></div><div style='margin-left: 40px; margin-top: 10px; padding: 8px; border: 1px solid #eee; border-radius: 4px;'><span style='color: #2980b9; font-weight: bold;'>DS_NAME</span>: <span style='color: #e74c3c;'>PROVA</span></div><div style='margin-left: 40px; margin-top: 10px; padding: 8px; border: 1px solid #eee; border-radius: 4px;'><span style='color: #2980b9; font-weight: bold;'>DS_SIZE</span>: <span style='color: #e74c3c;'>2126</span></div><div style='margin-left: 40px; margin-top: 10px; padding: 8px; border: 1px solid #eee; border-radius: 4px;'><span style='color: #2980b9; font-weight: bold;'>DS_TRAIN_SIZE</span>: <span style='color: #e74c3c;'>1594</span></div><div style='margin-left: 40px; margin-top: 10px; padding: 8px; border: 1px solid #eee; border-radius: 4px;'><span style='color: #2980b9; font-weight: bold;'>DS_TEST_SIZE</span>: <span style='color: #e74c3c;'>532</span></div><div style='margin-left: 40px; margin-top: 10px; padding: 8px; border: 1px solid #eee; border-radius: 4px;'><span style='color: #2980b9; font-weight: bold;'>DS_VALIDATION_SIZE</span>: <span style='color: #e74c3c;'>2302</span></div><div style='margin-left: 40px; margin-top: 10px; padding: 8px; border: 1px solid #eee; border-radius: 4px;'><span style='color: #2980b9; font-weight: bold;'>DS_FEATURE_SIZE</span>: <span style='color: #e74c3c;'>230210</span></div><div style='margin-left: 40px; margin-top: 10px; padding: 8px; border: 1px solid #eee; border-radius: 4px;'><span style='color: #2980b9; font-weight: bold;'>DS_DATA_TYPE</span>: <span style='color: #e74c3c;'>FP</span></div><div style='margin-left: 40px; margin-top: 10px; padding: 8px; border: 1px solid #eee; border-radius: 4px;'><span style='color: #2980b9; font-weight: bold;'>DS_DATA_RANGE_MIN</span>: <span style='color: #e74c3c;'>0</span></div><div style='margin-left: 40px; margin-top: 10px; padding: 8px; border: 1px solid #eee; border-radius: 4px;'><span style='color: #2980b9; font-weight: bold;'>DS_DATA_RANGE_MAX</span>: <span style='color: #e74c3c;'>1</span></div><div style='margin-left: 40px; margin-top: 10px; padding: 8px; border: 1px solid #eee; border-radius: 4px;'><span style='color: #2980b9; font-weight: bold;'>DS_CLASSES_SIZE</span>: <span style='color: #e74c3c;'>3</span></div></div></div><div style='margin-left: 0px; margin-top: 10px; padding: 8px; border: 1px solid #eee; border-radius: 4px;'><span style='color: #2c3e50; font-weight: bold;'>train</span>:<br><div style='margin-left: 20px; margin-top: 10px; padding: 8px; border: 1px solid #eee; border-radius: 4px;'><span style='color: #2c3e50; font-weight: bold;'>TRAINING_INFO</span>:<br><div style='margin-left: 40px; margin-top: 10px; padding: 8px; border: 1px solid #eee; border-radius: 4px;'><span style='color: #2980b9; font-weight: bold;'>description</span>: <span style='color: #e74c3c;'>Training Information</span></div><div style='margin-left: 40px; margin-top: 10px; padding: 8px; border: 1px solid #eee; border-radius: 4px;'><span style='color: #2980b9; font-weight: bold;'>TRAIN_ON_HW</span>: <span style='color: #e74c3c;'>0</span></div><div style='margin-left: 40px; margin-top: 10px; padding: 8px; border: 1px solid #eee; border-radius: 4px;'><span style='color: #2980b9; font-weight: bold;'>RETRAIN_ON_HW</span>: <span style='color: #e74c3c;'>0</span></div><div style='margin-left: 40px; margin-top: 10px; padding: 8px; border: 1px solid #eee; border-radius: 4px;'><span style='color: #2980b9; font-weight: bold;'>EPOCH</span>: <span style='color: #e74c3c;'>10</span></div></div></div><div style='margin-left: 0px; margin-top: 10px; padding: 8px; border: 1px solid #eee; border-radius: 4px;'><span style='color: #2c3e50; font-weight: bold;'>HDC</span>:<br><div style='margin-left: 20px; margin-top: 10px; padding: 8px; border: 1px solid #eee; border-radius: 4px;'><span style='color: #2c3e50; font-weight: bold;'>HD_INFO</span>:<br><div style='margin-left: 40px; margin-top: 10px; padding: 8px; border: 1px solid #eee; border-radius: 4px;'><span style='color: #2980b9; font-weight: bold;'>description</span>: <span style='color: #e74c3c;'>HDC Model Configuration</span></div><div style='margin-left: 40px; margin-top: 10px; padding: 8px; border: 1px solid #eee; border-radius: 4px;'><span style='color: #2980b9; font-weight: bold;'>HD_DIM</span>: <span style='color: #e74c3c;'>1024</span></div><div style='margin-left: 40px; margin-top: 10px; padding: 8px; border: 1px solid #eee; border-radius: 4px;'><span style='color: #2c3e50; font-weight: bold;'>HD_DATA_TYPE</span>:<br><div style='margin-left: 60px; margin-top: 10px; padding: 8px; border: 1px solid #eee; border-radius: 4px;'><span style='color: #2c3e50; font-weight: bold;'>options</span>:<br><div style='margin-left: 80px; margin-top: 10px; padding: 8px; border: 1px solid #eee; border-radius: 4px;'><span style='color: #2980b9; font-weight: bold;'>BINARY</span>: <span style='color: #e74c3c;'>0</span></div><div style='margin-left: 80px; margin-top: 10px; padding: 8px; border: 1px solid #eee; border-radius: 4px;'><span style='color: #2980b9; font-weight: bold;'>BIPOLAR</span>: <span style='color: #e74c3c;'>1</span></div></div><div style='margin-left: 60px; margin-top: 10px; padding: 8px; border: 1px solid #eee; border-radius: 4px;'><span style='color: #2980b9; font-weight: bold;'>selected</span>: <span style='color: #e74c3c;'>BINARY</span></div></div><div style='margin-left: 40px; margin-top: 10px; padding: 8px; border: 1px solid #eee; border-radius: 4px;'><span style='color: #2c3e50; font-weight: bold;'>HD_MODE</span>:<br><div style='margin-left: 60px; margin-top: 10px; padding: 8px; border: 1px solid #eee; border-radius: 4px;'><span style='color: #2c3e50; font-weight: bold;'>options</span>:<br><div style='margin-left: 80px; margin-top: 10px; padding: 8px; border: 1px solid #eee; border-radius: 4px;'><span style='color: #2980b9; font-weight: bold;'>DENSE</span>: <span style='color: #e74c3c;'>0</span></div><div style='margin-left: 80px; margin-top: 10px; padding: 8px; border: 1px solid #eee; border-radius: 4px;'><span style='color: #2980b9; font-weight: bold;'>SPARSE</span>: <span style='color: #e74c3c;'>1</span></div></div><div style='margin-left: 60px; margin-top: 10px; padding: 8px; border: 1px solid #eee; border-radius: 4px;'><span style='color: #2980b9; font-weight: bold;'>selected</span>: <span style='color: #e74c3c;'>DENSE</span></div></div><div style='margin-left: 40px; margin-top: 10px; padding: 8px; border: 1px solid #eee; border-radius: 4px;'><span style='color: #2c3e50; font-weight: bold;'>HD_SIMI_METHOD</span>:<br><div style='margin-left: 60px; margin-top: 10px; padding: 8px; border: 1px solid #eee; border-radius: 4px;'><span style='color: #2c3e50; font-weight: bold;'>options</span>:<br><div style='margin-left: 80px; margin-top: 10px; padding: 8px; border: 1px solid #eee; border-radius: 4px;'><span style='color: #2980b9; font-weight: bold;'>SIMI_COS</span>: <span style='color: #e74c3c;'>0</span></div><div style='margin-left: 80px; margin-top: 10px; padding: 8px; border: 1px solid #eee; border-radius: 4px;'><span style='color: #2980b9; font-weight: bold;'>SIMI_DPROD</span>: <span style='color: #e74c3c;'>1</span></div><div style='margin-left: 80px; margin-top: 10px; padding: 8px; border: 1px solid #eee; border-radius: 4px;'><span style='color: #2980b9; font-weight: bold;'>SIMI_HAM</span>: <span style='color: #e74c3c;'>2</span></div></div><div style='margin-left: 60px; margin-top: 10px; padding: 8px; border: 1px solid #eee; border-radius: 4px;'><span style='color: #2980b9; font-weight: bold;'>selected</span>: <span style='color: #e74c3c;'>SIMI_HAM</span></div></div><div style='margin-left: 40px; margin-top: 10px; padding: 8px; border: 1px solid #eee; border-radius: 4px;'><span style='color: #2c3e50; font-weight: bold;'>APPROX_SQRT</span>:<br><div style='margin-left: 60px; margin-top: 10px; padding: 8px; border: 1px solid #eee; border-radius: 4px;'><span style='color: #2980b9; font-weight: bold;'>APPROX_SQRT_ON_HW</span>: <span style='color: #e74c3c;'>0</span></div><div style='margin-left: 60px; margin-top: 10px; padding: 8px; border: 1px solid #eee; border-radius: 4px;'><span style='color: #2980b9; font-weight: bold;'>APPROX_SQRT_ON_MODEL</span>: <span style='color: #e74c3c;'>0</span></div></div><div style='margin-left: 40px; margin-top: 10px; padding: 8px; border: 1px solid #eee; border-radius: 4px;'><span style='color: #2980b9; font-weight: bold;'>HD_SIMI_W_BITS</span>: <span style='color: #e74c3c;'>32</span></div><div style='margin-left: 40px; margin-top: 10px; padding: 8px; border: 1px solid #eee; border-radius: 4px;'><span style='color: #2c3e50; font-weight: bold;'>HD_LV_TYPE</span>:<br><div style='margin-left: 60px; margin-top: 10px; padding: 8px; border: 1px solid #eee; border-radius: 4px;'><span style='color: #2c3e50; font-weight: bold;'>options</span>:<br><div style='margin-left: 80px; margin-top: 10px; padding: 8px; border: 1px solid #eee; border-radius: 4px;'><span style='color: #2980b9; font-weight: bold;'>LINEAR</span>: <span style='color: #e74c3c;'>0</span></div><div style='margin-left: 80px; margin-top: 10px; padding: 8px; border: 1px solid #eee; border-radius: 4px;'><span style='color: #2980b9; font-weight: bold;'>APPROX</span>: <span style='color: #e74c3c;'>1</span></div><div style='margin-left: 80px; margin-top: 10px; padding: 8px; border: 1px solid #eee; border-radius: 4px;'><span style='color: #2980b9; font-weight: bold;'>THERMOMETER</span>: <span style='color: #e74c3c;'>2</span></div></div><div style='margin-left: 60px; margin-top: 10px; padding: 8px; border: 1px solid #eee; border-radius: 4px;'><span style='color: #2980b9; font-weight: bold;'>selected</span>: <span style='color: #e74c3c;'>LINEAR</span></div></div><div style='margin-left: 40px; margin-top: 10px; padding: 8px; border: 1px solid #eee; border-radius: 4px;'><span style='color: #2980b9; font-weight: bold;'>HD_LV_LEN</span>: <span style='color: #e74c3c;'>32</span></div><div style='margin-left: 40px; margin-top: 10px; padding: 8px; border: 1px solid #eee; border-radius: 4px;'><span style='color: #2980b9; font-weight: bold;'>SPARSITY_FACTOR_X10</span>: <span style='color: #e74c3c;'>10</span></div><div style='margin-left: 40px; margin-top: 10px; padding: 8px; border: 1px solid #eee; border-radius: 4px;'><span style='color: #2c3e50; font-weight: bold;'>PROBLEM_TYPE</span>:<br><div style='margin-left: 60px; margin-top: 10px; padding: 8px; border: 1px solid #eee; border-radius: 4px;'><span style='color: #2c3e50; font-weight: bold;'>options</span>:<br><div style='margin-left: 80px; margin-top: 10px; padding: 8px; border: 1px solid #eee; border-radius: 4px;'><span style='color: #2980b9; font-weight: bold;'>PROBLEM_TYPE_CLASSIFICATION</span>: <span style='color: #e74c3c;'>0</span></div><div style='margin-left: 80px; margin-top: 10px; padding: 8px; border: 1px solid #eee; border-radius: 4px;'><span style='color: #2980b9; font-weight: bold;'>PROBLEM_TYPE_CLUSTERING</span>: <span style='color: #e74c3c;'>1</span></div><div style='margin-left: 80px; margin-top: 10px; padding: 8px; border: 1px solid #eee; border-radius: 4px;'><span style='color: #2980b9; font-weight: bold;'>PROBLEM_TYPE_REGRESSION</span>: <span style='color: #e74c3c;'>2</span></div></div><div style='margin-left: 60px; margin-top: 10px; padding: 8px; border: 1px solid #eee; border-radius: 4px;'><span style='color: #2980b9; font-weight: bold;'>selected</span>: <span style='color: #e74c3c;'>PROBLEM_TYPE_CLASSIFICATION</span></div></div></div></div><div style='margin-left: 0px; margin-top: 10px; padding: 8px; border: 1px solid #eee; border-radius: 4px;'><span style='color: #2c3e50; font-weight: bold;'>hw_interface</span>:<br><div style='margin-left: 20px; margin-top: 10px; padding: 8px; border: 1px solid #eee; border-radius: 4px;'><span style='color: #2c3e50; font-weight: bold;'>DATA_INTERFACE</span>:<br><div style='margin-left: 40px; margin-top: 10px; padding: 8px; border: 1px solid #eee; border-radius: 4px;'><span style='color: #2980b9; font-weight: bold;'>description</span>: <span style='color: #e74c3c;'>Data Interface Modes</span></div><div style='margin-left: 40px; margin-top: 10px; padding: 8px; border: 1px solid #eee; border-radius: 4px;'><span style='color: #2c3e50; font-weight: bold;'>IN_DATA_MODE</span>:<br><div style='margin-left: 60px; margin-top: 10px; padding: 8px; border: 1px solid #eee; border-radius: 4px;'><span style='color: #2c3e50; font-weight: bold;'>options</span>:<br><div style='margin-left: 80px; margin-top: 10px; padding: 8px; border: 1px solid #eee; border-radius: 4px;'><span style='color: #2980b9; font-weight: bold;'>DI_M_STREAM</span>: <span style='color: #e74c3c;'>0</span></div><div style='margin-left: 80px; margin-top: 10px; padding: 8px; border: 1px solid #eee; border-radius: 4px;'><span style='color: #2980b9; font-weight: bold;'>DI_M_PARTIAL_PARALLEL</span>: <span style='color: #e74c3c;'>1</span></div><div style='margin-left: 80px; margin-top: 10px; padding: 8px; border: 1px solid #eee; border-radius: 4px;'><span style='color: #2980b9; font-weight: bold;'>DI_M_PARALLEL</span>: <span style='color: #e74c3c;'>2</span></div></div><div style='margin-left: 60px; margin-top: 10px; padding: 8px; border: 1px solid #eee; border-radius: 4px;'><span style='color: #2980b9; font-weight: bold;'>selected</span>: <span style='color: #e74c3c;'>DI_M_STREAM</span></div></div><div style='margin-left: 40px; margin-top: 10px; padding: 8px; border: 1px solid #eee; border-radius: 4px;'><span style='color: #2980b9; font-weight: bold;'>AXI_CNTR_PORT_EN</span>: <span style='color: #e74c3c;'>0</span></div><div style='margin-left: 40px; margin-top: 10px; padding: 8px; border: 1px solid #eee; border-radius: 4px;'><span style='color: #2980b9; font-weight: bold;'>PARALLELISM_FEATURES</span>: <span style='color: #e74c3c;'>1</span></div><div style='margin-left: 40px; margin-top: 10px; padding: 8px; border: 1px solid #eee; border-radius: 4px;'><span style='color: #2980b9; font-weight: bold;'>PARALLELISM_CLASS</span>: <span style='color: #e74c3c;'>1</span></div><div style='margin-left: 40px; margin-top: 10px; padding: 8px; border: 1px solid #eee; border-radius: 4px;'><span style='color: #2980b9; font-weight: bold;'>DI_PARALLEL_W_BITS</span>: <span style='color: #e74c3c;'>64</span></div><div style='margin-left: 40px; margin-top: 10px; padding: 8px; border: 1px solid #eee; border-radius: 4px;'><span style='color: #2980b9; font-weight: bold;'>FRAME_SIZE_MIN</span>: <span style='color: #e74c3c;'>64</span></div><div style='margin-left: 40px; margin-top: 10px; padding: 8px; border: 1px solid #eee; border-radius: 4px;'><span style='color: #2980b9; font-weight: bold;'>DI_QUANT_BITS</span>: <span style='color: #e74c3c;'>6</span></div><div style='margin-left: 40px; margin-top: 10px; padding: 8px; border: 1px solid #eee; border-radius: 4px;'><span style='color: #2980b9; font-weight: bold;'>HD_DATA_W_BITS</span>: <span style='color: #e74c3c;'>1</span></div></div><div style='margin-left: 20px; margin-top: 10px; padding: 8px; border: 1px solid #eee; border-radius: 4px;'><span style='color: #2c3e50; font-weight: bold;'>BV_MODES</span>:<br><div style='margin-left: 40px; margin-top: 10px; padding: 8px; border: 1px solid #eee; border-radius: 4px;'><span style='color: #2980b9; font-weight: bold;'>description</span>: <span style='color: #e74c3c;'>Base Vector Modes and Configurations</span></div><div style='margin-left: 40px; margin-top: 10px; padding: 8px; border: 1px solid #eee; border-radius: 4px;'><span style='color: #2c3e50; font-weight: bold;'>BV_MODE</span>:<br><div style='margin-left: 60px; margin-top: 10px; padding: 8px; border: 1px solid #eee; border-radius: 4px;'><span style='color: #2c3e50; font-weight: bold;'>options</span>:<br><div style='margin-left: 80px; margin-top: 10px; padding: 8px; border: 1px solid #eee; border-radius: 4px;'><span style='color: #2980b9; font-weight: bold;'>BV_M_INT_MEM</span>: <span style='color: #e74c3c;'>0</span></div><div style='margin-left: 80px; margin-top: 10px; padding: 8px; border: 1px solid #eee; border-radius: 4px;'><span style='color: #2980b9; font-weight: bold;'>BV_M_EXT</span>: <span style='color: #e74c3c;'>1</span></div><div style='margin-left: 80px; margin-top: 10px; padding: 8px; border: 1px solid #eee; border-radius: 4px;'><span style='color: #2980b9; font-weight: bold;'>BV_M_PERMUTATION</span>: <span style='color: #e74c3c;'>2</span></div><div style='margin-left: 80px; margin-top: 10px; padding: 8px; border: 1px solid #eee; border-radius: 4px;'><span style='color: #2980b9; font-weight: bold;'>BV_M_RND_GEN</span>: <span style='color: #e74c3c;'>3</span></div></div><div style='margin-left: 60px; margin-top: 10px; padding: 8px; border: 1px solid #eee; border-radius: 4px;'><span style='color: #2980b9; font-weight: bold;'>selected</span>: <span style='color: #e74c3c;'>BV_M_INT_MEM</span></div></div><div style='margin-left: 40px; margin-top: 10px; padding: 8px; border: 1px solid #eee; border-radius: 4px;'><span style='color: #2980b9; font-weight: bold;'>BV_DATA_W_BITS</span>: <span style='color: #e74c3c;'>1</span></div><div style='margin-left: 40px; margin-top: 10px; padding: 8px; border: 1px solid #eee; border-radius: 4px;'><span style='color: #2980b9; font-weight: bold;'>BV_IN_DATA_W_BITS</span>: <span style='color: #e74c3c;'>64</span></div><div style='margin-left: 40px; margin-top: 10px; padding: 8px; border: 1px solid #eee; border-radius: 4px;'><span style='color: #2980b9; font-weight: bold;'>BV_RND_GEN_W_BITS</span>: <span style='color: #e74c3c;'>64</span></div></div><div style='margin-left: 20px; margin-top: 10px; padding: 8px; border: 1px solid #eee; border-radius: 4px;'><span style='color: #2c3e50; font-weight: bold;'>LV_MODES</span>:<br><div style='margin-left: 40px; margin-top: 10px; padding: 8px; border: 1px solid #eee; border-radius: 4px;'><span style='color: #2980b9; font-weight: bold;'>description</span>: <span style='color: #e74c3c;'>Level Vector Modes and Configurations</span></div><div style='margin-left: 40px; margin-top: 10px; padding: 8px; border: 1px solid #eee; border-radius: 4px;'><span style='color: #2c3e50; font-weight: bold;'>LV_MODE</span>:<br><div style='margin-left: 60px; margin-top: 10px; padding: 8px; border: 1px solid #eee; border-radius: 4px;'><span style='color: #2c3e50; font-weight: bold;'>options</span>:<br><div style='margin-left: 80px; margin-top: 10px; padding: 8px; border: 1px solid #eee; border-radius: 4px;'><span style='color: #2980b9; font-weight: bold;'>LV_M_INT_MEM</span>: <span style='color: #e74c3c;'>0</span></div><div style='margin-left: 80px; margin-top: 10px; padding: 8px; border: 1px solid #eee; border-radius: 4px;'><span style='color: #2980b9; font-weight: bold;'>LV_M_EXT</span>: <span style='color: #e74c3c;'>1</span></div><div style='margin-left: 80px; margin-top: 10px; padding: 8px; border: 1px solid #eee; border-radius: 4px;'><span style='color: #2980b9; font-weight: bold;'>LV_M_LOGIC</span>: <span style='color: #e74c3c;'>2</span></div><div style='margin-left: 80px; margin-top: 10px; padding: 8px; border: 1px solid #eee; border-radius: 4px;'><span style='color: #2980b9; font-weight: bold;'>LV_M_HDL_GEN</span>: <span style='color: #e74c3c;'>3</span></div></div><div style='margin-left: 60px; margin-top: 10px; padding: 8px; border: 1px solid #eee; border-radius: 4px;'><span style='color: #2980b9; font-weight: bold;'>selected</span>: <span style='color: #e74c3c;'>LV_M_INT_MEM</span></div></div><div style='margin-left: 40px; margin-top: 10px; padding: 8px; border: 1px solid #eee; border-radius: 4px;'><span style='color: #2980b9; font-weight: bold;'>LV_DATA_W_BITS</span>: <span style='color: #e74c3c;'>1</span></div><div style='margin-left: 40px; margin-top: 10px; padding: 8px; border: 1px solid #eee; border-radius: 4px;'><span style='color: #2980b9; font-weight: bold;'>LV_IN_DATA_W_BITS</span>: <span style='color: #e74c3c;'>64</span></div><div style='margin-left: 40px; margin-top: 10px; padding: 8px; border: 1px solid #eee; border-radius: 4px;'><span style='color: #2980b9; font-weight: bold;'>LV_M_APPROX_RND_GEN_W_BITS</span>: <span style='color: #e74c3c;'>64</span></div></div><div style='margin-left: 20px; margin-top: 10px; padding: 8px; border: 1px solid #eee; border-radius: 4px;'><span style='color: #2c3e50; font-weight: bold;'>CV_MODES</span>:<br><div style='margin-left: 40px; margin-top: 10px; padding: 8px; border: 1px solid #eee; border-radius: 4px;'><span style='color: #2980b9; font-weight: bold;'>description</span>: <span style='color: #e74c3c;'>Class Vector Modes and Configurations</span></div><div style='margin-left: 40px; margin-top: 10px; padding: 8px; border: 1px solid #eee; border-radius: 4px;'><span style='color: #2c3e50; font-weight: bold;'>CV_MODE</span>:<br><div style='margin-left: 60px; margin-top: 10px; padding: 8px; border: 1px solid #eee; border-radius: 4px;'><span style='color: #2c3e50; font-weight: bold;'>options</span>:<br><div style='margin-left: 80px; margin-top: 10px; padding: 8px; border: 1px solid #eee; border-radius: 4px;'><span style='color: #2980b9; font-weight: bold;'>CV_M_INT_MEM</span>: <span style='color: #e74c3c;'>0</span></div><div style='margin-left: 80px; margin-top: 10px; padding: 8px; border: 1px solid #eee; border-radius: 4px;'><span style='color: #2980b9; font-weight: bold;'>CV_M_EXT</span>: <span style='color: #e74c3c;'>1</span></div><div style='margin-left: 80px; margin-top: 10px; padding: 8px; border: 1px solid #eee; border-radius: 4px;'><span style='color: #2980b9; font-weight: bold;'>CV_M_HDL_GEN</span>: <span style='color: #e74c3c;'>2</span></div></div><div style='margin-left: 60px; margin-top: 10px; padding: 8px; border: 1px solid #eee; border-radius: 4px;'><span style='color: #2980b9; font-weight: bold;'>selected</span>: <span style='color: #e74c3c;'>CV_M_INT_MEM</span></div></div><div style='margin-left: 40px; margin-top: 10px; padding: 8px; border: 1px solid #eee; border-radius: 4px;'><span style='color: #2980b9; font-weight: bold;'>CV_DATA_W_BITS</span>: <span style='color: #e74c3c;'>1</span></div><div style='margin-left: 40px; margin-top: 10px; padding: 8px; border: 1px solid #eee; border-radius: 4px;'><span style='color: #2980b9; font-weight: bold;'>CV_IN_DATA_W_BITS</span>: <span style='color: #e74c3c;'>64</span></div></div></div><div style='margin-left: 0px; margin-top: 10px; padding: 8px; border: 1px solid #eee; border-radius: 4px;'><span style='color: #2c3e50; font-weight: bold;'>INTERFACE_DETAILS</span>:<br><div style='margin-left: 20px; margin-top: 10px; padding: 8px; border: 1px solid #eee; border-radius: 4px;'><span style='color: #2980b9; font-weight: bold;'>DI_FEATUREID_W_BITS</span>: <span style='color: #e74c3c;'>10</span></div><div style='margin-left: 20px; margin-top: 10px; padding: 8px; border: 1px solid #eee; border-radius: 4px;'><span style='color: #2980b9; font-weight: bold;'>DI_FRAMEID_W_BITS</span>: <span style='color: #e74c3c;'>10</span></div><div style='margin-left: 20px; margin-top: 10px; padding: 8px; border: 1px solid #eee; border-radius: 4px;'><span style='color: #2980b9; font-weight: bold;'>DO_CLASS_W_BITS</span>: <span style='color: #e74c3c;'>6</span></div><div style='margin-left: 20px; margin-top: 10px; padding: 8px; border: 1px solid #eee; border-radius: 4px;'><span style='color: #2980b9; font-weight: bold;'>DO_STATUS_W_BITS</span>: <span style='color: #e74c3c;'>5</span></div></div><div style='margin-left: 0px; margin-top: 10px; padding: 8px; border: 1px solid #eee; border-radius: 4px;'><span style='color: #2c3e50; font-weight: bold;'>HD_ENCODING</span>:<br><div style='margin-left: 20px; margin-top: 10px; padding: 8px; border: 1px solid #eee; border-radius: 4px;'><span style='color: #2980b9; font-weight: bold;'>HD_BUNDLE_W_BITS</span>: <span style='color: #e74c3c;'>32</span></div><div style='margin-left: 20px; margin-top: 10px; padding: 8px; border: 1px solid #eee; border-radius: 4px;'><span style='color: #2980b9; font-weight: bold;'>SPARSITY_FACTOR_X10</span>: <span style='color: #e74c3c;'>5</span></div><div style='margin-left: 20px; margin-top: 10px; padding: 8px; border: 1px solid #eee; border-radius: 4px;'><span style='color: #2c3e50; font-weight: bold;'>ENCODING_TECHNIQUE</span>:<br><div style='margin-left: 40px; margin-top: 10px; padding: 8px; border: 1px solid #eee; border-radius: 4px;'><span style='color: #2c3e50; font-weight: bold;'>options</span>:<br><div style='margin-left: 60px; margin-top: 10px; padding: 8px; border: 1px solid #eee; border-radius: 4px;'><span style='color: #2980b9; font-weight: bold;'>ENCODING_RECORD</span>: <span style='color: #e74c3c;'>0</span></div><div style='margin-left: 60px; margin-top: 10px; padding: 8px; border: 1px solid #eee; border-radius: 4px;'><span style='color: #2980b9; font-weight: bold;'>ENCODING_NGRAM</span>: <span style='color: #e74c3c;'>1</span></div></div><div style='margin-left: 40px; margin-top: 10px; padding: 8px; border: 1px solid #eee; border-radius: 4px;'><span style='color: #2980b9; font-weight: bold;'>selected</span>: <span style='color: #e74c3c;'>ENCODING_RECORD</span></div></div><div style='margin-left: 20px; margin-top: 10px; padding: 8px; border: 1px solid #eee; border-radius: 4px;'><span style='color: #2980b9; font-weight: bold;'>N_GRAM_SIZE</span>: <span style='color: #e74c3c;'>2</span></div><div style='margin-left: 20px; margin-top: 10px; padding: 8px; border: 1px solid #eee; border-radius: 4px;'><span style='color: #2980b9; font-weight: bold;'>N_GRAM</span>: <span style='color: #e74c3c;'>0</span></div></div><div style='margin-left: 0px; margin-top: 10px; padding: 8px; border: 1px solid #eee; border-radius: 4px;'><span style='color: #2c3e50; font-weight: bold;'>CLIPPING</span>:<br><div style='margin-left: 20px; margin-top: 10px; padding: 8px; border: 1px solid #eee; border-radius: 4px;'><span style='color: #2c3e50; font-weight: bold;'>CLIPPING_ENCODING</span>:<br><div style='margin-left: 40px; margin-top: 10px; padding: 8px; border: 1px solid #eee; border-radius: 4px;'><span style='color: #2c3e50; font-weight: bold;'>options</span>:<br><div style='margin-left: 60px; margin-top: 10px; padding: 8px; border: 1px solid #eee; border-radius: 4px;'><span style='color: #2980b9; font-weight: bold;'>CLIPPING_DISABLE</span>: <span style='color: #e74c3c;'>0</span></div><div style='margin-left: 60px; margin-top: 10px; padding: 8px; border: 1px solid #eee; border-radius: 4px;'><span style='color: #2980b9; font-weight: bold;'>CLIPPING_BINARY</span>: <span style='color: #e74c3c;'>1</span></div><div style='margin-left: 60px; margin-top: 10px; padding: 8px; border: 1px solid #eee; border-radius: 4px;'><span style='color: #2980b9; font-weight: bold;'>CLIPPING_TERNARY</span>: <span style='color: #e74c3c;'>2</span></div><div style='margin-left: 60px; margin-top: 10px; padding: 8px; border: 1px solid #eee; border-radius: 4px;'><span style='color: #2980b9; font-weight: bold;'>CLIPPING_QUANTIZED</span>: <span style='color: #e74c3c;'>3</span></div><div style='margin-left: 60px; margin-top: 10px; padding: 8px; border: 1px solid #eee; border-radius: 4px;'><span style='color: #2980b9; font-weight: bold;'>CLIPPING_POWERTWO</span>: <span style='color: #e74c3c;'>4</span></div><div style='margin-left: 60px; margin-top: 10px; padding: 8px; border: 1px solid #eee; border-radius: 4px;'><span style='color: #2980b9; font-weight: bold;'>CLIPPING_QUANTIZED_POWERTWO</span>: <span style='color: #e74c3c;'>5</span></div><div style='margin-left: 60px; margin-top: 10px; padding: 8px; border: 1px solid #eee; border-radius: 4px;'><span style='color: #2980b9; font-weight: bold;'>CLIPPING_THRESHOLD</span>: <span style='color: #e74c3c;'>6</span></div></div><div style='margin-left: 40px; margin-top: 10px; padding: 8px; border: 1px solid #eee; border-radius: 4px;'><span style='color: #2980b9; font-weight: bold;'>selected</span>: <span style='color: #e74c3c;'>CLIPPING_BINARY</span></div></div><div style='margin-left: 20px; margin-top: 10px; padding: 8px; border: 1px solid #eee; border-radius: 4px;'><span style='color: #2c3e50; font-weight: bold;'>CLIPPING_CLASS</span>:<br><div style='margin-left: 40px; margin-top: 10px; padding: 8px; border: 1px solid #eee; border-radius: 4px;'><span style='color: #2c3e50; font-weight: bold;'>options</span>:<br><div style='margin-left: 60px; margin-top: 10px; padding: 8px; border: 1px solid #eee; border-radius: 4px;'><span style='color: #2980b9; font-weight: bold;'>CLIPPING_DISABLE</span>: <span style='color: #e74c3c;'>0</span></div><div style='margin-left: 60px; margin-top: 10px; padding: 8px; border: 1px solid #eee; border-radius: 4px;'><span style='color: #2980b9; font-weight: bold;'>CLIPPING_BINARY</span>: <span style='color: #e74c3c;'>1</span></div><div style='margin-left: 60px; margin-top: 10px; padding: 8px; border: 1px solid #eee; border-radius: 4px;'><span style='color: #2980b9; font-weight: bold;'>CLIPPING_TERNARY</span>: <span style='color: #e74c3c;'>2</span></div><div style='margin-left: 60px; margin-top: 10px; padding: 8px; border: 1px solid #eee; border-radius: 4px;'><span style='color: #2980b9; font-weight: bold;'>CLIPPING_QUANTIZED</span>: <span style='color: #e74c3c;'>3</span></div><div style='margin-left: 60px; margin-top: 10px; padding: 8px; border: 1px solid #eee; border-radius: 4px;'><span style='color: #2980b9; font-weight: bold;'>CLIPPING_POWERTWO</span>: <span style='color: #e74c3c;'>4</span></div><div style='margin-left: 60px; margin-top: 10px; padding: 8px; border: 1px solid #eee; border-radius: 4px;'><span style='color: #2980b9; font-weight: bold;'>CLIPPING_QUANTIZED_POWERTWO</span>: <span style='color: #e74c3c;'>5</span></div><div style='margin-left: 60px; margin-top: 10px; padding: 8px; border: 1px solid #eee; border-radius: 4px;'><span style='color: #2980b9; font-weight: bold;'>CLIPPING_THRESHOLD</span>: <span style='color: #e74c3c;'>6</span></div></div><div style='margin-left: 40px; margin-top: 10px; padding: 8px; border: 1px solid #eee; border-radius: 4px;'><span style='color: #2980b9; font-weight: bold;'>selected</span>: <span style='color: #e74c3c;'>CLIPPING_BINARY</span></div></div><div style='margin-left: 20px; margin-top: 10px; padding: 8px; border: 1px solid #eee; border-radius: 4px;'><span style='color: #2c3e50; font-weight: bold;'>CLIPPING_BINARY_METHOD_FOR_VALUE_EQ_HALF_HD_DIM</span>:<br><div style='margin-left: 40px; margin-top: 10px; padding: 8px; border: 1px solid #eee; border-radius: 4px;'><span style='color: #2c3e50; font-weight: bold;'>options</span>:<br><div style='margin-left: 60px; margin-top: 10px; padding: 8px; border: 1px solid #eee; border-radius: 4px;'><span style='color: #2980b9; font-weight: bold;'>CLIPPING_BINARY_FOR_VALUE_EQ_HALF_HD_DIM_USE_TOGGLING</span>: <span style='color: #e74c3c;'>0</span></div><div style='margin-left: 60px; margin-top: 10px; padding: 8px; border: 1px solid #eee; border-radius: 4px;'><span style='color: #2980b9; font-weight: bold;'>CLIPPING_BINARY_FOR_VALUE_EQ_HALF_HD_DIM_SET_ZERO</span>: <span style='color: #e74c3c;'>1</span></div></div><div style='margin-left: 40px; margin-top: 10px; padding: 8px; border: 1px solid #eee; border-radius: 4px;'><span style='color: #2980b9; font-weight: bold;'>selected</span>: <span style='color: #e74c3c;'>CLIPPING_BINARY_FOR_VALUE_EQ_HALF_HD_DIM_SET_ZERO</span></div></div><div style='margin-left: 20px; margin-top: 10px; padding: 8px; border: 1px solid #eee; border-radius: 4px;'><span style='color: #2980b9; font-weight: bold;'>HW_CLIPPING_AFTER_TRAIN</span>: <span style='color: #e74c3c;'>0</span></div><div style='margin-left: 20px; margin-top: 10px; padding: 8px; border: 1px solid #eee; border-radius: 4px;'><span style='color: #2980b9; font-weight: bold;'>QUANT_MIN</span>: <span style='color: #e74c3c;'>0</span></div><div style='margin-left: 20px; margin-top: 10px; padding: 8px; border: 1px solid #eee; border-radius: 4px;'><span style='color: #2980b9; font-weight: bold;'>QUANT_MAX</span>: <span style='color: #e74c3c;'>1</span></div></div><div style='margin-left: 0px; margin-top: 10px; padding: 8px; border: 1px solid #eee; border-radius: 4px;'><span style='color: #2c3e50; font-weight: bold;'>LEARNING_RATE</span>:<br><div style='margin-left: 20px; margin-top: 10px; padding: 8px; border: 1px solid #eee; border-radius: 4px;'><span style='color: #2c3e50; font-weight: bold;'>LR_DECAY</span>:<br><div style='margin-left: 40px; margin-top: 10px; padding: 8px; border: 1px solid #eee; border-radius: 4px;'><span style='color: #2c3e50; font-weight: bold;'>options</span>:<br><div style='margin-left: 60px; margin-top: 10px; padding: 8px; border: 1px solid #eee; border-radius: 4px;'><span style='color: #2980b9; font-weight: bold;'>LR_CONSTANT</span>: <span style='color: #e74c3c;'>0</span></div><div style='margin-left: 60px; margin-top: 10px; padding: 8px; border: 1px solid #eee; border-radius: 4px;'><span style='color: #2980b9; font-weight: bold;'>LR_ITER</span>: <span style='color: #e74c3c;'>1</span></div><div style='margin-left: 60px; margin-top: 10px; padding: 8px; border: 1px solid #eee; border-radius: 4px;'><span style='color: #2980b9; font-weight: bold;'>LR_DATA</span>: <span style='color: #e74c3c;'>2</span></div><div style='margin-left: 60px; margin-top: 10px; padding: 8px; border: 1px solid #eee; border-radius: 4px;'><span style='color: #2980b9; font-weight: bold;'>LR_HYBRID</span>: <span style='color: #e74c3c;'>3</span></div></div><div style='margin-left: 40px; margin-top: 10px; padding: 8px; border: 1px solid #eee; border-radius: 4px;'><span style='color: #2980b9; font-weight: bold;'>selected</span>: <span style='color: #e74c3c;'>LR_CONSTANT</span></div></div><div style='margin-left: 20px; margin-top: 10px; padding: 8px; border: 1px solid #eee; border-radius: 4px;'><span style='color: #2980b9; font-weight: bold;'>MAX_LEARNING_RATE</span>: <span style='color: #e74c3c;'>10</span></div><div style='margin-left: 20px; margin-top: 10px; padding: 8px; border: 1px solid #eee; border-radius: 4px;'><span style='color: #2980b9; font-weight: bold;'>BETA_LR</span>: <span style='color: #e74c3c;'>3</span></div><div style='margin-left: 20px; margin-top: 10px; padding: 8px; border: 1px solid #eee; border-radius: 4px;'><span style='color: #2980b9; font-weight: bold;'>RETRAIN</span>: <span style='color: #e74c3c;'>0</span></div></div><div style='margin-left: 0px; margin-top: 10px; padding: 8px; border: 1px solid #eee; border-radius: 4px;'><span style='color: #2c3e50; font-weight: bold;'>TOOLS</span>:<br><div style='margin-left: 20px; margin-top: 10px; padding: 8px; border: 1px solid #eee; border-radius: 4px;'><span style='color: #2980b9; font-weight: bold;'>VITIS_HLS_XILINX_PATH</span>: <span style='color: #e74c3c;'>C:/Xilinx/Vitis_HLS/2023.1/bin/vitis_hls.bat</span></div><div style='margin-left: 20px; margin-top: 10px; padding: 8px; border: 1px solid #eee; border-radius: 4px;'><span style='color: #2980b9; font-weight: bold;'>VIVADO_XILINX_PATH</span>: <span style='color: #e74c3c;'>C:/Xilinx/Vivado/2023.1/bin/vivado.bat</span></div><div style='margin-left: 20px; margin-top: 10px; padding: 8px; border: 1px solid #eee; border-radius: 4px;'><span style='color: #2980b9; font-weight: bold;'>VITIS_XILINX_PATH</span>: <span style='color: #e74c3c;'>C:/Xilinx/Vitis/2023.1/bin/vitis.bat</span></div></div></div>"
      ],
      "text/plain": [
       "<IPython.core.display.HTML object>"
      ]
     },
     "metadata": {},
     "output_type": "display_data"
    },
    {
     "name": "stdout",
     "output_type": "stream",
     "text": [
      "Do you want to change the configuration? (yes = y, no = n)\n"
     ]
    }
   ],
   "source": [
    "print(\"Initialising Aeneas...\")\n",
    "aeneas = Aeneas()\n",
    "\n",
    "print(\"Selected Configuration...\")\n",
    "aeneas.configuration.print()\n",
    "\n",
    "print(\"Do you want to change the configuration? (yes = y, no = n)\")\n",
    "answer=input\n",
    "if (answer==\"y\"):\n",
    "    aeneas.configuration.run_gui()\n",
    "    aeneas.configuration.read()\n",
    "    aeneas.configuration.compile()\n",
    "    aeneas.configuration.save()"
   ]
  },
  {
   "cell_type": "markdown",
   "id": "cf90810a",
   "metadata": {},
   "source": [
    "<div style=\"background-color: #2D3748; padding: 8px 12px; margin: 5px 0; border-radius: 4px; color: white; font-size: 20px; font-weight: bold;\">Software Model </div>\n"
   ]
  },
  {
   "cell_type": "code",
   "execution_count": 4,
   "id": "7ff9a70c",
   "metadata": {},
   "outputs": [
    {
     "name": "stdout",
     "output_type": "stream",
     "text": [
      "Running the Software Model...\n",
      "None\n"
     ]
    },
    {
     "name": "stderr",
     "output_type": "stream",
     "text": [
      "Traceback (most recent call last):\r\n",
      "  File \"C:\\Reconfigurable_HDC_Platform\\src\\model\\python\\model.py\", line 61, in <module>\r\n",
      "    import config_py as config\r\n",
      "ModuleNotFoundError: No module named 'config_py'\r\n"
     ]
    }
   ],
   "source": [
    "print(\"Running the Software Model...\")\n",
    "results = aeneas.model.run();\n",
    "print(results)"
   ]
  },
  {
   "cell_type": "code",
   "execution_count": 17,
   "id": "8260d6be",
   "metadata": {},
   "outputs": [
    {
     "name": "stdout",
     "output_type": "stream",
     "text": [
      "C:\\Reconfigurable_HDC_Platform\\projects\n"
     ]
    },
    {
     "name": "stderr",
     "output_type": "stream",
     "text": [
      "Traceback (most recent call last):\r\n",
      "  File \"C:\\Reconfigurable_HDC_Platform\\src\\model\\python\\model.py\", line 61, in <module>\r\n",
      "    import config_py as config\r\n",
      "ModuleNotFoundError: No module named 'config_py'\r\n"
     ]
    }
   ],
   "source": [
    "results = aeneas.model.run();\n",
    "\n",
    "sys.path.append('./src/config/')\n",
    "sys.path\n",
    "cwd = os.getcwd()\n",
    "print(cwd)"
   ]
  },
  {
   "cell_type": "code",
   "execution_count": null,
   "id": "86ea4329",
   "metadata": {},
   "outputs": [],
   "source": [
    "print(\"Evaluation of the Software Model performances...\")\n",
    "results = aeneas.model.get_eval();\n",
    "print(results)\n",
    "results = aeneas.visualizer.plot_confusion_matrix(results['confusion_matrix']);"
   ]
  },
  {
   "cell_type": "markdown",
   "id": "d8748a83",
   "metadata": {},
   "source": [
    "<div style=\"background-color: #2D3748; padding: 8px 12px; margin: 5px 0; border-radius: 4px; color: white; font-size: 20px; font-weight: bold;\">Hardware Model </div>\n"
   ]
  },
  {
   "cell_type": "code",
   "execution_count": null,
   "id": "72d1abb5",
   "metadata": {},
   "outputs": [],
   "source": [
    "print(\"Generating the Hardware Model using VitisHLS...\")\n",
    "aeneas.hdl.run_simulation();\n",
    "\n",
    "print(\"Synthesizing the Hardware Model using Vivado...\")\n",
    "aeneas.hdl.run_synthesis();\n",
    "print(\"Evaluation of the Hardware Model performances and requirements...\")"
   ]
  },
  {
   "cell_type": "markdown",
   "id": "78ff70c2",
   "metadata": {},
   "source": [
    "<div style=\"background-color: #2D3748; padding: 8px 12px; margin: 5px 0; border-radius: 4px; color: white; font-size: 20px; font-weight: bold;\">Report </div>\n"
   ]
  },
  {
   "cell_type": "code",
   "execution_count": null,
   "id": "2c1531e9",
   "metadata": {},
   "outputs": [],
   "source": [
    "print(\"AeneasHDC succesfully generated the required HDC models in software and hardware. Check the obtained results on the dedicated HTML page.\")\n",
    "aeneas.report.open()"
   ]
  }
 ],
 "metadata": {
  "kernelspec": {
   "display_name": "Python 3 (ipykernel)",
   "language": "python",
   "name": "python3"
  },
  "language_info": {
   "codemirror_mode": {
    "name": "ipython",
    "version": 3
   },
   "file_extension": ".py",
   "mimetype": "text/x-python",
   "name": "python",
   "nbconvert_exporter": "python",
   "pygments_lexer": "ipython3",
   "version": "3.11.4"
  }
 },
 "nbformat": 4,
 "nbformat_minor": 5
}
