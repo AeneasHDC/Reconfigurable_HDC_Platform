{
 "cells": [
  {
   "cell_type": "markdown",
   "id": "56b65b72",
   "metadata": {},
   "source": [
    "<div style=\"background-color: #f4f4f4; padding: 20px; border-radius: 15px; text-align: center; box-shadow: 0px 4px 10px rgba(0,0,0,0.1);\">\n",
    "    <img src=\"../doc/img/logo/AeneasHDC_white.png\" width=\"25%\" style=\"background-color: #2D3748; margin-bottom: 10px; border-radius: 10px; \">\n",
    "    <h1 style=\"color: #2D3748; font-size: 36px; font-weight: bold;text-align:center;\">Aeneas HyperCompute Platform</h1>\n",
    "</div>\n"
   ]
  },
  {
   "cell_type": "code",
   "execution_count": null,
   "id": "9498ed0a",
   "metadata": {},
   "outputs": [],
   "source": [
    "# !pip install -r ../requirements.txt\n",
    "import sys\n",
    "import json\n",
    "import os\n",
    "cwd = os.getcwd()\n",
    "print(cwd)\n",
    "sys.path.append('../main/')  \n",
    "sys.path.append('../src/config/')\n",
    "import notebook_setup as aeneas_style\n",
    "aeneas_style.setup_html_css()\n",
    "aeneas_style.setup_html_css()\n",
    "from datetime import datetime\n",
    "\n",
    "# import config_py as config\n",
    "# from main import Aeneas\n",
    "\n"
   ]
  },
  {
   "cell_type": "markdown",
   "id": "7518f696",
   "metadata": {},
   "source": [
    "<div style=\"background-color: #2D3748; padding: 8px 12px; margin: 5px 0; border-radius: 4px; color: white; font-size: 20px; font-weight: bold;\">Model Initialization </div>\n"
   ]
  },
  {
   "cell_type": "code",
   "execution_count": null,
   "id": "3bc45e0d",
   "metadata": {},
   "outputs": [],
   "source": [
    "print(\"Initialising Aeneas...\")\n",
    "aeneas = Aeneas()\n",
    "\n",
    "print(\"Selected Configuration...\")\n",
    "aeneas.configuration.print()\n",
    "\n",
    "print(\"Do you want to change the configuration? (yes = y, no = n)\")\n",
    "answer=input\n",
    "if (answer==y):\n",
    "    aeneas.configuration.run_gui()\n",
    "    aeneas.configuration.read()\n",
    "    aeneas.configuration.compile()\n",
    "    aeneas.configuration.save()"
   ]
  },
  {
   "cell_type": "markdown",
   "id": "cf90810a",
   "metadata": {},
   "source": [
    "<div style=\"background-color: #2D3748; padding: 8px 12px; margin: 5px 0; border-radius: 4px; color: white; font-size: 20px; font-weight: bold;\">Software Model </div>\n"
   ]
  },
  {
   "cell_type": "code",
   "execution_count": 124,
   "id": "7ff9a70c",
   "metadata": {},
   "outputs": [
    {
     "name": "stdout",
     "output_type": "stream",
     "text": [
      "y\n"
     ]
    }
   ],
   "source": [
    "print(\"Running the Software Model...\")\n",
    "results = aeneas.model.run();\n",
    "print(results)"
   ]
  },
  {
   "cell_type": "code",
   "execution_count": null,
   "id": "86ea4329",
   "metadata": {},
   "outputs": [],
   "source": [
    "print(\"Evaluation of the Software Model performances...\")\n",
    "results = aeneas.model.get_eval();\n",
    "print(results)\n",
    "results = aeneas.visualizer.plot_confusion_matrix(results['confusion_matrix']);"
   ]
  },
  {
   "cell_type": "markdown",
   "id": "d8748a83",
   "metadata": {},
   "source": [
    "<div style=\"background-color: #2D3748; padding: 8px 12px; margin: 5px 0; border-radius: 4px; color: white; font-size: 20px; font-weight: bold;\">Hardware Model </div>\n"
   ]
  },
  {
   "cell_type": "code",
   "execution_count": null,
   "id": "72d1abb5",
   "metadata": {},
   "outputs": [],
   "source": [
    "print(\"Generating the Hardware Model using VitisHLS...\")\n",
    "aeneas.hdl.run_simulation();\n",
    "\n",
    "print(\"Synthesizing the Hardware Model using Vivado...\")\n",
    "aeneas.hdl.run_synthesis();\n",
    "print(\"Evaluation of the Hardware Model performances and requirements...\")"
   ]
  },
  {
   "cell_type": "markdown",
   "id": "78ff70c2",
   "metadata": {},
   "source": [
    "<div style=\"background-color: #2D3748; padding: 8px 12px; margin: 5px 0; border-radius: 4px; color: white; font-size: 20px; font-weight: bold;\">Report </div>\n"
   ]
  },
  {
   "cell_type": "code",
   "execution_count": null,
   "id": "2c1531e9",
   "metadata": {},
   "outputs": [],
   "source": [
    "print(\"AeneasHDC succesfully generated the required HDC models in software and hardware. Check the obtained results on the dedicated HTML page.\")\n",
    "aeneas.report.open()"
   ]
  }
 ],
 "metadata": {
  "kernelspec": {
   "display_name": "Python 3 (ipykernel)",
   "language": "python",
   "name": "python3"
  },
  "language_info": {
   "codemirror_mode": {
    "name": "ipython",
    "version": 3
   },
   "file_extension": ".py",
   "mimetype": "text/x-python",
   "name": "python",
   "nbconvert_exporter": "python",
   "pygments_lexer": "ipython3",
   "version": "3.9.12"
  }
 },
 "nbformat": 4,
 "nbformat_minor": 5
}
