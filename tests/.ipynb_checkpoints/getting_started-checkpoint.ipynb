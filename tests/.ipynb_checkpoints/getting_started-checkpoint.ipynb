{
 "cells": [
  {
   "cell_type": "markdown",
   "metadata": {},
   "source": [
    "<div style=\"background-color: #f4f4f4; padding: 40px; border-radius: 15px; text-align: center; box-shadow: 0px 4px 10px rgba(0,0,0,0.1);\">\n",
    "    <img src=\"./doc/img/logo/AeneasHDC.png\" width=\"25%\" style=\"margin-bottom: 20px; border-radius: 10px; box-shadow: 0px 5px 15px rgba(0,0,0,0.1);\">\n",
    "    <h1 style=\"color: #2D3748; font-size: 36px; font-weight: bold;\">Aeneas HyperCompute Platform</h1>\n",
    "</div>\n",
    "<div style=\"height: 1px; background: linear-gradient(90deg, rgba(0,0,255,0), rgba(0,0,255,0.8), rgba(0,0,255,0)); margin-top: 20px; margin-bottom: 20px;\"></div>\n"
   ]
  },
  {
   "cell_type": "code",
   "execution_count": null,
   "metadata": {},
   "outputs": [],
   "source": []
  },
  {
   "cell_type": "markdown",
   "metadata": {},
   "source": [
    "<div style=\"background-color: #4CAF50; padding: 10px 15px; margin: 5px 0; border-radius: 5px; color: white; font-size: 24px; font-weight: bold;\">Setup</div>\n"
   ]
  },
  {
   "cell_type": "markdown",
   "metadata": {},
   "source": [
    "<div style=\"background-color: #2196F3; padding: 8px 12px; margin: 5px 0; border-radius: 4px; color: white; font-size: 20px; font-weight: bold;\">Install requirements </div>\n"
   ]
  },
  {
   "cell_type": "code",
   "execution_count": 1,
   "metadata": {
    "scrolled": false
   },
   "outputs": [
    {
     "name": "stdout",
     "output_type": "stream",
     "text": [
      "Requirement already satisfied: Jinja2==3.1.2 in c:\\users\\saeid\\anaconda3\\lib\\site-packages (from -r ./requirements.txt (line 1)) (3.1.2)\n",
      "Requirement already satisfied: matplotlib==3.7.2 in c:\\users\\saeid\\anaconda3\\lib\\site-packages (from -r ./requirements.txt (line 2)) (3.7.2)\n",
      "Requirement already satisfied: numpy==1.25.2 in c:\\users\\saeid\\anaconda3\\lib\\site-packages (from -r ./requirements.txt (line 3)) (1.25.2)\n",
      "Requirement already satisfied: pandas==2.1.0 in c:\\users\\saeid\\anaconda3\\lib\\site-packages (from -r ./requirements.txt (line 4)) (2.1.0)\n",
      "Requirement already satisfied: pdfkit==1.0.0 in c:\\users\\saeid\\anaconda3\\lib\\site-packages (from -r ./requirements.txt (line 5)) (1.0.0)\n",
      "Requirement already satisfied: PyQt5==5.15.9 in c:\\users\\saeid\\anaconda3\\lib\\site-packages (from -r ./requirements.txt (line 6)) (5.15.9)\n",
      "Requirement already satisfied: scikit_learn==1.3.0 in c:\\users\\saeid\\anaconda3\\lib\\site-packages (from -r ./requirements.txt (line 7)) (1.3.0)\n",
      "Requirement already satisfied: scipy==1.11.2 in c:\\users\\saeid\\anaconda3\\lib\\site-packages (from -r ./requirements.txt (line 8)) (1.11.2)\n",
      "Requirement already satisfied: seaborn==0.12.2 in c:\\users\\saeid\\anaconda3\\lib\\site-packages (from -r ./requirements.txt (line 9)) (0.12.2)\n",
      "Requirement already satisfied: VectorUtils==2.1.4 in c:\\users\\saeid\\anaconda3\\lib\\site-packages (from -r ./requirements.txt (line 10)) (2.1.4)\n",
      "Requirement already satisfied: xmltodict==0.13.0 in c:\\users\\saeid\\anaconda3\\lib\\site-packages (from -r ./requirements.txt (line 11)) (0.13.0)\n",
      "Requirement already satisfied: MarkupSafe>=2.0 in c:\\users\\saeid\\anaconda3\\lib\\site-packages (from Jinja2==3.1.2->-r ./requirements.txt (line 1)) (2.1.1)\n",
      "Requirement already satisfied: contourpy>=1.0.1 in c:\\users\\saeid\\anaconda3\\lib\\site-packages (from matplotlib==3.7.2->-r ./requirements.txt (line 2)) (1.0.5)\n",
      "Requirement already satisfied: cycler>=0.10 in c:\\users\\saeid\\anaconda3\\lib\\site-packages (from matplotlib==3.7.2->-r ./requirements.txt (line 2)) (0.11.0)\n",
      "Requirement already satisfied: fonttools>=4.22.0 in c:\\users\\saeid\\anaconda3\\lib\\site-packages (from matplotlib==3.7.2->-r ./requirements.txt (line 2)) (4.25.0)\n",
      "Requirement already satisfied: kiwisolver>=1.0.1 in c:\\users\\saeid\\anaconda3\\lib\\site-packages (from matplotlib==3.7.2->-r ./requirements.txt (line 2)) (1.4.4)\n",
      "Requirement already satisfied: packaging>=20.0 in c:\\users\\saeid\\anaconda3\\lib\\site-packages (from matplotlib==3.7.2->-r ./requirements.txt (line 2)) (23.1)\n",
      "Requirement already satisfied: pillow>=6.2.0 in c:\\users\\saeid\\anaconda3\\lib\\site-packages (from matplotlib==3.7.2->-r ./requirements.txt (line 2)) (10.0.1)\n",
      "Requirement already satisfied: pyparsing<3.1,>=2.3.1 in c:\\users\\saeid\\anaconda3\\lib\\site-packages (from matplotlib==3.7.2->-r ./requirements.txt (line 2)) (3.0.9)\n",
      "Requirement already satisfied: python-dateutil>=2.7 in c:\\users\\saeid\\anaconda3\\lib\\site-packages (from matplotlib==3.7.2->-r ./requirements.txt (line 2)) (2.8.2)\n",
      "Requirement already satisfied: pytz>=2020.1 in c:\\users\\saeid\\anaconda3\\lib\\site-packages (from pandas==2.1.0->-r ./requirements.txt (line 4)) (2023.3.post1)\n",
      "Requirement already satisfied: tzdata>=2022.1 in c:\\users\\saeid\\anaconda3\\lib\\site-packages (from pandas==2.1.0->-r ./requirements.txt (line 4)) (2023.3)\n",
      "Requirement already satisfied: PyQt5-sip<13,>=12.11 in c:\\users\\saeid\\anaconda3\\lib\\site-packages (from PyQt5==5.15.9->-r ./requirements.txt (line 6)) (12.11.0)\n",
      "Requirement already satisfied: PyQt5-Qt5>=5.15.2 in c:\\users\\saeid\\anaconda3\\lib\\site-packages (from PyQt5==5.15.9->-r ./requirements.txt (line 6)) (5.15.2)\n",
      "Requirement already satisfied: joblib>=1.1.1 in c:\\users\\saeid\\anaconda3\\lib\\site-packages (from scikit_learn==1.3.0->-r ./requirements.txt (line 7)) (1.2.0)\n",
      "Requirement already satisfied: threadpoolctl>=2.0.0 in c:\\users\\saeid\\anaconda3\\lib\\site-packages (from scikit_learn==1.3.0->-r ./requirements.txt (line 7)) (2.2.0)\n",
      "Requirement already satisfied: six>=1.5 in c:\\users\\saeid\\anaconda3\\lib\\site-packages (from python-dateutil>=2.7->matplotlib==3.7.2->-r ./requirements.txt (line 2)) (1.16.0)\n"
     ]
    }
   ],
   "source": [
    "!pip install -r ./requirements.txt"
   ]
  },
  {
   "cell_type": "markdown",
   "metadata": {},
   "source": [
    "<div style=\"background-color: #2196F3; padding: 8px 12px; margin: 5px 0; border-radius: 4px; color: white; font-size: 20px; font-weight: bold;\">Import libraries </div>\n"
   ]
  },
  {
   "cell_type": "code",
   "execution_count": 1,
   "metadata": {},
   "outputs": [
    {
     "data": {
      "text/html": [
       "<style>@keyframes fadeIn {from {opacity: 0; transform: translateY(30px);}to {opacity: 1; transform: translateY(0);}}#myMenu {animation: fadeIn 0.5s ease-out;position: fixed;right: 20px;top: 50%;transform: translateY(-50%);background-color: #ff6;border-radius: 10px;box-shadow: 0 4px 8px rgba(0, 0, 0, 0.2);padding: 15px;display: flex;flex-direction: column;align-items: center;}#myMenu ul {list-style-type: none;padding: 0;margin: 0;display: flex;flex-direction: column;align-items: center;}#myMenu li {font-size: 36px;margin-bottom: 40px;color: #000;cursor: pointer;transition: transform 0.3s;}#myMenu li:hover {transform: scale(1.3);}</style><div id='myMenu'><ul><li onclick=\"window.location='./main/main.html';\" title=\"Home\">&#127968;</li><li onclick=\"window.open('./doc/reference_manual.pdf');\" title=\"Help\">&#10067;</li></ul></div>"
      ],
      "text/plain": [
       "<IPython.core.display.HTML object>"
      ]
     },
     "metadata": {},
     "output_type": "display_data"
    },
    {
     "ename": "NameError",
     "evalue": "name 'html_code' is not defined",
     "output_type": "error",
     "traceback": [
      "\u001b[1;31m---------------------------------------------------------------------------\u001b[0m",
      "\u001b[1;31mNameError\u001b[0m                                 Traceback (most recent call last)",
      "Input \u001b[1;32mIn [1]\u001b[0m, in \u001b[0;36m<cell line: 3>\u001b[1;34m()\u001b[0m\n\u001b[0;32m      1\u001b[0m \u001b[38;5;28;01mfrom\u001b[39;00m \u001b[38;5;21;01mIPython\u001b[39;00m\u001b[38;5;21;01m.\u001b[39;00m\u001b[38;5;21;01mdisplay\u001b[39;00m \u001b[38;5;28;01mimport\u001b[39;00m display, HTML; display(HTML(\u001b[38;5;124m\"\u001b[39m\u001b[38;5;124m<style>@keyframes fadeIn \u001b[39m\u001b[38;5;124m{\u001b[39m\u001b[38;5;124mfrom \u001b[39m\u001b[38;5;124m{\u001b[39m\u001b[38;5;124mopacity: 0; transform: translateY(30px);}to \u001b[39m\u001b[38;5;124m{\u001b[39m\u001b[38;5;124mopacity: 1; transform: translateY(0);}}#myMenu \u001b[39m\u001b[38;5;124m{\u001b[39m\u001b[38;5;124manimation: fadeIn 0.5s ease-out;position: fixed;right: 20px;top: 50\u001b[39m\u001b[38;5;124m%\u001b[39m\u001b[38;5;124m;transform: translateY(-50\u001b[39m\u001b[38;5;124m%\u001b[39m\u001b[38;5;124m);background-color: #ff6;border-radius: 10px;box-shadow: 0 4px 8px rgba(0, 0, 0, 0.2);padding: 15px;display: flex;flex-direction: column;align-items: center;}#myMenu ul \u001b[39m\u001b[38;5;124m{\u001b[39m\u001b[38;5;124mlist-style-type: none;padding: 0;margin: 0;display: flex;flex-direction: column;align-items: center;}#myMenu li \u001b[39m\u001b[38;5;124m{\u001b[39m\u001b[38;5;124mfont-size: 36px;margin-bottom: 40px;color: #000;cursor: pointer;transition: transform 0.3s;}#myMenu li:hover \u001b[39m\u001b[38;5;124m{\u001b[39m\u001b[38;5;124mtransform: scale(1.3);}</style><div id=\u001b[39m\u001b[38;5;124m'\u001b[39m\u001b[38;5;124mmyMenu\u001b[39m\u001b[38;5;124m'\u001b[39m\u001b[38;5;124m><ul><li onclick=\u001b[39m\u001b[38;5;130;01m\\\"\u001b[39;00m\u001b[38;5;124mwindow.location=\u001b[39m\u001b[38;5;124m'\u001b[39m\u001b[38;5;124m./main/main.html\u001b[39m\u001b[38;5;124m'\u001b[39m\u001b[38;5;124m;\u001b[39m\u001b[38;5;130;01m\\\"\u001b[39;00m\u001b[38;5;124m title=\u001b[39m\u001b[38;5;130;01m\\\"\u001b[39;00m\u001b[38;5;124mHome\u001b[39m\u001b[38;5;130;01m\\\"\u001b[39;00m\u001b[38;5;124m>&#127968;</li><li onclick=\u001b[39m\u001b[38;5;130;01m\\\"\u001b[39;00m\u001b[38;5;124mwindow.open(\u001b[39m\u001b[38;5;124m'\u001b[39m\u001b[38;5;124m./doc/reference_manual.pdf\u001b[39m\u001b[38;5;124m'\u001b[39m\u001b[38;5;124m);\u001b[39m\u001b[38;5;130;01m\\\"\u001b[39;00m\u001b[38;5;124m title=\u001b[39m\u001b[38;5;130;01m\\\"\u001b[39;00m\u001b[38;5;124mHelp\u001b[39m\u001b[38;5;130;01m\\\"\u001b[39;00m\u001b[38;5;124m>&#10067;</li></ul></div>\u001b[39m\u001b[38;5;124m\"\u001b[39m))\n\u001b[1;32m----> 3\u001b[0m display(HTML(\u001b[43mhtml_code\u001b[49m))\n\u001b[0;32m      4\u001b[0m \u001b[38;5;28;01mimport\u001b[39;00m \u001b[38;5;21;01msys\u001b[39;00m\n\u001b[0;32m      5\u001b[0m \u001b[38;5;28;01mimport\u001b[39;00m \u001b[38;5;21;01mjson\u001b[39;00m\n",
      "\u001b[1;31mNameError\u001b[0m: name 'html_code' is not defined"
     ]
    }
   ],
   "source": [
    "from IPython.display import display, HTML; display(HTML(\"<style>@keyframes fadeIn {from {opacity: 0; transform: translateY(30px);}to {opacity: 1; transform: translateY(0);}}#myMenu {animation: fadeIn 0.5s ease-out;position: fixed;right: 20px;top: 50%;transform: translateY(-50%);background-color: #ff6;border-radius: 10px;box-shadow: 0 4px 8px rgba(0, 0, 0, 0.2);padding: 15px;display: flex;flex-direction: column;align-items: center;}#myMenu ul {list-style-type: none;padding: 0;margin: 0;display: flex;flex-direction: column;align-items: center;}#myMenu li {font-size: 36px;margin-bottom: 40px;color: #000;cursor: pointer;transition: transform 0.3s;}#myMenu li:hover {transform: scale(1.3);}</style><div id='myMenu'><ul><li onclick=\\\"window.location='./main/main.html';\\\" title=\\\"Home\\\">&#127968;</li><li onclick=\\\"window.open('./doc/reference_manual.pdf');\\\" title=\\\"Help\\\">&#10067;</li></ul></div>\"))\n",
    "\n",
    "display(HTML(html_code))\n",
    "import sys\n",
    "import json\n",
    "from datetime import datetime\n",
    "\n",
    "sys.path.append('./main/')  \n",
    "sys.path.append('./src/config/')\n",
    "\n",
    "import config_py as config\n",
    "from main import Aeneas"
   ]
  },
  {
   "cell_type": "markdown",
   "metadata": {},
   "source": [
    "<div style=\"background-color: #2196F3; padding: 8px 12px; margin: 5px 0; border-radius: 4px; color: white; font-size: 20px; font-weight: bold;\">Initialising Aeneas </div>\n"
   ]
  },
  {
   "cell_type": "code",
   "execution_count": 2,
   "metadata": {},
   "outputs": [
    {
     "name": "stdout",
     "output_type": "stream",
     "text": [
      "Initialising Aeneas...\n"
     ]
    }
   ],
   "source": [
    "print(\"Initialising Aeneas...\")\n",
    "aeneas = Aeneas()"
   ]
  },
  {
   "cell_type": "markdown",
   "metadata": {},
   "source": [
    "<div style=\"background-color: #4CAF50; padding: 10px 15px; margin: 5px 0; border-radius: 5px; color: white; font-size: 24px; font-weight: bold;\">Configuration</div>\n"
   ]
  },
  {
   "cell_type": "markdown",
   "metadata": {},
   "source": [
    "<div style=\"background-color: #2196F3; padding: 8px 12px; margin: 5px 0; border-radius: 4px; color: white; font-size: 20px; font-weight: bold;\">Change configuration </div>\n"
   ]
  },
  {
   "cell_type": "code",
   "execution_count": 3,
   "metadata": {
    "scrolled": true
   },
   "outputs": [
    {
     "data": {
      "text/html": [
       "<div style='font-family: Arial, sans-serif; font-size: 14px;'><div style='margin-left: 0px; margin-top: 10px; padding: 8px; border: 1px solid #eee; border-radius: 4px;'><span style='color: #2c3e50; font-weight: bold;'>general</span>:<br><div style='margin-left: 20px; margin-top: 10px; padding: 8px; border: 1px solid #eee; border-radius: 4px;'><span style='color: #2c3e50; font-weight: bold;'>VERBOS</span>:<br><div style='margin-left: 40px; margin-top: 10px; padding: 8px; border: 1px solid #eee; border-radius: 4px;'><span style='color: #2980b9; font-weight: bold;'>description</span>: <span style='color: #e74c3c;'>Verbosity level</span></div><div style='margin-left: 40px; margin-top: 10px; padding: 8px; border: 1px solid #eee; border-radius: 4px;'><span style='color: #2c3e50; font-weight: bold;'>options</span>:<br><div style='margin-left: 60px; margin-top: 10px; padding: 8px; border: 1px solid #eee; border-radius: 4px;'><span style='color: #2980b9; font-weight: bold;'>VERBOS_DISABLE</span>: <span style='color: #e74c3c;'>0</span></div><div style='margin-left: 60px; margin-top: 10px; padding: 8px; border: 1px solid #eee; border-radius: 4px;'><span style='color: #2980b9; font-weight: bold;'>VERBOS_L1</span>: <span style='color: #e74c3c;'>1</span></div><div style='margin-left: 60px; margin-top: 10px; padding: 8px; border: 1px solid #eee; border-radius: 4px;'><span style='color: #2980b9; font-weight: bold;'>VERBOS_L2</span>: <span style='color: #e74c3c;'>2</span></div></div><div style='margin-left: 40px; margin-top: 10px; padding: 8px; border: 1px solid #eee; border-radius: 4px;'><span style='color: #2980b9; font-weight: bold;'>selected</span>: <span style='color: #e74c3c;'>VERBOS_L1</span></div></div><div style='margin-left: 20px; margin-top: 10px; padding: 8px; border: 1px solid #eee; border-radius: 4px;'><span style='color: #2c3e50; font-weight: bold;'>OS</span>:<br><div style='margin-left: 40px; margin-top: 10px; padding: 8px; border: 1px solid #eee; border-radius: 4px;'><span style='color: #2980b9; font-weight: bold;'>description</span>: <span style='color: #e74c3c;'>Operating System</span></div><div style='margin-left: 40px; margin-top: 10px; padding: 8px; border: 1px solid #eee; border-radius: 4px;'><span style='color: #2c3e50; font-weight: bold;'>options</span>:<br><div style='margin-left: 60px; margin-top: 10px; padding: 8px; border: 1px solid #eee; border-radius: 4px;'><span style='color: #2980b9; font-weight: bold;'>WINDOWS</span>: <span style='color: #e74c3c;'>0</span></div><div style='margin-left: 60px; margin-top: 10px; padding: 8px; border: 1px solid #eee; border-radius: 4px;'><span style='color: #2980b9; font-weight: bold;'>LINUX</span>: <span style='color: #e74c3c;'>1</span></div><div style='margin-left: 60px; margin-top: 10px; padding: 8px; border: 1px solid #eee; border-radius: 4px;'><span style='color: #2980b9; font-weight: bold;'>MAC</span>: <span style='color: #e74c3c;'>2</span></div></div><div style='margin-left: 40px; margin-top: 10px; padding: 8px; border: 1px solid #eee; border-radius: 4px;'><span style='color: #2980b9; font-weight: bold;'>selected</span>: <span style='color: #e74c3c;'>WINDOWS</span></div></div></div><div style='margin-left: 0px; margin-top: 10px; padding: 8px; border: 1px solid #eee; border-radius: 4px;'><span style='color: #2c3e50; font-weight: bold;'>target</span>:<br><div style='margin-left: 20px; margin-top: 10px; padding: 8px; border: 1px solid #eee; border-radius: 4px;'><span style='color: #2c3e50; font-weight: bold;'>DEVICE_TYPE</span>:<br><div style='margin-left: 40px; margin-top: 10px; padding: 8px; border: 1px solid #eee; border-radius: 4px;'><span style='color: #2980b9; font-weight: bold;'>description</span>: <span style='color: #e74c3c;'>Target Device or Board Type</span></div><div style='margin-left: 40px; margin-top: 10px; padding: 8px; border: 1px solid #eee; border-radius: 4px;'><span style='color: #2c3e50; font-weight: bold;'>options</span>:<br><div style='margin-left: 60px; margin-top: 10px; padding: 8px; border: 1px solid #eee; border-radius: 4px;'><span style='color: #2980b9; font-weight: bold;'>FPGA</span>: <span style='color: #e74c3c;'>0</span></div><div style='margin-left: 60px; margin-top: 10px; padding: 8px; border: 1px solid #eee; border-radius: 4px;'><span style='color: #2980b9; font-weight: bold;'>MICROCONTROLER</span>: <span style='color: #e74c3c;'>1</span></div><div style='margin-left: 60px; margin-top: 10px; padding: 8px; border: 1px solid #eee; border-radius: 4px;'><span style='color: #2980b9; font-weight: bold;'>SOFT_PROCESSOR</span>: <span style='color: #e74c3c;'>2</span></div></div><div style='margin-left: 40px; margin-top: 10px; padding: 8px; border: 1px solid #eee; border-radius: 4px;'><span style='color: #2980b9; font-weight: bold;'>selected</span>: <span style='color: #e74c3c;'>FPGA</span></div></div><div style='margin-left: 20px; margin-top: 10px; padding: 8px; border: 1px solid #eee; border-radius: 4px;'><span style='color: #2c3e50; font-weight: bold;'>DEVICE_INFO</span>:<br><div style='margin-left: 40px; margin-top: 10px; padding: 8px; border: 1px solid #eee; border-radius: 4px;'><span style='color: #2980b9; font-weight: bold;'>description</span>: <span style='color: #e74c3c;'>Specific Target Device Information</span></div><div style='margin-left: 40px; margin-top: 10px; padding: 8px; border: 1px solid #eee; border-radius: 4px;'><span style='color: #2980b9; font-weight: bold;'>TARGET_DEVICE</span>: <span style='color: #e74c3c;'>xczu9eg-ffvb1156-2-e</span></div><div style='margin-left: 40px; margin-top: 10px; padding: 8px; border: 1px solid #eee; border-radius: 4px;'><span style='color: #2c3e50; font-weight: bold;'>TARGET_BOARD</span>:<br><div style='margin-left: 60px; margin-top: 10px; padding: 8px; border: 1px solid #eee; border-radius: 4px;'><span style='color: #2c3e50; font-weight: bold;'>options</span>:<br><div style='margin-left: 80px; margin-top: 10px; padding: 8px; border: 1px solid #eee; border-radius: 4px;'><span style='color: #2980b9; font-weight: bold;'>AMD_ZYBO</span>: <span style='color: #e74c3c;'>0</span></div><div style='margin-left: 80px; margin-top: 10px; padding: 8px; border: 1px solid #eee; border-radius: 4px;'><span style='color: #2980b9; font-weight: bold;'>AMD_ZEDBOARD</span>: <span style='color: #e74c3c;'>1</span></div><div style='margin-left: 80px; margin-top: 10px; padding: 8px; border: 1px solid #eee; border-radius: 4px;'><span style='color: #2980b9; font-weight: bold;'>AMD_ZCU106</span>: <span style='color: #e74c3c;'>2</span></div><div style='margin-left: 80px; margin-top: 10px; padding: 8px; border: 1px solid #eee; border-radius: 4px;'><span style='color: #2980b9; font-weight: bold;'>AMD_ZCU102</span>: <span style='color: #e74c3c;'>3</span></div><div style='margin-left: 80px; margin-top: 10px; padding: 8px; border: 1px solid #eee; border-radius: 4px;'><span style='color: #2980b9; font-weight: bold;'>AMD_VCU108</span>: <span style='color: #e74c3c;'>4</span></div></div><div style='margin-left: 60px; margin-top: 10px; padding: 8px; border: 1px solid #eee; border-radius: 4px;'><span style='color: #2980b9; font-weight: bold;'>selected</span>: <span style='color: #e74c3c;'>AMD_ZCU102</span></div></div></div><div style='margin-left: 20px; margin-top: 10px; padding: 8px; border: 1px solid #eee; border-radius: 4px;'><span style='color: #2c3e50; font-weight: bold;'>VIVADO</span>:<br><div style='margin-left: 40px; margin-top: 10px; padding: 8px; border: 1px solid #eee; border-radius: 4px;'><span style='color: #2980b9; font-weight: bold;'>description</span>: <span style='color: #e74c3c;'>Vivado Configuration</span></div><div style='margin-left: 40px; margin-top: 10px; padding: 8px; border: 1px solid #eee; border-radius: 4px;'><span style='color: #2980b9; font-weight: bold;'>OP_FREQ</span>: <span style='color: #e74c3c;'>200</span></div><div style='margin-left: 40px; margin-top: 10px; padding: 8px; border: 1px solid #eee; border-radius: 4px;'><span style='color: #2980b9; font-weight: bold;'>USE_VIV_EN</span>: <span style='color: #e74c3c;'>1</span></div><div style='margin-left: 40px; margin-top: 10px; padding: 8px; border: 1px solid #eee; border-radius: 4px;'><span style='color: #2c3e50; font-weight: bold;'>VIV_OPT_METHOD</span>:<br><div style='margin-left: 60px; margin-top: 10px; padding: 8px; border: 1px solid #eee; border-radius: 4px;'><span style='color: #2c3e50; font-weight: bold;'>options</span>:<br><div style='margin-left: 80px; margin-top: 10px; padding: 8px; border: 1px solid #eee; border-radius: 4px;'><span style='color: #2980b9; font-weight: bold;'>VIV_OPT_DEFAULT</span>: <span style='color: #e74c3c;'>0</span></div><div style='margin-left: 80px; margin-top: 10px; padding: 8px; border: 1px solid #eee; border-radius: 4px;'><span style='color: #2980b9; font-weight: bold;'>VIV_OPT_RESOURCE</span>: <span style='color: #e74c3c;'>1</span></div><div style='margin-left: 80px; margin-top: 10px; padding: 8px; border: 1px solid #eee; border-radius: 4px;'><span style='color: #2980b9; font-weight: bold;'>VIV_OPT_SPEED</span>: <span style='color: #e74c3c;'>2</span></div><div style='margin-left: 80px; margin-top: 10px; padding: 8px; border: 1px solid #eee; border-radius: 4px;'><span style='color: #2980b9; font-weight: bold;'>VIV_OPT_PERFORMANCE</span>: <span style='color: #e74c3c;'>3</span></div></div><div style='margin-left: 60px; margin-top: 10px; padding: 8px; border: 1px solid #eee; border-radius: 4px;'><span style='color: #2980b9; font-weight: bold;'>selected</span>: <span style='color: #e74c3c;'>VIV_OPT_DEFAULT</span></div></div></div></div><div style='margin-left: 0px; margin-top: 10px; padding: 8px; border: 1px solid #eee; border-radius: 4px;'><span style='color: #2c3e50; font-weight: bold;'>languages</span>:<br><div style='margin-left: 20px; margin-top: 10px; padding: 8px; border: 1px solid #eee; border-radius: 4px;'><span style='color: #2c3e50; font-weight: bold;'>HDL_LANG</span>:<br><div style='margin-left: 40px; margin-top: 10px; padding: 8px; border: 1px solid #eee; border-radius: 4px;'><span style='color: #2980b9; font-weight: bold;'>description</span>: <span style='color: #e74c3c;'>Hardware Description Language</span></div><div style='margin-left: 40px; margin-top: 10px; padding: 8px; border: 1px solid #eee; border-radius: 4px;'><span style='color: #2c3e50; font-weight: bold;'>options</span>:<br><div style='margin-left: 60px; margin-top: 10px; padding: 8px; border: 1px solid #eee; border-radius: 4px;'><span style='color: #2980b9; font-weight: bold;'>HLS</span>: <span style='color: #e74c3c;'>0</span></div><div style='margin-left: 60px; margin-top: 10px; padding: 8px; border: 1px solid #eee; border-radius: 4px;'><span style='color: #2980b9; font-weight: bold;'>SYSTEM_VERILOG</span>: <span style='color: #e74c3c;'>1</span></div><div style='margin-left: 60px; margin-top: 10px; padding: 8px; border: 1px solid #eee; border-radius: 4px;'><span style='color: #2980b9; font-weight: bold;'>VHDL</span>: <span style='color: #e74c3c;'>2</span></div><div style='margin-left: 60px; margin-top: 10px; padding: 8px; border: 1px solid #eee; border-radius: 4px;'><span style='color: #2980b9; font-weight: bold;'>VERILOG</span>: <span style='color: #e74c3c;'>3</span></div></div><div style='margin-left: 40px; margin-top: 10px; padding: 8px; border: 1px solid #eee; border-radius: 4px;'><span style='color: #2980b9; font-weight: bold;'>selected</span>: <span style='color: #e74c3c;'>HLS</span></div></div><div style='margin-left: 20px; margin-top: 10px; padding: 8px; border: 1px solid #eee; border-radius: 4px;'><span style='color: #2c3e50; font-weight: bold;'>MODEL_LANG</span>:<br><div style='margin-left: 40px; margin-top: 10px; padding: 8px; border: 1px solid #eee; border-radius: 4px;'><span style='color: #2980b9; font-weight: bold;'>description</span>: <span style='color: #e74c3c;'>Modeling Language</span></div><div style='margin-left: 40px; margin-top: 10px; padding: 8px; border: 1px solid #eee; border-radius: 4px;'><span style='color: #2c3e50; font-weight: bold;'>options</span>:<br><div style='margin-left: 60px; margin-top: 10px; padding: 8px; border: 1px solid #eee; border-radius: 4px;'><span style='color: #2980b9; font-weight: bold;'>PYTHON</span>: <span style='color: #e74c3c;'>4</span></div><div style='margin-left: 60px; margin-top: 10px; padding: 8px; border: 1px solid #eee; border-radius: 4px;'><span style='color: #2980b9; font-weight: bold;'>MATLAB</span>: <span style='color: #e74c3c;'>5</span></div><div style='margin-left: 60px; margin-top: 10px; padding: 8px; border: 1px solid #eee; border-radius: 4px;'><span style='color: #2980b9; font-weight: bold;'>CPP</span>: <span style='color: #e74c3c;'>6</span></div><div style='margin-left: 60px; margin-top: 10px; padding: 8px; border: 1px solid #eee; border-radius: 4px;'><span style='color: #2980b9; font-weight: bold;'>C</span>: <span style='color: #e74c3c;'>7</span></div><div style='margin-left: 60px; margin-top: 10px; padding: 8px; border: 1px solid #eee; border-radius: 4px;'><span style='color: #2980b9; font-weight: bold;'>RUST</span>: <span style='color: #e74c3c;'>8</span></div></div><div style='margin-left: 40px; margin-top: 10px; padding: 8px; border: 1px solid #eee; border-radius: 4px;'><span style='color: #2980b9; font-weight: bold;'>selected</span>: <span style='color: #e74c3c;'>PYTHON</span></div></div></div><div style='margin-left: 0px; margin-top: 10px; padding: 8px; border: 1px solid #eee; border-radius: 4px;'><span style='color: #2c3e50; font-weight: bold;'>dataset</span>:<br><div style='margin-left: 20px; margin-top: 10px; padding: 8px; border: 1px solid #eee; border-radius: 4px;'><span style='color: #2c3e50; font-weight: bold;'>DS_INFO</span>:<br><div style='margin-left: 40px; margin-top: 10px; padding: 8px; border: 1px solid #eee; border-radius: 4px;'><span style='color: #2980b9; font-weight: bold;'>description</span>: <span style='color: #e74c3c;'>Dataset Information</span></div><div style='margin-left: 40px; margin-top: 10px; padding: 8px; border: 1px solid #eee; border-radius: 4px;'><span style='color: #2980b9; font-weight: bold;'>DS_NAME</span>: <span style='color: #e74c3c;'>CARDIO</span></div><div style='margin-left: 40px; margin-top: 10px; padding: 8px; border: 1px solid #eee; border-radius: 4px;'><span style='color: #2980b9; font-weight: bold;'>DS_SIZE</span>: <span style='color: #e74c3c;'>2126</span></div><div style='margin-left: 40px; margin-top: 10px; padding: 8px; border: 1px solid #eee; border-radius: 4px;'><span style='color: #2980b9; font-weight: bold;'>DS_TRAIN_SIZE</span>: <span style='color: #e74c3c;'>1594</span></div><div style='margin-left: 40px; margin-top: 10px; padding: 8px; border: 1px solid #eee; border-radius: 4px;'><span style='color: #2980b9; font-weight: bold;'>DS_TEST_SIZE</span>: <span style='color: #e74c3c;'>532</span></div><div style='margin-left: 40px; margin-top: 10px; padding: 8px; border: 1px solid #eee; border-radius: 4px;'><span style='color: #2980b9; font-weight: bold;'>DS_VALIDATION_SIZE</span>: <span style='color: #e74c3c;'>500</span></div><div style='margin-left: 40px; margin-top: 10px; padding: 8px; border: 1px solid #eee; border-radius: 4px;'><span style='color: #2980b9; font-weight: bold;'>DS_FEATURE_SIZE</span>: <span style='color: #e74c3c;'>21</span></div><div style='margin-left: 40px; margin-top: 10px; padding: 8px; border: 1px solid #eee; border-radius: 4px;'><span style='color: #2980b9; font-weight: bold;'>DS_DATA_TYPE</span>: <span style='color: #e74c3c;'>FP</span></div><div style='margin-left: 40px; margin-top: 10px; padding: 8px; border: 1px solid #eee; border-radius: 4px;'><span style='color: #2980b9; font-weight: bold;'>DS_DATA_RANGE_MIN</span>: <span style='color: #e74c3c;'>0</span></div><div style='margin-left: 40px; margin-top: 10px; padding: 8px; border: 1px solid #eee; border-radius: 4px;'><span style='color: #2980b9; font-weight: bold;'>DS_DATA_RANGE_MAX</span>: <span style='color: #e74c3c;'>1</span></div><div style='margin-left: 40px; margin-top: 10px; padding: 8px; border: 1px solid #eee; border-radius: 4px;'><span style='color: #2980b9; font-weight: bold;'>DS_CLASSES_SIZE</span>: <span style='color: #e74c3c;'>3</span></div></div></div><div style='margin-left: 0px; margin-top: 10px; padding: 8px; border: 1px solid #eee; border-radius: 4px;'><span style='color: #2c3e50; font-weight: bold;'>train</span>:<br><div style='margin-left: 20px; margin-top: 10px; padding: 8px; border: 1px solid #eee; border-radius: 4px;'><span style='color: #2c3e50; font-weight: bold;'>TRAINING_INFO</span>:<br><div style='margin-left: 40px; margin-top: 10px; padding: 8px; border: 1px solid #eee; border-radius: 4px;'><span style='color: #2980b9; font-weight: bold;'>description</span>: <span style='color: #e74c3c;'>Training Information</span></div><div style='margin-left: 40px; margin-top: 10px; padding: 8px; border: 1px solid #eee; border-radius: 4px;'><span style='color: #2980b9; font-weight: bold;'>TRAIN_ON_HW</span>: <span style='color: #e74c3c;'>0</span></div><div style='margin-left: 40px; margin-top: 10px; padding: 8px; border: 1px solid #eee; border-radius: 4px;'><span style='color: #2980b9; font-weight: bold;'>RETRAIN_ON_HW</span>: <span style='color: #e74c3c;'>0</span></div><div style='margin-left: 40px; margin-top: 10px; padding: 8px; border: 1px solid #eee; border-radius: 4px;'><span style='color: #2980b9; font-weight: bold;'>EPOCH</span>: <span style='color: #e74c3c;'>10</span></div></div></div><div style='margin-left: 0px; margin-top: 10px; padding: 8px; border: 1px solid #eee; border-radius: 4px;'><span style='color: #2c3e50; font-weight: bold;'>HDC</span>:<br><div style='margin-left: 20px; margin-top: 10px; padding: 8px; border: 1px solid #eee; border-radius: 4px;'><span style='color: #2c3e50; font-weight: bold;'>HD_INFO</span>:<br><div style='margin-left: 40px; margin-top: 10px; padding: 8px; border: 1px solid #eee; border-radius: 4px;'><span style='color: #2980b9; font-weight: bold;'>description</span>: <span style='color: #e74c3c;'>Hyperdimensional Computing Configuration</span></div><div style='margin-left: 40px; margin-top: 10px; padding: 8px; border: 1px solid #eee; border-radius: 4px;'><span style='color: #2980b9; font-weight: bold;'>HD_DIM</span>: <span style='color: #e74c3c;'>512</span></div><div style='margin-left: 40px; margin-top: 10px; padding: 8px; border: 1px solid #eee; border-radius: 4px;'><span style='color: #2c3e50; font-weight: bold;'>HD_DATA_TYPE</span>:<br><div style='margin-left: 60px; margin-top: 10px; padding: 8px; border: 1px solid #eee; border-radius: 4px;'><span style='color: #2c3e50; font-weight: bold;'>options</span>:<br><div style='margin-left: 80px; margin-top: 10px; padding: 8px; border: 1px solid #eee; border-radius: 4px;'><span style='color: #2980b9; font-weight: bold;'>BINARY</span>: <span style='color: #e74c3c;'>0</span></div><div style='margin-left: 80px; margin-top: 10px; padding: 8px; border: 1px solid #eee; border-radius: 4px;'><span style='color: #2980b9; font-weight: bold;'>BIPOLAR</span>: <span style='color: #e74c3c;'>1</span></div></div><div style='margin-left: 60px; margin-top: 10px; padding: 8px; border: 1px solid #eee; border-radius: 4px;'><span style='color: #2980b9; font-weight: bold;'>selected</span>: <span style='color: #e74c3c;'>BINARY</span></div></div><div style='margin-left: 40px; margin-top: 10px; padding: 8px; border: 1px solid #eee; border-radius: 4px;'><span style='color: #2c3e50; font-weight: bold;'>HD_MODE</span>:<br><div style='margin-left: 60px; margin-top: 10px; padding: 8px; border: 1px solid #eee; border-radius: 4px;'><span style='color: #2c3e50; font-weight: bold;'>options</span>:<br><div style='margin-left: 80px; margin-top: 10px; padding: 8px; border: 1px solid #eee; border-radius: 4px;'><span style='color: #2980b9; font-weight: bold;'>DENSE</span>: <span style='color: #e74c3c;'>0</span></div><div style='margin-left: 80px; margin-top: 10px; padding: 8px; border: 1px solid #eee; border-radius: 4px;'><span style='color: #2980b9; font-weight: bold;'>SPARSE</span>: <span style='color: #e74c3c;'>1</span></div></div><div style='margin-left: 60px; margin-top: 10px; padding: 8px; border: 1px solid #eee; border-radius: 4px;'><span style='color: #2980b9; font-weight: bold;'>selected</span>: <span style='color: #e74c3c;'>DENSE</span></div></div><div style='margin-left: 40px; margin-top: 10px; padding: 8px; border: 1px solid #eee; border-radius: 4px;'><span style='color: #2c3e50; font-weight: bold;'>HD_SIMI_METHOD</span>:<br><div style='margin-left: 60px; margin-top: 10px; padding: 8px; border: 1px solid #eee; border-radius: 4px;'><span style='color: #2c3e50; font-weight: bold;'>options</span>:<br><div style='margin-left: 80px; margin-top: 10px; padding: 8px; border: 1px solid #eee; border-radius: 4px;'><span style='color: #2980b9; font-weight: bold;'>SIMI_COS</span>: <span style='color: #e74c3c;'>0</span></div><div style='margin-left: 80px; margin-top: 10px; padding: 8px; border: 1px solid #eee; border-radius: 4px;'><span style='color: #2980b9; font-weight: bold;'>SIMI_DPROD</span>: <span style='color: #e74c3c;'>1</span></div><div style='margin-left: 80px; margin-top: 10px; padding: 8px; border: 1px solid #eee; border-radius: 4px;'><span style='color: #2980b9; font-weight: bold;'>SIMI_HAM</span>: <span style='color: #e74c3c;'>2</span></div></div><div style='margin-left: 60px; margin-top: 10px; padding: 8px; border: 1px solid #eee; border-radius: 4px;'><span style='color: #2980b9; font-weight: bold;'>selected</span>: <span style='color: #e74c3c;'>SIMI_HAM</span></div></div><div style='margin-left: 40px; margin-top: 10px; padding: 8px; border: 1px solid #eee; border-radius: 4px;'><span style='color: #2c3e50; font-weight: bold;'>APPROX_SQRT</span>:<br><div style='margin-left: 60px; margin-top: 10px; padding: 8px; border: 1px solid #eee; border-radius: 4px;'><span style='color: #2980b9; font-weight: bold;'>APPROX_SQRT_ON_HW</span>: <span style='color: #e74c3c;'>0</span></div><div style='margin-left: 60px; margin-top: 10px; padding: 8px; border: 1px solid #eee; border-radius: 4px;'><span style='color: #2980b9; font-weight: bold;'>APPROX_SQRT_ON_MODEL</span>: <span style='color: #e74c3c;'>0</span></div></div><div style='margin-left: 40px; margin-top: 10px; padding: 8px; border: 1px solid #eee; border-radius: 4px;'><span style='color: #2980b9; font-weight: bold;'>HD_SIMI_W_BITS</span>: <span style='color: #e74c3c;'>32</span></div><div style='margin-left: 40px; margin-top: 10px; padding: 8px; border: 1px solid #eee; border-radius: 4px;'><span style='color: #2c3e50; font-weight: bold;'>HD_LV_TYPE</span>:<br><div style='margin-left: 60px; margin-top: 10px; padding: 8px; border: 1px solid #eee; border-radius: 4px;'><span style='color: #2c3e50; font-weight: bold;'>options</span>:<br><div style='margin-left: 80px; margin-top: 10px; padding: 8px; border: 1px solid #eee; border-radius: 4px;'><span style='color: #2980b9; font-weight: bold;'>LINEAR</span>: <span style='color: #e74c3c;'>0</span></div><div style='margin-left: 80px; margin-top: 10px; padding: 8px; border: 1px solid #eee; border-radius: 4px;'><span style='color: #2980b9; font-weight: bold;'>APPROX</span>: <span style='color: #e74c3c;'>1</span></div><div style='margin-left: 80px; margin-top: 10px; padding: 8px; border: 1px solid #eee; border-radius: 4px;'><span style='color: #2980b9; font-weight: bold;'>THERMOMETER</span>: <span style='color: #e74c3c;'>2</span></div></div><div style='margin-left: 60px; margin-top: 10px; padding: 8px; border: 1px solid #eee; border-radius: 4px;'><span style='color: #2980b9; font-weight: bold;'>selected</span>: <span style='color: #e74c3c;'>LINEAR</span></div></div><div style='margin-left: 40px; margin-top: 10px; padding: 8px; border: 1px solid #eee; border-radius: 4px;'><span style='color: #2980b9; font-weight: bold;'>HD_LV_LEN</span>: <span style='color: #e74c3c;'>32</span></div><div style='margin-left: 40px; margin-top: 10px; padding: 8px; border: 1px solid #eee; border-radius: 4px;'><span style='color: #2980b9; font-weight: bold;'>SPARSITY_FACTOR_X10</span>: <span style='color: #e74c3c;'>10</span></div></div></div><div style='margin-left: 0px; margin-top: 10px; padding: 8px; border: 1px solid #eee; border-radius: 4px;'><span style='color: #2c3e50; font-weight: bold;'>hw_interface</span>:<br><div style='margin-left: 20px; margin-top: 10px; padding: 8px; border: 1px solid #eee; border-radius: 4px;'><span style='color: #2c3e50; font-weight: bold;'>DATA_INTERFACE</span>:<br><div style='margin-left: 40px; margin-top: 10px; padding: 8px; border: 1px solid #eee; border-radius: 4px;'><span style='color: #2980b9; font-weight: bold;'>description</span>: <span style='color: #e74c3c;'>Data Interface Modes</span></div><div style='margin-left: 40px; margin-top: 10px; padding: 8px; border: 1px solid #eee; border-radius: 4px;'><span style='color: #2c3e50; font-weight: bold;'>IN_DATA_MODE</span>:<br><div style='margin-left: 60px; margin-top: 10px; padding: 8px; border: 1px solid #eee; border-radius: 4px;'><span style='color: #2c3e50; font-weight: bold;'>options</span>:<br><div style='margin-left: 80px; margin-top: 10px; padding: 8px; border: 1px solid #eee; border-radius: 4px;'><span style='color: #2980b9; font-weight: bold;'>DI_M_STREAM</span>: <span style='color: #e74c3c;'>0</span></div><div style='margin-left: 80px; margin-top: 10px; padding: 8px; border: 1px solid #eee; border-radius: 4px;'><span style='color: #2980b9; font-weight: bold;'>DI_M_PARTIAL_PARALLEL</span>: <span style='color: #e74c3c;'>1</span></div><div style='margin-left: 80px; margin-top: 10px; padding: 8px; border: 1px solid #eee; border-radius: 4px;'><span style='color: #2980b9; font-weight: bold;'>DI_M_PARALLEL</span>: <span style='color: #e74c3c;'>2</span></div></div><div style='margin-left: 60px; margin-top: 10px; padding: 8px; border: 1px solid #eee; border-radius: 4px;'><span style='color: #2980b9; font-weight: bold;'>selected</span>: <span style='color: #e74c3c;'>DI_M_STREAM</span></div></div><div style='margin-left: 40px; margin-top: 10px; padding: 8px; border: 1px solid #eee; border-radius: 4px;'><span style='color: #2980b9; font-weight: bold;'>AXI_CNTR_PORT_EN</span>: <span style='color: #e74c3c;'>0</span></div><div style='margin-left: 40px; margin-top: 10px; padding: 8px; border: 1px solid #eee; border-radius: 4px;'><span style='color: #2980b9; font-weight: bold;'>PARALLELISM_FEATURES</span>: <span style='color: #e74c3c;'>1</span></div><div style='margin-left: 40px; margin-top: 10px; padding: 8px; border: 1px solid #eee; border-radius: 4px;'><span style='color: #2980b9; font-weight: bold;'>PARALLELISM_CLASS</span>: <span style='color: #e74c3c;'>1</span></div><div style='margin-left: 40px; margin-top: 10px; padding: 8px; border: 1px solid #eee; border-radius: 4px;'><span style='color: #2980b9; font-weight: bold;'>DI_PARALLEL_W_BITS</span>: <span style='color: #e74c3c;'>64</span></div><div style='margin-left: 40px; margin-top: 10px; padding: 8px; border: 1px solid #eee; border-radius: 4px;'><span style='color: #2980b9; font-weight: bold;'>FRAME_SIZE_MIN</span>: <span style='color: #e74c3c;'>64</span></div><div style='margin-left: 40px; margin-top: 10px; padding: 8px; border: 1px solid #eee; border-radius: 4px;'><span style='color: #2980b9; font-weight: bold;'>DI_QUANT_BITS</span>: <span style='color: #e74c3c;'>6</span></div><div style='margin-left: 40px; margin-top: 10px; padding: 8px; border: 1px solid #eee; border-radius: 4px;'><span style='color: #2980b9; font-weight: bold;'>HD_DATA_W_BITS</span>: <span style='color: #e74c3c;'>1</span></div></div><div style='margin-left: 20px; margin-top: 10px; padding: 8px; border: 1px solid #eee; border-radius: 4px;'><span style='color: #2c3e50; font-weight: bold;'>BV_MODES</span>:<br><div style='margin-left: 40px; margin-top: 10px; padding: 8px; border: 1px solid #eee; border-radius: 4px;'><span style='color: #2980b9; font-weight: bold;'>description</span>: <span style='color: #e74c3c;'>Bit Vector Modes and Configurations</span></div><div style='margin-left: 40px; margin-top: 10px; padding: 8px; border: 1px solid #eee; border-radius: 4px;'><span style='color: #2c3e50; font-weight: bold;'>BV_MODE</span>:<br><div style='margin-left: 60px; margin-top: 10px; padding: 8px; border: 1px solid #eee; border-radius: 4px;'><span style='color: #2c3e50; font-weight: bold;'>options</span>:<br><div style='margin-left: 80px; margin-top: 10px; padding: 8px; border: 1px solid #eee; border-radius: 4px;'><span style='color: #2980b9; font-weight: bold;'>BV_M_INT_MEM</span>: <span style='color: #e74c3c;'>0</span></div><div style='margin-left: 80px; margin-top: 10px; padding: 8px; border: 1px solid #eee; border-radius: 4px;'><span style='color: #2980b9; font-weight: bold;'>BV_M_EXT</span>: <span style='color: #e74c3c;'>1</span></div><div style='margin-left: 80px; margin-top: 10px; padding: 8px; border: 1px solid #eee; border-radius: 4px;'><span style='color: #2980b9; font-weight: bold;'>BV_M_PERMUTATION</span>: <span style='color: #e74c3c;'>2</span></div><div style='margin-left: 80px; margin-top: 10px; padding: 8px; border: 1px solid #eee; border-radius: 4px;'><span style='color: #2980b9; font-weight: bold;'>BV_M_RND_GEN</span>: <span style='color: #e74c3c;'>3</span></div></div><div style='margin-left: 60px; margin-top: 10px; padding: 8px; border: 1px solid #eee; border-radius: 4px;'><span style='color: #2980b9; font-weight: bold;'>selected</span>: <span style='color: #e74c3c;'>BV_M_INT_MEM</span></div></div><div style='margin-left: 40px; margin-top: 10px; padding: 8px; border: 1px solid #eee; border-radius: 4px;'><span style='color: #2980b9; font-weight: bold;'>BV_DATA_W_BITS</span>: <span style='color: #e74c3c;'>1</span></div><div style='margin-left: 40px; margin-top: 10px; padding: 8px; border: 1px solid #eee; border-radius: 4px;'><span style='color: #2980b9; font-weight: bold;'>BV_IN_DATA_W_BITS</span>: <span style='color: #e74c3c;'>64</span></div><div style='margin-left: 40px; margin-top: 10px; padding: 8px; border: 1px solid #eee; border-radius: 4px;'><span style='color: #2980b9; font-weight: bold;'>BV_RND_GEN_W_BITS</span>: <span style='color: #e74c3c;'>64</span></div></div><div style='margin-left: 20px; margin-top: 10px; padding: 8px; border: 1px solid #eee; border-radius: 4px;'><span style='color: #2c3e50; font-weight: bold;'>LV_MODES</span>:<br><div style='margin-left: 40px; margin-top: 10px; padding: 8px; border: 1px solid #eee; border-radius: 4px;'><span style='color: #2980b9; font-weight: bold;'>description</span>: <span style='color: #e74c3c;'>Level Modes and Configurations</span></div><div style='margin-left: 40px; margin-top: 10px; padding: 8px; border: 1px solid #eee; border-radius: 4px;'><span style='color: #2c3e50; font-weight: bold;'>LV_MODE</span>:<br><div style='margin-left: 60px; margin-top: 10px; padding: 8px; border: 1px solid #eee; border-radius: 4px;'><span style='color: #2c3e50; font-weight: bold;'>options</span>:<br><div style='margin-left: 80px; margin-top: 10px; padding: 8px; border: 1px solid #eee; border-radius: 4px;'><span style='color: #2980b9; font-weight: bold;'>LV_M_INT_MEM</span>: <span style='color: #e74c3c;'>0</span></div><div style='margin-left: 80px; margin-top: 10px; padding: 8px; border: 1px solid #eee; border-radius: 4px;'><span style='color: #2980b9; font-weight: bold;'>LV_M_EXT</span>: <span style='color: #e74c3c;'>1</span></div><div style='margin-left: 80px; margin-top: 10px; padding: 8px; border: 1px solid #eee; border-radius: 4px;'><span style='color: #2980b9; font-weight: bold;'>LV_M_LOGIC</span>: <span style='color: #e74c3c;'>2</span></div><div style='margin-left: 80px; margin-top: 10px; padding: 8px; border: 1px solid #eee; border-radius: 4px;'><span style='color: #2980b9; font-weight: bold;'>LV_M_HDL_GEN</span>: <span style='color: #e74c3c;'>3</span></div></div><div style='margin-left: 60px; margin-top: 10px; padding: 8px; border: 1px solid #eee; border-radius: 4px;'><span style='color: #2980b9; font-weight: bold;'>selected</span>: <span style='color: #e74c3c;'>LV_M_INT_MEM</span></div></div><div style='margin-left: 40px; margin-top: 10px; padding: 8px; border: 1px solid #eee; border-radius: 4px;'><span style='color: #2980b9; font-weight: bold;'>LV_DATA_W_BITS</span>: <span style='color: #e74c3c;'>1</span></div><div style='margin-left: 40px; margin-top: 10px; padding: 8px; border: 1px solid #eee; border-radius: 4px;'><span style='color: #2980b9; font-weight: bold;'>LV_IN_DATA_W_BITS</span>: <span style='color: #e74c3c;'>64</span></div><div style='margin-left: 40px; margin-top: 10px; padding: 8px; border: 1px solid #eee; border-radius: 4px;'><span style='color: #2980b9; font-weight: bold;'>LV_M_APPROX_RND_GEN_W_BITS</span>: <span style='color: #e74c3c;'>64</span></div></div><div style='margin-left: 20px; margin-top: 10px; padding: 8px; border: 1px solid #eee; border-radius: 4px;'><span style='color: #2c3e50; font-weight: bold;'>CV_MODES</span>:<br><div style='margin-left: 40px; margin-top: 10px; padding: 8px; border: 1px solid #eee; border-radius: 4px;'><span style='color: #2980b9; font-weight: bold;'>description</span>: <span style='color: #e74c3c;'>Conversion Modes and Configurations</span></div><div style='margin-left: 40px; margin-top: 10px; padding: 8px; border: 1px solid #eee; border-radius: 4px;'><span style='color: #2c3e50; font-weight: bold;'>CV_MODE</span>:<br><div style='margin-left: 60px; margin-top: 10px; padding: 8px; border: 1px solid #eee; border-radius: 4px;'><span style='color: #2c3e50; font-weight: bold;'>options</span>:<br><div style='margin-left: 80px; margin-top: 10px; padding: 8px; border: 1px solid #eee; border-radius: 4px;'><span style='color: #2980b9; font-weight: bold;'>CV_M_INT_MEM</span>: <span style='color: #e74c3c;'>0</span></div><div style='margin-left: 80px; margin-top: 10px; padding: 8px; border: 1px solid #eee; border-radius: 4px;'><span style='color: #2980b9; font-weight: bold;'>CV_M_EXT</span>: <span style='color: #e74c3c;'>1</span></div><div style='margin-left: 80px; margin-top: 10px; padding: 8px; border: 1px solid #eee; border-radius: 4px;'><span style='color: #2980b9; font-weight: bold;'>CV_M_HDL_GEN</span>: <span style='color: #e74c3c;'>2</span></div></div><div style='margin-left: 60px; margin-top: 10px; padding: 8px; border: 1px solid #eee; border-radius: 4px;'><span style='color: #2980b9; font-weight: bold;'>selected</span>: <span style='color: #e74c3c;'>CV_M_INT_MEM</span></div></div><div style='margin-left: 40px; margin-top: 10px; padding: 8px; border: 1px solid #eee; border-radius: 4px;'><span style='color: #2980b9; font-weight: bold;'>CV_DATA_W_BITS</span>: <span style='color: #e74c3c;'>1</span></div><div style='margin-left: 40px; margin-top: 10px; padding: 8px; border: 1px solid #eee; border-radius: 4px;'><span style='color: #2980b9; font-weight: bold;'>CV_IN_DATA_W_BITS</span>: <span style='color: #e74c3c;'>64</span></div></div></div><div style='margin-left: 0px; margin-top: 10px; padding: 8px; border: 1px solid #eee; border-radius: 4px;'><span style='color: #2c3e50; font-weight: bold;'>INTERFACE_DETAILS</span>:<br><div style='margin-left: 20px; margin-top: 10px; padding: 8px; border: 1px solid #eee; border-radius: 4px;'><span style='color: #2980b9; font-weight: bold;'>DI_FEATUREID_W_BITS</span>: <span style='color: #e74c3c;'>10</span></div><div style='margin-left: 20px; margin-top: 10px; padding: 8px; border: 1px solid #eee; border-radius: 4px;'><span style='color: #2980b9; font-weight: bold;'>DI_FRAMEID_W_BITS</span>: <span style='color: #e74c3c;'>10</span></div><div style='margin-left: 20px; margin-top: 10px; padding: 8px; border: 1px solid #eee; border-radius: 4px;'><span style='color: #2980b9; font-weight: bold;'>DO_CLASS_W_BITS</span>: <span style='color: #e74c3c;'>5</span></div><div style='margin-left: 20px; margin-top: 10px; padding: 8px; border: 1px solid #eee; border-radius: 4px;'><span style='color: #2980b9; font-weight: bold;'>DO_STATUS_W_BITS</span>: <span style='color: #e74c3c;'>5</span></div></div><div style='margin-left: 0px; margin-top: 10px; padding: 8px; border: 1px solid #eee; border-radius: 4px;'><span style='color: #2c3e50; font-weight: bold;'>HD_ENCODING</span>:<br><div style='margin-left: 20px; margin-top: 10px; padding: 8px; border: 1px solid #eee; border-radius: 4px;'><span style='color: #2980b9; font-weight: bold;'>HD_BUNDLE_W_BITS</span>: <span style='color: #e74c3c;'>32</span></div><div style='margin-left: 20px; margin-top: 10px; padding: 8px; border: 1px solid #eee; border-radius: 4px;'><span style='color: #2980b9; font-weight: bold;'>SPARSITY_FACTOR_X10</span>: <span style='color: #e74c3c;'>5</span></div><div style='margin-left: 20px; margin-top: 10px; padding: 8px; border: 1px solid #eee; border-radius: 4px;'><span style='color: #2c3e50; font-weight: bold;'>ENCODING_TECHNIQUE</span>:<br><div style='margin-left: 40px; margin-top: 10px; padding: 8px; border: 1px solid #eee; border-radius: 4px;'><span style='color: #2c3e50; font-weight: bold;'>options</span>:<br><div style='margin-left: 60px; margin-top: 10px; padding: 8px; border: 1px solid #eee; border-radius: 4px;'><span style='color: #2980b9; font-weight: bold;'>ENCODING_RECORD</span>: <span style='color: #e74c3c;'>0</span></div><div style='margin-left: 60px; margin-top: 10px; padding: 8px; border: 1px solid #eee; border-radius: 4px;'><span style='color: #2980b9; font-weight: bold;'>ENCODING_NGRAM</span>: <span style='color: #e74c3c;'>1</span></div></div><div style='margin-left: 40px; margin-top: 10px; padding: 8px; border: 1px solid #eee; border-radius: 4px;'><span style='color: #2980b9; font-weight: bold;'>selected</span>: <span style='color: #e74c3c;'>ENCODING_RECORD</span></div></div><div style='margin-left: 20px; margin-top: 10px; padding: 8px; border: 1px solid #eee; border-radius: 4px;'><span style='color: #2980b9; font-weight: bold;'>N_GRAM_SIZE</span>: <span style='color: #e74c3c;'>2</span></div><div style='margin-left: 20px; margin-top: 10px; padding: 8px; border: 1px solid #eee; border-radius: 4px;'><span style='color: #2980b9; font-weight: bold;'>N_GRAM</span>: <span style='color: #e74c3c;'>0</span></div></div><div style='margin-left: 0px; margin-top: 10px; padding: 8px; border: 1px solid #eee; border-radius: 4px;'><span style='color: #2c3e50; font-weight: bold;'>CLIPPING</span>:<br><div style='margin-left: 20px; margin-top: 10px; padding: 8px; border: 1px solid #eee; border-radius: 4px;'><span style='color: #2c3e50; font-weight: bold;'>CLIPPING_ENCODING</span>:<br><div style='margin-left: 40px; margin-top: 10px; padding: 8px; border: 1px solid #eee; border-radius: 4px;'><span style='color: #2c3e50; font-weight: bold;'>options</span>:<br><div style='margin-left: 60px; margin-top: 10px; padding: 8px; border: 1px solid #eee; border-radius: 4px;'><span style='color: #2980b9; font-weight: bold;'>CLIPPING_DISABLE</span>: <span style='color: #e74c3c;'>0</span></div><div style='margin-left: 60px; margin-top: 10px; padding: 8px; border: 1px solid #eee; border-radius: 4px;'><span style='color: #2980b9; font-weight: bold;'>CLIPPING_BINARY</span>: <span style='color: #e74c3c;'>1</span></div><div style='margin-left: 60px; margin-top: 10px; padding: 8px; border: 1px solid #eee; border-radius: 4px;'><span style='color: #2980b9; font-weight: bold;'>CLIPPING_TERNARY</span>: <span style='color: #e74c3c;'>2</span></div><div style='margin-left: 60px; margin-top: 10px; padding: 8px; border: 1px solid #eee; border-radius: 4px;'><span style='color: #2980b9; font-weight: bold;'>CLIPPING_QUANTIZED</span>: <span style='color: #e74c3c;'>3</span></div><div style='margin-left: 60px; margin-top: 10px; padding: 8px; border: 1px solid #eee; border-radius: 4px;'><span style='color: #2980b9; font-weight: bold;'>CLIPPING_POWERTWO</span>: <span style='color: #e74c3c;'>4</span></div><div style='margin-left: 60px; margin-top: 10px; padding: 8px; border: 1px solid #eee; border-radius: 4px;'><span style='color: #2980b9; font-weight: bold;'>CLIPPING_QUANTIZED_POWERTWO</span>: <span style='color: #e74c3c;'>5</span></div></div><div style='margin-left: 40px; margin-top: 10px; padding: 8px; border: 1px solid #eee; border-radius: 4px;'><span style='color: #2980b9; font-weight: bold;'>selected</span>: <span style='color: #e74c3c;'>CLIPPING_BINARY</span></div></div><div style='margin-left: 20px; margin-top: 10px; padding: 8px; border: 1px solid #eee; border-radius: 4px;'><span style='color: #2c3e50; font-weight: bold;'>CLIPPING_CLASS</span>:<br><div style='margin-left: 40px; margin-top: 10px; padding: 8px; border: 1px solid #eee; border-radius: 4px;'><span style='color: #2c3e50; font-weight: bold;'>options</span>:<br><div style='margin-left: 60px; margin-top: 10px; padding: 8px; border: 1px solid #eee; border-radius: 4px;'><span style='color: #2980b9; font-weight: bold;'>CLIPPING_DISABLE</span>: <span style='color: #e74c3c;'>0</span></div><div style='margin-left: 60px; margin-top: 10px; padding: 8px; border: 1px solid #eee; border-radius: 4px;'><span style='color: #2980b9; font-weight: bold;'>CLIPPING_BINARY</span>: <span style='color: #e74c3c;'>1</span></div><div style='margin-left: 60px; margin-top: 10px; padding: 8px; border: 1px solid #eee; border-radius: 4px;'><span style='color: #2980b9; font-weight: bold;'>CLIPPING_TERNARY</span>: <span style='color: #e74c3c;'>2</span></div><div style='margin-left: 60px; margin-top: 10px; padding: 8px; border: 1px solid #eee; border-radius: 4px;'><span style='color: #2980b9; font-weight: bold;'>CLIPPING_QUANTIZED</span>: <span style='color: #e74c3c;'>3</span></div><div style='margin-left: 60px; margin-top: 10px; padding: 8px; border: 1px solid #eee; border-radius: 4px;'><span style='color: #2980b9; font-weight: bold;'>CLIPPING_POWERTWO</span>: <span style='color: #e74c3c;'>4</span></div><div style='margin-left: 60px; margin-top: 10px; padding: 8px; border: 1px solid #eee; border-radius: 4px;'><span style='color: #2980b9; font-weight: bold;'>CLIPPING_QUANTIZED_POWERTWO</span>: <span style='color: #e74c3c;'>5</span></div></div><div style='margin-left: 40px; margin-top: 10px; padding: 8px; border: 1px solid #eee; border-radius: 4px;'><span style='color: #2980b9; font-weight: bold;'>selected</span>: <span style='color: #e74c3c;'>CLIPPING_BINARY</span></div></div><div style='margin-left: 20px; margin-top: 10px; padding: 8px; border: 1px solid #eee; border-radius: 4px;'><span style='color: #2c3e50; font-weight: bold;'>CLIPPING_BINARY_METHOD_FOR_VALUE_EQ_HALF_HD_DIM</span>:<br><div style='margin-left: 40px; margin-top: 10px; padding: 8px; border: 1px solid #eee; border-radius: 4px;'><span style='color: #2c3e50; font-weight: bold;'>options</span>:<br><div style='margin-left: 60px; margin-top: 10px; padding: 8px; border: 1px solid #eee; border-radius: 4px;'><span style='color: #2980b9; font-weight: bold;'>CLIPPING_BINARY_FOR_VALUE_EQ_HALF_HD_DIM_USE_TOGGLING</span>: <span style='color: #e74c3c;'>0</span></div><div style='margin-left: 60px; margin-top: 10px; padding: 8px; border: 1px solid #eee; border-radius: 4px;'><span style='color: #2980b9; font-weight: bold;'>CLIPPING_BINARY_FOR_VALUE_EQ_HALF_HD_DIM_SET_ZERO</span>: <span style='color: #e74c3c;'>1</span></div></div><div style='margin-left: 40px; margin-top: 10px; padding: 8px; border: 1px solid #eee; border-radius: 4px;'><span style='color: #2980b9; font-weight: bold;'>selected</span>: <span style='color: #e74c3c;'>CLIPPING_BINARY_FOR_VALUE_EQ_HALF_HD_DIM_SET_ZERO</span></div></div><div style='margin-left: 20px; margin-top: 10px; padding: 8px; border: 1px solid #eee; border-radius: 4px;'><span style='color: #2980b9; font-weight: bold;'>HW_CLIPPING_AFTER_TRAIN</span>: <span style='color: #e74c3c;'>0</span></div><div style='margin-left: 20px; margin-top: 10px; padding: 8px; border: 1px solid #eee; border-radius: 4px;'><span style='color: #2980b9; font-weight: bold;'>QUANT_MIN</span>: <span style='color: #e74c3c;'>0</span></div><div style='margin-left: 20px; margin-top: 10px; padding: 8px; border: 1px solid #eee; border-radius: 4px;'><span style='color: #2980b9; font-weight: bold;'>QUANT_MAX</span>: <span style='color: #e74c3c;'>1</span></div></div><div style='margin-left: 0px; margin-top: 10px; padding: 8px; border: 1px solid #eee; border-radius: 4px;'><span style='color: #2c3e50; font-weight: bold;'>LEARNING_RATE</span>:<br><div style='margin-left: 20px; margin-top: 10px; padding: 8px; border: 1px solid #eee; border-radius: 4px;'><span style='color: #2c3e50; font-weight: bold;'>LR_DECAY</span>:<br><div style='margin-left: 40px; margin-top: 10px; padding: 8px; border: 1px solid #eee; border-radius: 4px;'><span style='color: #2c3e50; font-weight: bold;'>options</span>:<br><div style='margin-left: 60px; margin-top: 10px; padding: 8px; border: 1px solid #eee; border-radius: 4px;'><span style='color: #2980b9; font-weight: bold;'>LR_CONSTANT</span>: <span style='color: #e74c3c;'>0</span></div><div style='margin-left: 60px; margin-top: 10px; padding: 8px; border: 1px solid #eee; border-radius: 4px;'><span style='color: #2980b9; font-weight: bold;'>LR_ITER</span>: <span style='color: #e74c3c;'>1</span></div><div style='margin-left: 60px; margin-top: 10px; padding: 8px; border: 1px solid #eee; border-radius: 4px;'><span style='color: #2980b9; font-weight: bold;'>LR_DATA</span>: <span style='color: #e74c3c;'>2</span></div><div style='margin-left: 60px; margin-top: 10px; padding: 8px; border: 1px solid #eee; border-radius: 4px;'><span style='color: #2980b9; font-weight: bold;'>LR_HYBRID</span>: <span style='color: #e74c3c;'>3</span></div></div><div style='margin-left: 40px; margin-top: 10px; padding: 8px; border: 1px solid #eee; border-radius: 4px;'><span style='color: #2980b9; font-weight: bold;'>selected</span>: <span style='color: #e74c3c;'>LR_CONSTANT</span></div></div><div style='margin-left: 20px; margin-top: 10px; padding: 8px; border: 1px solid #eee; border-radius: 4px;'><span style='color: #2980b9; font-weight: bold;'>MAX_LEARNING_RATE</span>: <span style='color: #e74c3c;'>10</span></div><div style='margin-left: 20px; margin-top: 10px; padding: 8px; border: 1px solid #eee; border-radius: 4px;'><span style='color: #2980b9; font-weight: bold;'>BETA_LR</span>: <span style='color: #e74c3c;'>3</span></div><div style='margin-left: 20px; margin-top: 10px; padding: 8px; border: 1px solid #eee; border-radius: 4px;'><span style='color: #2980b9; font-weight: bold;'>RETRAIN</span>: <span style='color: #e74c3c;'>0</span></div></div><div style='margin-left: 0px; margin-top: 10px; padding: 8px; border: 1px solid #eee; border-radius: 4px;'><span style='color: #2c3e50; font-weight: bold;'>TOOLS</span>:<br><div style='margin-left: 20px; margin-top: 10px; padding: 8px; border: 1px solid #eee; border-radius: 4px;'><span style='color: #2980b9; font-weight: bold;'>VITIS_HLS_XILINX_PATH</span>: <span style='color: #e74c3c;'>C:/Xilinx/Vitis_HLS/2023.2/bin/vitis_hls.bat</span></div><div style='margin-left: 20px; margin-top: 10px; padding: 8px; border: 1px solid #eee; border-radius: 4px;'><span style='color: #2980b9; font-weight: bold;'>VIVADO_XILINX_PATH</span>: <span style='color: #e74c3c;'>C:/Xilinx/Vivado/2023.2/bin/vivado.bat</span></div><div style='margin-left: 20px; margin-top: 10px; padding: 8px; border: 1px solid #eee; border-radius: 4px;'><span style='color: #2980b9; font-weight: bold;'>VITIS_XILINX_PATH</span>: <span style='color: #e74c3c;'>C:/Xilinx/Vitis/2023.2/bin/vitis.bat</span></div></div></div>"
      ],
      "text/plain": [
       "<IPython.core.display.HTML object>"
      ]
     },
     "metadata": {},
     "output_type": "display_data"
    }
   ],
   "source": [
    "\n",
    "aeneas.configuration.config_data['general']['VERBOS']['selected'] = \"VERBOS_L1\";\n",
    "new_config = aeneas.configuration.config_data; \n",
    "aeneas.configuration.save(new_config);\n",
    "aeneas.configuration.print()"
   ]
  },
  {
   "cell_type": "markdown",
   "metadata": {},
   "source": [
    "<div style=\"background-color: #2196F3; padding: 8px 12px; margin: 5px 0; border-radius: 4px; color: white; font-size: 20px; font-weight: bold;\">Change configuration by GUI</div>\n"
   ]
  },
  {
   "cell_type": "code",
   "execution_count": 4,
   "metadata": {},
   "outputs": [],
   "source": [
    "aeneas.configuration.run_gui()"
   ]
  },
  {
   "cell_type": "markdown",
   "metadata": {},
   "source": [
    "<div style=\"background-color: #2196F3; padding: 8px 12px; margin: 5px 0; border-radius: 4px; color: white; font-size: 20px; font-weight: bold;\">Compile the configuration</div>\n"
   ]
  },
  {
   "cell_type": "code",
   "execution_count": 5,
   "metadata": {},
   "outputs": [],
   "source": [
    "aeneas.configuration.read()\n",
    "aeneas.configuration.compile()\n",
    "aeneas.configuration.save()"
   ]
  },
  {
   "cell_type": "markdown",
   "metadata": {},
   "source": [
    "<div style=\"background-color: #4CAF50; padding: 10px 15px; margin: 5px 0; border-radius: 5px; color: white; font-size: 24px; font-weight: bold;\">Dataset</div>\n"
   ]
  },
  {
   "cell_type": "markdown",
   "metadata": {},
   "source": [
    "<div style=\"background-color: #2196F3; padding: 8px 12px; margin: 5px 0; border-radius: 4px; color: white; font-size: 20px; font-weight: bold;\">Available datasets</div>\n"
   ]
  },
  {
   "cell_type": "code",
   "execution_count": 6,
   "metadata": {},
   "outputs": [
    {
     "name": "stdout",
     "output_type": "stream",
     "text": [
      "List of Datasets: ['CARDIO', 'EMG', 'isolet', 'UCIHAR']\n"
     ]
    }
   ],
   "source": [
    "datasets = aeneas.dataset.list_datasets()\n",
    "print(\"List of Datasets:\", datasets)"
   ]
  },
  {
   "cell_type": "markdown",
   "metadata": {},
   "source": [
    "<div style=\"background-color: #2196F3; padding: 8px 12px; margin: 5px 0; border-radius: 4px; color: white; font-size: 20px; font-weight: bold;\">Selected dataset</div>\n"
   ]
  },
  {
   "cell_type": "code",
   "execution_count": 7,
   "metadata": {},
   "outputs": [
    {
     "name": "stdout",
     "output_type": "stream",
     "text": [
      "Selected dataset: CARDIO\n"
     ]
    }
   ],
   "source": [
    "selected_dataset = aeneas.configuration.config_data['dataset']['DS_INFO']['DS_NAME']\n",
    "print(\"Selected dataset:\", selected_dataset) "
   ]
  },
  {
   "cell_type": "markdown",
   "metadata": {},
   "source": [
    "<div style=\"background-color: #2196F3; padding: 8px 12px; margin: 5px 0; border-radius: 4px; color: white; font-size: 20px; font-weight: bold;\">\n",
    "    Extract feature of dataset\n",
    "</div>\n"
   ]
  },
  {
   "cell_type": "code",
   "execution_count": 8,
   "metadata": {},
   "outputs": [
    {
     "data": {
      "image/png": "[encoded data removed]",
      "text/plain": [
       "<Figure size 700x500 with 1 Axes>"
      ]
     },
     "metadata": {},
     "output_type": "display_data"
    }
   ],
   "source": [
    "aeneas.visualizer.plot_statistics(selected_dataset, 'train_data')"
   ]
  },
  {
   "cell_type": "markdown",
   "metadata": {},
   "source": [
    "___________________"
   ]
  },
  {
   "cell_type": "markdown",
   "metadata": {},
   "source": [
    "<div style=\"background-color: #4CAF50; padding: 10px 15px; margin: 5px 0; border-radius: 5px; color: white; font-size: 24px; font-weight: bold;\">\n",
    "Model\n",
    "</div>\n"
   ]
  },
  {
   "cell_type": "markdown",
   "metadata": {},
   "source": [
    "<div style=\"background-color: #2196F3; padding: 8px 12px; margin: 5px 0; border-radius: 4px; color: white; font-size: 20px; font-weight: bold;\">\n",
    "    Running the model\n",
    "</div>\n"
   ]
  },
  {
   "cell_type": "code",
   "execution_count": 9,
   "metadata": {
    "scrolled": true
   },
   "outputs": [
    {
     "name": "stdout",
     "output_type": "stream",
     "text": [
      "Running Model...\n",
      "------------------\n",
      "HDC model:\n",
      "Dataset: CARDIO\n",
      "HV dimensionality: 512\n",
      "HV data type: 0\n",
      "HV mode: 0\n",
      "HV level type: 0\n",
      "HV level length: 32\n",
      "HV similarity method: 2\n",
      "HV Encoding method: 0\n",
      "HV sparsity factor: 5\n",
      "HV clipping encoding: 1\n",
      "HV clipping class: 1\n",
      "N-gram: 0\n",
      "N-gram size: 4\n",
      "Retrain: 0\n",
      "Epochs: 10\n",
      "Learning rate: 15\n",
      "Learning rate decay: 3\n",
      "Beta learning rate: 3\n",
      "------------------\n",
      "\n",
      "Iteration: 0 Progress: 0.0 %\n",
      "Iteration: 159 Progress: 10.0 %\n",
      "Iteration: 318 Progress: 20.0 %\n",
      "Iteration: 477 Progress: 30.0 %\n",
      "Iteration: 636 Progress: 40.0 %\n",
      "Iteration: 795 Progress: 50.0 %\n",
      "Iteration: 954 Progress: 60.0 %\n",
      "Iteration: 1113 Progress: 70.0 %\n",
      "Iteration: 1272 Progress: 80.0 %\n",
      "Iteration: 1431 Progress: 90.0 %\n",
      "Iteration: 1590 Progress: 100.0 %\n",
      "------------------\n",
      "Testing procedure:\n",
      "Progress: 10.0 % ---> accuracy: 84.90566037735849 %\n",
      "Progress: 20.0 % ---> accuracy: 83.01886792452831 %\n",
      "Progress: 30.0 % ---> accuracy: 81.13207547169812 %\n",
      "Progress: 40.0 % ---> accuracy: 81.13207547169812 %\n",
      "Progress: 50.0 % ---> accuracy: 80.0 %\n",
      "Progress: 60.0 % ---> accuracy: 77.67295597484276 %\n",
      "Progress: 70.0 % ---> accuracy: 77.088948787062 %\n",
      "Progress: 80.0 % ---> accuracy: 75.70754716981132 %\n",
      "Progress: 90.0 % ---> accuracy: 76.1006289308176 %\n",
      "Progress: 100.0 % ---> accuracy: 76.60377358490567 %\n",
      "\n",
      "\n",
      "Accuracy: 76.50375939849624 %\n",
      "Model report saved to 'out//model_eva//CARDIO//model_report.json'.\n",
      "Confusion Matrix:\n",
      " [[322  66  22]\n",
      " [ 18  53   1]\n",
      " [  2  16  32]]\n",
      "Confusion matrix saved to 'out//model_eva//CARDIO//confusion_matrix.png'.\n",
      "Training data exported to out//dataset//CARDIO//train_data.csv successfully.\n",
      "Training data exported to out//dataset//CARDIO//train_label.csv successfully.\n",
      "Training data exported to out//dataset//CARDIO//test_data.csv successfully.\n",
      "Training data exported to out//dataset//CARDIO//test_label.csv successfully.\n",
      "Data exported to out//extracted_params//CARDIO//BaseHVs.csv successfully.\n",
      "Data exported to out//extracted_params//CARDIO//LevelHVs.csv successfully.\n",
      "Data exported to out//extracted_params//CARDIO//ClassHVs.csv successfully.\n",
      "Dictionary exported to out//extracted_params//CARDIO//BaseHVs_gen.json successfully.\n",
      "Dictionary exported to out//extracted_params//CARDIO//LevelHVs_gen.json successfully.\n",
      "Dictionary exported to out//extracted_params//CARDIO//clip_lut.json successfully.\n",
      "None\n"
     ]
    }
   ],
   "source": [
    "print(\"Running Model...\")\n",
    "results = aeneas.model.run();\n",
    "print(results)"
   ]
  },
  {
   "cell_type": "markdown",
   "metadata": {},
   "source": [
    "<div style=\"background-color: #2196F3; padding: 8px 12px; margin: 5px 0; border-radius: 4px; color: white; font-size: 20px; font-weight: bold;\">\n",
    "    Evaluation\n",
    "</div>\n"
   ]
  },
  {
   "cell_type": "code",
   "execution_count": 10,
   "metadata": {},
   "outputs": [
    {
     "name": "stdout",
     "output_type": "stream",
     "text": [
      "Evaluation results Model...\n",
      "{'accuracy': 0.7650375939849624, 'precision': 0.6386437474156772, 'recall': 0.7204923215898825, 'f1_score': 0.6593280276444015, 'roc_auc': 0.7952606377752117, 'confusion_matrix': [[322, 66, 22], [18, 53, 1], [2, 16, 32]]}\n"
     ]
    },
    {
     "data": {
      "image/png": "[encoded data removed]",
      "text/plain": [
       "<Figure size 700x500 with 2 Axes>"
      ]
     },
     "metadata": {},
     "output_type": "display_data"
    }
   ],
   "source": [
    "print(\"Evaluation results Model...\")\n",
    "results = aeneas.model.get_eval();\n",
    "print(results)\n",
    "results = aeneas.visualizer.plot_confusion_matrix(results['confusion_matrix']);"
   ]
  },
  {
   "cell_type": "markdown",
   "metadata": {},
   "source": [
    "<div style=\"background-color: #2196F3; padding: 8px 12px; margin: 5px 0; border-radius: 4px; color: white; font-size: 20px; font-weight: bold;\">\n",
    "    Feature of extracted parameters\n",
    "</div>"
   ]
  },
  {
   "cell_type": "code",
   "execution_count": 11,
   "metadata": {},
   "outputs": [
    {
     "data": {
      "image/png": "[encoded data removed]",
      "text/plain": [
       "<Figure size 640x480 with 2 Axes>"
      ]
     },
     "metadata": {},
     "output_type": "display_data"
    },
    {
     "data": {
      "image/png": "[encoded data removed]",
      "text/plain": [
       "<Figure size 640x480 with 2 Axes>"
      ]
     },
     "metadata": {},
     "output_type": "display_data"
    }
   ],
   "source": [
    "base_vector = aeneas.model.get_base_vector()\n",
    "base_similarity_matrix = aeneas.vectorutils.compute_similarity_matrix(base_vector)\n",
    "\n",
    "level_vector = aeneas.model.get_level_vector()\n",
    "level_similarity_matrix = aeneas.vectorutils.compute_similarity_matrix(level_vector)\n",
    "\n",
    "aeneas.visualizer.plot_similarity_matrix(base_similarity_matrix)\n",
    "aeneas.visualizer.plot_similarity_matrix(level_similarity_matrix)"
   ]
  },
  {
   "cell_type": "markdown",
   "metadata": {},
   "source": [
    "<div style=\"background-color: #4CAF50; padding: 10px 15px; margin: 5px 0; border-radius: 5px; color: white; font-size: 24px; font-weight: bold;\">\n",
    "Hardware Implementation\n",
    "</div>\n"
   ]
  },
  {
   "cell_type": "markdown",
   "metadata": {},
   "source": [
    "<div style=\"background-color: #2196F3; padding: 8px 12px; margin: 5px 0; border-radius: 4px; color: white; font-size: 20px; font-weight: bold;\">\n",
    "    Run simulation\n",
    "</div>"
   ]
  },
  {
   "cell_type": "code",
   "execution_count": 12,
   "metadata": {},
   "outputs": [],
   "source": [
    "aeneas.hdl.run_simulation();"
   ]
  },
  {
   "cell_type": "markdown",
   "metadata": {},
   "source": [
    "<div style=\"background-color: #2196F3; padding: 8px 12px; margin: 5px 0; border-radius: 4px; color: white; font-size: 20px; font-weight: bold;\">\n",
    "    Run synthesis\n",
    "</div>"
   ]
  },
  {
   "cell_type": "code",
   "execution_count": 13,
   "metadata": {},
   "outputs": [],
   "source": [
    "aeneas.hdl.run_synthesis();"
   ]
  },
  {
   "cell_type": "markdown",
   "metadata": {},
   "source": [
    "<div style=\"border-left: 4px solid #63A4DF; padding: 4px 12px; margin: 10px 40px; color: #1976D2; font-size: 18px; font-weight: bold;\">\n",
    "    Resource usage\n",
    "</div>\n"
   ]
  },
  {
   "cell_type": "code",
   "execution_count": 14,
   "metadata": {},
   "outputs": [
    {
     "name": "stdout",
     "output_type": "stream",
     "text": [
      "Resource utility:\n",
      "LUT as Logic: 20898\n",
      "LUT as Memory: 0\n",
      "CLB Registers: 11070\n",
      "Register as Flip Flop: 11070\n",
      "Register as Latch: 0\n",
      "CARRY8: 1044\n",
      "DSPs: 0\n",
      "Total LUTs: 20898\n",
      "Total FF: 22140\n"
     ]
    }
   ],
   "source": [
    "resource = aeneas.hdl.get_resource_usage_report();\n",
    "print(\"Resource utility:\")\n",
    "for key, val in resource.items():\n",
    "    print(f\"{key}: {val}\")"
   ]
  },
  {
   "cell_type": "markdown",
   "metadata": {},
   "source": [
    "<div style=\"border-left: 4px solid #63A4DF; padding: 4px 12px; margin: 10px 40px; color: #1976D2; font-size: 18px; font-weight: bold;\">\n",
    "    Power estimation\n",
    "</div>\n"
   ]
  },
  {
   "cell_type": "code",
   "execution_count": 15,
   "metadata": {},
   "outputs": [
    {
     "name": "stdout",
     "output_type": "stream",
     "text": [
      "Power report:\n",
      "Dynamic (W): 0.091\n",
      "Device Static (W): 0.621\n"
     ]
    }
   ],
   "source": [
    "power = aeneas.hdl.get_power_estimation_report();\n",
    "print(\"Power report:\")\n",
    "for key, val in power.items():\n",
    "    print(f\"{key}: {val}\")"
   ]
  },
  {
   "cell_type": "markdown",
   "metadata": {},
   "source": [
    "<div style=\"border-left: 4px solid #63A4DF; padding: 4px 12px; margin: 10px 40px; color: #1976D2; font-size: 18px; font-weight: bold;\">\n",
    "    Timming report\n",
    "</div>\n"
   ]
  },
  {
   "cell_type": "code",
   "execution_count": 16,
   "metadata": {},
   "outputs": [
    {
     "name": "stdout",
     "output_type": "stream",
     "text": [
      "Timing report:\n",
      "Speed:  14062.71972999578 (Classification/Sec)\n"
     ]
    }
   ],
   "source": [
    "exe_time = aeneas.hdl.get_timing_report();\n",
    "print(\"Timing report:\")\n",
    "class_sec = 1e9/exe_time;\n",
    "print(\"Speed: \", class_sec, \"(Classification/Sec)\")"
   ]
  },
  {
   "cell_type": "markdown",
   "metadata": {},
   "source": [
    "<div style=\"background-color: #4CAF50; padding: 10px 15px; margin: 5px 0; border-radius: 5px; color: white; font-size: 24px; font-weight: bold;\">\n",
    "Report</div>\n"
   ]
  },
  {
   "cell_type": "markdown",
   "metadata": {},
   "source": [
    "<div style=\"background-color: #2196F3; padding: 8px 12px; margin: 5px 0; border-radius: 4px; color: white; font-size: 20px; font-weight: bold;\">\n",
    "    Open report with GUI\n",
    "</div>"
   ]
  },
  {
   "cell_type": "code",
   "execution_count": 17,
   "metadata": {},
   "outputs": [],
   "source": [
    "aeneas.report.open()"
   ]
  },
  {
   "cell_type": "markdown",
   "metadata": {},
   "source": [
    "<div style=\"height: 3px; background: linear-gradient(90deg, rgba(0,0,255,0), rgba(0,0,255,0.8), rgba(0,0,255,0)); margin-top: 20px; margin-bottom: 20px;\"></div>\n"
   ]
  },
  {
   "cell_type": "markdown",
   "metadata": {},
   "source": [
    "<div style=\"background-color: #4CAF50; padding: 10px 15px; margin: 5px 0; border-radius: 5px; color: white; font-size: 24px; font-weight: bold;\">\n",
    "Define tests and Data Analysis\n",
    "    \n",
    "</div>\n"
   ]
  },
  {
   "cell_type": "markdown",
   "metadata": {},
   "source": [
    "<div style=\"background-color: #2196F3; padding: 8px 12px; margin: 5px 0; border-radius: 4px; color: white; font-size: 20px; font-weight: bold;\">\n",
    "    Project Information\n",
    "</div>"
   ]
  },
  {
   "cell_type": "code",
   "execution_count": 109,
   "metadata": {},
   "outputs": [
    {
     "name": "stdout",
     "output_type": "stream",
     "text": [
      "Project Details:\n",
      "Name: TP1\n",
      "ID: 1\n",
      "Date: None\n",
      "Time: None\n",
      "Test Summary: Primary test for testing the environment\n",
      "\n"
     ]
    }
   ],
   "source": [
    "aeneas.prj.set_name('TP1')\n",
    "aeneas.prj.set_id(1) \n",
    "aeneas.prj.set_test_summary('Primary test for testing the environment')\n",
    "\n",
    "aeneas.prj.set_date = datetime.now()\n",
    "aeneas.prj.set_time = datetime.now()\n",
    "\n",
    "print(aeneas.prj)"
   ]
  },
  {
   "cell_type": "markdown",
   "metadata": {},
   "source": [
    "<div style=\"background-color: #2196F3; padding: 8px 12px; margin: 5px 0; border-radius: 4px; color: white; font-size: 20px; font-weight: bold;\">\n",
    "    Config and Run the Tests\n",
    "</div>"
   ]
  },
  {
   "cell_type": "code",
   "execution_count": 110,
   "metadata": {},
   "outputs": [],
   "source": [
    "import numpy as np "
   ]
  },
  {
   "cell_type": "code",
   "execution_count": 111,
   "metadata": {},
   "outputs": [],
   "source": [
    "def apply_config_dim(dim, frame): # dim & frame\n",
    "    aeneas.configuration.read()\n",
    "    aeneas.configuration.config_data['HDC']['HD_INFO']['HD_DIM'] = dim\n",
    "    aeneas.configuration.config_data['hw_interface']['DATA_INTERFACE']['DI_PARALLEL_W_BITS'] = frame\n",
    "    aeneas.configuration.config_data['hw_interface']['LV_MODES']['LV_IN_DATA_W_BITS'] = frame\n",
    "    aeneas.configuration.config_data['hw_interface']['BV_MODES']['BV_IN_DATA_W_BITS'] = frame\n",
    "    aeneas.configuration.config_data['hw_interface']['CV_MODES']['CV_IN_DATA_W_BITS'] = frame\n",
    "    aeneas.configuration.save();\n",
    "    aeneas.configuration.compile()"
   ]
  },
  {
   "cell_type": "code",
   "execution_count": 112,
   "metadata": {},
   "outputs": [],
   "source": [
    "#dim_range = np.array([256, 512, 1024, 2048, 4096, 8192])\n",
    "dim_range = np.array([256, 1024])\n",
    "frame_size = 64 #  #### NEED CHANGE\n",
    "aeneas.configuration.read()\n",
    "\n",
    "aeneas.configuration.save();\n",
    "aeneas.configuration.compile()"
   ]
  },
  {
   "cell_type": "code",
   "execution_count": 113,
   "metadata": {},
   "outputs": [],
   "source": [
    "all_reports = []"
   ]
  },
  {
   "cell_type": "code",
   "execution_count": null,
   "metadata": {},
   "outputs": [
    {
     "name": "stdout",
     "output_type": "stream",
     "text": [
      "<------START------>******************************************\n",
      "ID 1: Dimension = 256\n",
      "------------------\n",
      "HDC model:\n",
      "Dataset: CARDIO\n",
      "HV dimensionality: 256\n",
      "HV data type: 0\n",
      "HV mode: 0\n",
      "HV level type: 0\n",
      "HV level length: 32\n",
      "HV similarity method: 2\n",
      "HV Encoding method: 0\n",
      "HV sparsity factor: 5\n",
      "HV clipping encoding: 1\n",
      "HV clipping class: 1\n",
      "N-gram: 0\n",
      "N-gram size: 4\n",
      "Retrain: 0\n",
      "Epochs: 10\n",
      "Learning rate: 15\n",
      "Learning rate decay: 3\n",
      "Beta learning rate: 3\n",
      "------------------\n",
      "\n",
      "Iteration: 0 Progress: 0.0 %\n",
      "Iteration: 159 Progress: 10.0 %\n",
      "Iteration: 318 Progress: 20.0 %\n",
      "Iteration: 477 Progress: 30.0 %\n",
      "Iteration: 636 Progress: 40.0 %\n",
      "Iteration: 795 Progress: 50.0 %\n",
      "Iteration: 954 Progress: 60.0 %\n",
      "Iteration: 1113 Progress: 70.0 %\n",
      "Iteration: 1272 Progress: 80.0 %\n",
      "Iteration: 1431 Progress: 90.0 %\n",
      "Iteration: 1590 Progress: 100.0 %\n",
      "------------------\n",
      "Testing procedure:\n",
      "Progress: 10.0 % ---> accuracy: 86.79245283018868 %\n",
      "Progress: 20.0 % ---> accuracy: 76.41509433962264 %\n",
      "Progress: 30.0 % ---> accuracy: 74.84276729559748 %\n",
      "Progress: 40.0 % ---> accuracy: 74.52830188679245 %\n",
      "Progress: 50.0 % ---> accuracy: 73.58490566037736 %\n",
      "Progress: 60.0 % ---> accuracy: 72.0125786163522 %\n",
      "Progress: 70.0 % ---> accuracy: 71.96765498652292 %\n",
      "Progress: 80.0 % ---> accuracy: 71.22641509433963 %\n",
      "Progress: 90.0 % ---> accuracy: 72.32704402515724 %\n",
      "Progress: 100.0 % ---> accuracy: 72.45283018867924 %\n",
      "\n",
      "\n",
      "Accuracy: 72.18045112781955 %\n",
      "Model report saved to 'out//model_eva//CARDIO//model_report.json'.\n",
      "Confusion Matrix:\n",
      " [[298  64  48]\n",
      " [ 14  56   2]\n",
      " [  4  16  30]]\n",
      "Confusion matrix saved to 'out//model_eva//CARDIO//confusion_matrix.png'.\n",
      "Training data exported to out//dataset//CARDIO//train_data.csv successfully.\n",
      "Training data exported to out//dataset//CARDIO//train_label.csv successfully.\n",
      "Training data exported to out//dataset//CARDIO//test_data.csv successfully.\n",
      "Training data exported to out//dataset//CARDIO//test_label.csv successfully.\n",
      "Data exported to out//extracted_params//CARDIO//BaseHVs.csv successfully.\n",
      "Data exported to out//extracted_params//CARDIO//LevelHVs.csv successfully.\n",
      "Data exported to out//extracted_params//CARDIO//ClassHVs.csv successfully.\n",
      "Dictionary exported to out//extracted_params//CARDIO//BaseHVs_gen.json successfully.\n",
      "Dictionary exported to out//extracted_params//CARDIO//LevelHVs_gen.json successfully.\n",
      "Dictionary exported to out//extracted_params//CARDIO//clip_lut.json successfully.\n"
     ]
    }
   ],
   "source": [
    "with open('./rep/log.txt', 'w') as file:  #**** 'w' for overwrite,'a' for to append ****#\n",
    "    for count, dim in enumerate(dim_range, start=1):#### NEED CHANGE\n",
    "        print(\"<------START------>******************************************\")\n",
    "        print(f\"ID {count}: Dimension = {dim}\")\n",
    "        \n",
    "        report = {}  \n",
    "        report['ID'] = count\n",
    "        report['Dimension'] = dim\n",
    "\n",
    "        apply_config_dim(int(dim), int(frame_size))  #### NEED CHANGE\n",
    "\n",
    "        results = aeneas.model.run()\n",
    "        report['ModelResults'] = results\n",
    "        \n",
    "        model_eval = aeneas.model.get_eval()\n",
    "        report['ModelEval'] = model_eval\n",
    "\n",
    "\n",
    "        aeneas.hdl.run_simulation()\n",
    "        aeneas.hdl.run_synthesis()\n",
    "        \n",
    "        hdl_eval = aeneas.hdl.get_eval()\n",
    "        report['HD_Eval'] = hdl_eval\n",
    "        \n",
    "        resource = aeneas.hdl.get_resource_usage_report()\n",
    "        report['ResourceUtility'] = resource\n",
    "        \n",
    "        power = aeneas.hdl.get_power_estimation_report()\n",
    "        report['PowerReport'] = power\n",
    "\n",
    "        exe_time = aeneas.hdl.get_timing_report()\n",
    "        report['TimingReport'] = exe_time\n",
    "\n",
    "        class_sec = 1e9/exe_time\n",
    "        report['Speed'] = class_sec\n",
    "\n",
    "        all_reports.append(report)\n",
    "\n",
    "        print(\"<------END------>******************************************\")\n"
   ]
  },
  {
   "cell_type": "markdown",
   "metadata": {},
   "source": [
    "<div style=\"background-color: #2196F3; padding: 8px 12px; margin: 5px 0; border-radius: 4px; color: white; font-size: 20px; font-weight: bold;\">\n",
    "    Data Visualization and Analysis\n",
    "</div>"
   ]
  },
  {
   "cell_type": "code",
   "execution_count": null,
   "metadata": {},
   "outputs": [],
   "source": [
    "hdl_eval = aeneas.hdl.get_eval()"
   ]
  },
  {
   "cell_type": "code",
   "execution_count": null,
   "metadata": {},
   "outputs": [],
   "source": [
    "dim_range = np.array([128, 256, 512, 1024, 2048, 4096, 8192])\n",
    "frame_range = np.array([64, 128, 256, 512, 1024, 2048, 4096, 8192])\n",
    "\n",
    "aeneas.configuration.read()\n",
    "aeneas.configuration.save();\n",
    "aeneas.configuration.compile()\n",
    "all_reports = []"
   ]
  },
  {
   "cell_type": "code",
   "execution_count": null,
   "metadata": {},
   "outputs": [],
   "source": [
    "with open('./rep/log.txt', 'w') as file:  #**** 'w' for overwrite,'a' for to append ****#\n",
    "    count=1\n",
    "    for dim in dim_range:#### NEED CHANGE\n",
    "        for fram in frame_range: \n",
    "            if fram < dim:\n",
    "                file.write(\"<------START------>******************************************\")\n",
    "                file.write(f\"ID {count}: Dimension = {dim}, Frame: = {fram}\")\n",
    "\n",
    "                report = {}  \n",
    "                report['ID'] = count\n",
    "                report['Dimension'] = dim\n",
    "                report['Frame'] = fram\n",
    "\n",
    "                # Changing configuration\n",
    "                apply_config_dim(int(dim), int(fram))  #### NEED CHANGE\n",
    "\n",
    "                results = aeneas.model.run()\n",
    "                report['ModelResults'] = results\n",
    "                file.write(f\"ModelResults: {ModelResults}\\n\")\n",
    "\n",
    "                model_eval = aeneas.model.get_eval()\n",
    "                report['ModelEval'] = model_eval\n",
    "                file.write(f\"ModelEval: {ModelEval}\\n\")\n",
    "\n",
    "                aeneas.hdl.run_simulation()\n",
    "                aeneas.hdl.run_synthesis()\n",
    "\n",
    "                hdl_eval = aeneas.hdl.get_eval()\n",
    "                report['HD_Eval'] = hdl_eval\n",
    "                file.write(f\"hdl_eval: {hdl_eval}\\n\")\n",
    "\n",
    "                resource = aeneas.hdl.get_resource_usage_report()\n",
    "                report['ResourceUtility'] = resource\n",
    "                file.write(f\"resource: {resource}\\n\")\n",
    "\n",
    "                power = aeneas.hdl.get_power_estimation_report()\n",
    "                report['PowerReport'] = power\n",
    "                file.write(f\"power: {power}\\n\")\n",
    "\n",
    "                exe_time = aeneas.hdl.get_timing_report()\n",
    "                report['TimingReport'] = exe_time\n",
    "                file.write(f\"exe_time: {exe_time}\\n\")\n",
    "\n",
    "                class_sec = 1e9/exe_time\n",
    "                report['Speed'] = class_sec\n",
    "                file.write(f\"class_sec: {class_sec}\\n\")\n",
    "\n",
    "\n",
    "                all_reports.append(report)\n",
    "\n",
    "                file.write(\"<------END------>******************************************\")\n",
    "                count+=1\n",
    "np.save( './rep/tmp/data.npy', all_reports);"
   ]
  },
  {
   "cell_type": "code",
   "execution_count": null,
   "metadata": {},
   "outputs": [],
   "source": []
  },
  {
   "cell_type": "markdown",
   "metadata": {},
   "source": [
    "# GENERATION TESTS"
   ]
  },
  {
   "cell_type": "markdown",
   "metadata": {},
   "source": [
    "Test description:\n",
    "verifying the effect of different generation techniques on the HDC model, varying the HD_DIM. The frame is keep constant.\n",
    "Explored ranges:\n",
    "- HD_DIM: [256,512,1024]\n",
    "- Generation_technique:\n",
    "    - bv_mode: [internal_memory, rnd]\n",
    "    - lv_mode: [internal_memory, hdl_gen] #rnd still to do\n",
    "    - cv_mode: [internal_memory, hdl_gen] #rnd still to do"
   ]
  },
  {
   "cell_type": "code",
   "execution_count": null,
   "metadata": {},
   "outputs": [],
   "source": [
    "import numpy as np\n",
    "def apply_config_dim(dim, frame, bv_mode, lv_mode, cv_mode): # dim & frame\n",
    "    aeneas.configuration.read()\n",
    "    \n",
    "    # HV dimension\n",
    "    aeneas.configuration.config_data['HDC']['HD_INFO']['HD_DIM'] = dim\n",
    "    \n",
    "    # Partial processing: parallel elements\n",
    "    aeneas.configuration.config_data['hw_interface']['DATA_INTERFACE']['DI_PARALLEL_W_BITS'] = frame\n",
    "    aeneas.configuration.config_data['hw_interface']['LV_MODES']['LV_IN_DATA_W_BITS'] = frame\n",
    "    aeneas.configuration.config_data['hw_interface']['BV_MODES']['BV_IN_DATA_W_BITS'] = frame\n",
    "    aeneas.configuration.config_data['hw_interface']['CV_MODES']['CV_IN_DATA_W_BITS'] = frame\n",
    "    \n",
    "    # BaseVector Generation Mode:\n",
    "    aeneas.configuration.config_data['hw_interface']['BV_MODES']['BV_MODE']['selected'] = bv_mode\n",
    "    \n",
    "    # LevelVector Generation Mode:\n",
    "    aeneas.configuration.config_data['hw_interface']['LV_MODES']['LV_MODE']['selected'] = lv_mode\n",
    "    \n",
    "    # ClassHVs Generation Mode:\n",
    "    aeneas.configuration.config_data['hw_interface']['CV_MODES']['CV_MODE']['selected'] = cv_mode\n",
    "    \n",
    "    aeneas.configuration.save();\n",
    "    aeneas.configuration.compile()"
   ]
  },
  {
   "cell_type": "code",
   "execution_count": null,
   "metadata": {},
   "outputs": [],
   "source": [
    "# Explored space:\n",
    "frame_size    = 64 \n",
    "dim_range     = np.array([256, 512, 1024])\n",
    "bv_mode_range = [\"BV_M_INT_MEM\", \"BV_M_RND_GEN\"]\n",
    "lv_mode_range = [\"LV_M_INT_MEM\", \"LV_M_HDL_GEN\"]\n",
    "cv_mode_range = [\"CV_M_INT_MEM\", \"CV_M_HDL_GEN\"]\n",
    "all_reports = []\n",
    "\n",
    "aeneas.configuration.read()\n",
    "aeneas.configuration.save();\n",
    "aeneas.configuration.compile()\n"
   ]
  },
  {
   "cell_type": "code",
   "execution_count": null,
   "metadata": {
    "scrolled": true
   },
   "outputs": [],
   "source": [
    "with open('./rep/log.txt', 'w') as file:  #**** 'w' for overwrite,'a' for to append ****#\n",
    "    count=1\n",
    "    for dim in dim_range:\n",
    "        \n",
    "        run_model_en = True;\n",
    "        for bv_mode in bv_mode_range:\n",
    "            for lv_mode in lv_mode_range:\n",
    "                for cv_mode in cv_mode_range:\n",
    "                    print(\"<------START------>******************************************\")\n",
    "                    print(f\"ID {count}: Dimension = {dim}, bv_mode = {bv_mode}, lv_mode={lv_mode}, cv_mode={cv_mode}\")\n",
    "\n",
    "                    report = {}  \n",
    "                    report['ID']         = count\n",
    "                    report['Dimension']  = dim\n",
    "                    report['BV_mode']    = bv_mode \n",
    "                    report['LV_mode']    = lv_mode \n",
    "                    report['CV_mode']    = cv_mode \n",
    "\n",
    "\n",
    "\n",
    "                    apply_config_dim(int(dim), int(frame_size), bv_mode, lv_mode, cv_mode) \n",
    "\n",
    "                    if run_model_en == True:\n",
    "                        apply_config_dim(int(dim), int(frame_size), \"BV_M_RND_GEN\", lv_mode, cv_mode) # temporary\n",
    "                        results = aeneas.model.run()\n",
    "                        model_eval = aeneas.model.get_eval()\n",
    "                        run_model_en = False;\n",
    "                        \n",
    "                    report['ModelResults'] = results                                         \n",
    "                    report['ModelEval'] = model_eval\n",
    "                    print(\"results:\",results)\n",
    "                    print(\"model_eval:\",model_eval)\n",
    "                    \n",
    "                    apply_config_dim(int(dim), int(frame_size), bv_mode, lv_mode, cv_mode) \n",
    "\n",
    "                    aeneas.hdl.run_simulation()\n",
    "                    aeneas.hdl.run_synthesis()\n",
    "\n",
    "                    hdl_eval = aeneas.hdl.get_eval()\n",
    "                    report['HD_Eval'] = hdl_eval\n",
    "\n",
    "                    resource = aeneas.hdl.get_resource_usage_report()\n",
    "                    report['ResourceUtility'] = resource\n",
    "\n",
    "                    power = aeneas.hdl.get_power_estimation_report()\n",
    "                    report['PowerReport'] = power\n",
    "\n",
    "                    exe_time = aeneas.hdl.get_timing_report()\n",
    "                    report['TimingReport'] = exe_time\n",
    "\n",
    "                    class_sec = 1e9/exe_time\n",
    "                    report['Speed'] = class_sec\n",
    "\n",
    "                    all_reports.append(report)\n",
    "\n",
    "                    print(\"<------END------>******************************************\")\n",
    "                    count+=1\n",
    "np.save(\"mode_tests.npy\", all_reports)"
   ]
  },
  {
   "cell_type": "code",
   "execution_count": null,
   "metadata": {
    "scrolled": true
   },
   "outputs": [],
   "source": [
    "all_reports"
   ]
  },
  {
   "cell_type": "code",
   "execution_count": null,
   "metadata": {
    "scrolled": false
   },
   "outputs": [],
   "source": [
    "import numpy as np\n",
    "import matplotlib.pyplot as plt\n",
    "\n",
    "# Define the metrics\n",
    "metrics = {\n",
    "    r'ModelEval Accuracy (%)': [item['ModelEval']['accuracy'] for item in loaded_array],\n",
    "    r'HD_Eval Accuracy (%)': [item['HD_Eval']['accuracy'] for item in loaded_array],\n",
    "    r'Total #LUTs': [item['ResourceUtility']['Total LUTs'] for item in loaded_array],\n",
    "    r'Total #FFs': [item['ResourceUtility']['Total FF'] for item in loaded_array],\n",
    "    r'Total #CARRY8': [item['ResourceUtility']['CARRY8'] for item in loaded_array],\n",
    "    r'Total #DSPs': [item['ResourceUtility']['DSPs'] for item in loaded_array],\n",
    "    r'Dynamic Power (W)': [item['PowerReport']['Dynamic (W)'] for item in loaded_array],\n",
    "    r'Static Power (W)': [item['PowerReport']['Device Static (W)'] for item in loaded_array],\n",
    "    r'Execution Time (ns)': [item['TimingReport'] for item in loaded_array],\n",
    "    r'Speed (Classifications/s)': [item['Speed'] for item in loaded_array]\n",
    "}\n",
    "\n",
    "# Extract unique HD_DIM values\n",
    "hd_dim_values = sorted(set(item['Dimension'] for item in loaded_array))\n",
    "\n",
    "# Extract unique combinations of BV_mode, LV_mode and CV_mode\n",
    "bv_modes = sorted(set(item['BV_mode'] for item in loaded_array))\n",
    "lv_modes = sorted(set(item['LV_mode'] for item in loaded_array), reverse=True)\n",
    "cv_modes = sorted(set(item['CV_mode'] for item in loaded_array))\n",
    "\n",
    "# Create a colormap for unique combinations of BV_mode, LV_mode and CV_mode\n",
    "cmap = plt.cm.viridis\n",
    "colors = [cmap(i) for i in range(len(bv_modes) * len(lv_modes)*len(cv_modes))]\n",
    "for index in range(len(bv_modes) * len(lv_modes) *len(cv_modes)):\n",
    "    colors[index] = plt.cm.viridis(index / (len(bv_modes) * len(lv_modes) *len(cv_modes)))\n",
    "\n",
    "# Create grouped bar plots for each metric\n",
    "num_metrics = len(metrics)\n",
    "fig, axes = plt.subplots(nrows=num_metrics, ncols=1, figsize=(15, 3 * num_metrics))\n",
    "for ax, (metric_name, metric_data) in zip(axes, metrics.items()):\n",
    "    x = np.arange(len(hd_dim_values))\n",
    "    num_combinations = len(bv_modes) * len(lv_modes) * len(cv_modes)\n",
    "    total_width = 0.8                           # Total width for each group of bars\n",
    "    bar_width = total_width / num_combinations  # Width of each individual bar in a group\n",
    "    offset = -total_width / 2\n",
    "\n",
    "    for i, bv_mode in enumerate(bv_modes):\n",
    "        for j, lv_mode in enumerate(lv_modes):\n",
    "            for k, cv_mode in enumerate(cv_modes):\n",
    "                key = f'{bv_mode} - {lv_mode} - {cv_mode}'\n",
    "                values = [metric_data[idx] for idx, item in enumerate(loaded_array) if item['BV_mode'] == bv_mode and item['LV_mode'] == lv_mode and item['CV_mode'] == cv_mode]\n",
    "                \n",
    "                # Calculate the x-positions for each group of bars to center them around x-ticks\n",
    "                x_positions = x + offset + (i * len(lv_modes) * len(cv_modes) + j * len(cv_modes) + k) * bar_width\n",
    "                ax.bar(x_positions, values, bar_width, label=f'{bv_mode} - {lv_mode} - {cv_mode}', color=colors[i * len(lv_modes) * len(cv_modes) + j * len(cv_modes) + k])\n",
    "\n",
    "    ax.set_xlabel(r'HD_DIM',fontsize=14)\n",
    "    ax.set_ylabel(metric_name, fontsize=14)\n",
    "    ax.set_title(metric_name + ' vs. HD_DIM', fontsize=14)\n",
    "    ax.set_xticks(x)\n",
    "    ax.set_xticklabels(hd_dim_values)\n",
    "    ax.tick_params(axis='both', which='major', labelsize=12)\n",
    "    ax.legend(loc='upper left', bbox_to_anchor=(1, 1), prop={'size':11})\n",
    "    ax.grid(True)\n",
    "\n",
    "plt.tight_layout()\n",
    "plt.show()\n"
   ]
  },
  {
   "cell_type": "code",
   "execution_count": null,
   "metadata": {},
   "outputs": [],
   "source": []
  },
  {
   "cell_type": "code",
   "execution_count": null,
   "metadata": {},
   "outputs": [],
   "source": []
  },
  {
   "cell_type": "code",
   "execution_count": null,
   "metadata": {},
   "outputs": [],
   "source": []
  },
  {
   "cell_type": "markdown",
   "metadata": {},
   "source": [
    "# TEST 3:  HV_type and Similarities"
   ]
  },
  {
   "cell_type": "markdown",
   "metadata": {},
   "source": [
    "Test description:\n",
    "verifying the effect of different generation techniques on the HDC model, varying the HD_DIM. The frame is keep constant.\n",
    "Explored ranges:\n",
    "- HD_DIM: [Binary, Bipolar]\n",
    "- Similarity measure:\n",
    "    - Hamming Distance\n",
    "    - Dot Product\n",
    "    - Cosine similarity\n",
    "\n",
    "Note: We dont test the following cases:\n",
    "          - Clipping disable and hamming distance\n",
    "          - Clipping enable, bipolar HV and hamming distance\n"
   ]
  },
  {
   "cell_type": "code",
   "execution_count": null,
   "metadata": {},
   "outputs": [],
   "source": [
    "import numpy as np\n",
    "def apply_config_dim(dim, frame, hvtype, similarity, clip, bv_mode, lv_mode, cv_mode): # dim & frame\n",
    "    aeneas.configuration.read()\n",
    "    \n",
    "    # HV dimension\n",
    "    aeneas.configuration.config_data['HDC']['HD_INFO']['HD_DIM'] = dim\n",
    "    \n",
    "    # HV type\n",
    "    aeneas.configuration.config_data['HDC']['HD_INFO']['HD_DATA_TYPE']['selected'] = hvtype\n",
    "    \n",
    "    # Similarity Measure\n",
    "    aeneas.configuration.config_data['HDC']['HD_INFO']['HD_SIMI_METHOD']['selected'] = similarity\n",
    "    \n",
    "    # Clip technique\n",
    "    aeneas.configuration.config_data['CLIPPING']['CLIPPING_CLASS']['selected'] = clip\n",
    "    \n",
    "    # Partial processing: parallel elements\n",
    "    aeneas.configuration.config_data['hw_interface']['DATA_INTERFACE']['DI_PARALLEL_W_BITS'] = frame\n",
    "    aeneas.configuration.config_data['hw_interface']['LV_MODES']['LV_IN_DATA_W_BITS'] = frame\n",
    "    aeneas.configuration.config_data['hw_interface']['BV_MODES']['BV_IN_DATA_W_BITS'] = frame\n",
    "    aeneas.configuration.config_data['hw_interface']['CV_MODES']['CV_IN_DATA_W_BITS'] = frame\n",
    "    \n",
    "    # BaseVector Generation Mode:\n",
    "    aeneas.configuration.config_data['hw_interface']['BV_MODES']['BV_MODE']['selected'] = bv_mode\n",
    "    \n",
    "    # LevelVector Generation Mode:\n",
    "    aeneas.configuration.config_data['hw_interface']['LV_MODES']['LV_MODE']['selected'] = lv_mode\n",
    "    \n",
    "    # ClassHVs Generation Mode:\n",
    "    aeneas.configuration.config_data['hw_interface']['CV_MODES']['CV_MODE']['selected'] = cv_mode\n",
    "    \n",
    "    aeneas.configuration.save();\n",
    "    aeneas.configuration.compile()"
   ]
  },
  {
   "cell_type": "code",
   "execution_count": null,
   "metadata": {},
   "outputs": [],
   "source": [
    "# Explored space:\n",
    "frame_size    = 64 \n",
    "dim_range     = np.array([256, 512, 1024])\n",
    "hvtype_range  = [\"BINARY\", \"BIPOLAR\"]\n",
    "sim_range     = [\"SIMI_HAM\", \"SIMI_DPROD\", \"SIMI_COS\"]\n",
    "# clip_range    = [\"CLIPPING_DISABLE\", \"CLIPPING_BINARY\"]\n",
    "clip_range    = [\"CLIPPING_BINARY\"]\n",
    "\n",
    "# dim_range     = np.array([256])\n",
    "# hvtype_range  = [\"BINARY\"]\n",
    "# sim_range     = [\"SIMI_HAM\"]\n",
    "# # clip_range    = [\"CLIPPING_DISABLE\", \"CLIPPING_BINARY\"]\n",
    "# clip_range    = [\"CLIPPING_BINARY\"]\n",
    "\n",
    "\n",
    "bv_mode = \"BV_M_INT_MEM\"\n",
    "lv_mode = \"LV_M_INT_MEM\"\n",
    "cv_mode = \"CV_M_INT_MEM\"\n",
    "\n",
    "all_reports = []\n",
    "\n",
    "aeneas.configuration.read()\n",
    "aeneas.configuration.save();\n",
    "aeneas.configuration.compile()\n"
   ]
  },
  {
   "cell_type": "code",
   "execution_count": null,
   "metadata": {
    "scrolled": true
   },
   "outputs": [],
   "source": [
    "with open('./rep/log.txt', 'w') as file:  #**** 'w' for overwrite,'a' for to append ****#\n",
    "    count=1\n",
    "    for dim in dim_range:\n",
    "        \n",
    "        run_model_en = True;\n",
    "        for hvtype in hvtype_range:\n",
    "            for clip in clip_range:\n",
    "                for sim in sim_range:\n",
    "                    \n",
    "                    # We dont test the following cases:\n",
    "                    # - Clipping disable and hamming distance\n",
    "                    # - Clipping enable, bipolar HV and hamming distance \n",
    "                    if not((clip==\"CLIPPING_DISABLE\" and sim==\"SIMI_HAM\") or (clip==\"CLIPPING_BINARY\" and hvtype==\"BIPOLAR\" and sim == \"SIMI_HAM\")):\n",
    "                    \n",
    "                        \n",
    "                        print(\"<------START------>******************************************\")\n",
    "                        print(f\"ID {count}: Dimension = {dim}, HV_type = {hvtype}, Clipping = {clip}, Similarity = {sim}\")\n",
    "                        report = {}  \n",
    "                        report['ID']         = count\n",
    "                        report['Dimension']  = dim\n",
    "                        report['HV_type']    = hvtype\n",
    "                        report[\"Clipping\"]   = clip\n",
    "                        report['Similarity'] = sim\n",
    "                        report['BV_mode']    = bv_mode \n",
    "                        report['LV_mode']    = lv_mode \n",
    "                        report['CV_mode']    = cv_mode \n",
    "\n",
    "                        \n",
    "\n",
    "                        apply_config_dim(int(dim), int(frame_size), hvtype, sim, clip, bv_mode, lv_mode, cv_mode) \n",
    "                        \n",
    "                        # SW model evaluation\n",
    "                        results = aeneas.model.run()\n",
    "                        model_eval = aeneas.model.get_eval()\n",
    "                        report['ModelResults'] = results                                         \n",
    "                        report['ModelEval'] = model_eval\n",
    "                        print(\"results:\",results)\n",
    "                        print(\"model_eval:\",model_eval)\n",
    "\n",
    "                        # HW model evaluation\n",
    "                        aeneas.hdl.run_simulation()\n",
    "                        aeneas.hdl.run_synthesis()\n",
    "                        hdl_eval = aeneas.hdl.get_eval()\n",
    "                        report['HD_Eval'] = hdl_eval\n",
    "                        resource = aeneas.hdl.get_resource_usage_report()\n",
    "                        report['ResourceUtility'] = resource\n",
    "                        power = aeneas.hdl.get_power_estimation_report()\n",
    "                        report['PowerReport'] = power\n",
    "                        exe_time = aeneas.hdl.get_timing_report()\n",
    "                        report['TimingReport'] = exe_time\n",
    "                        class_sec = 1e9/exe_time\n",
    "                        report['Speed'] = class_sec\n",
    "                        \n",
    "                        \n",
    "                        all_reports.append(report)\n",
    "                        print(\"<------END------>******************************************\")\n",
    "                        count+=1\n",
    "\n",
    "                    \n",
    "#np.save(\"test_2.npy\", all_reports)"
   ]
  },
  {
   "cell_type": "code",
   "execution_count": null,
   "metadata": {},
   "outputs": [],
   "source": [
    "np.save(\"test_2.npy\", all_reports)\n",
    "all_reports"
   ]
  },
  {
   "cell_type": "code",
   "execution_count": null,
   "metadata": {},
   "outputs": [],
   "source": [
    "loaded_array = all_reports"
   ]
  },
  {
   "cell_type": "code",
   "execution_count": null,
   "metadata": {
    "scrolled": false
   },
   "outputs": [],
   "source": [
    "import numpy as np\n",
    "import matplotlib.pyplot as plt\n",
    "\n",
    "# Define the metrics\n",
    "metrics = {\n",
    "    'ModelEval Accuracy': [item['ModelEval']['accuracy'] for item in loaded_array],\n",
    "    'HD_Eval Accuracy': [item['HD_Eval']['accuracy'] for item in loaded_array],\n",
    "    'Total LUTs': [item['ResourceUtility']['Total LUTs'] for item in loaded_array],\n",
    "    'Total FFs': [item['ResourceUtility']['Total FF'] for item in loaded_array],\n",
    "    'CARRY8': [item['ResourceUtility']['CARRY8'] for item in loaded_array],\n",
    "    'DSPs': [item['ResourceUtility']['DSPs'] for item in loaded_array],\n",
    "    'Power (Dynamic W)': [item['PowerReport']['Dynamic (W)'] for item in loaded_array],\n",
    "    'Power Device Static (W)': [item['PowerReport']['Device Static (W)'] for item in loaded_array],\n",
    "    'Execution Time': [item['TimingReport'] for item in loaded_array],\n",
    "    'Speed': [item['Speed'] for item in loaded_array]\n",
    "}\n",
    "\n",
    "# Extract unique HD_DIM values\n",
    "hd_dim_values = sorted(set(item['Dimension'] for item in loaded_array))\n",
    "\n",
    "# Extract unique combinations of BV_mode and LV_mode\n",
    "bv_modes = sorted(set(item['HV_type'] for item in loaded_array))\n",
    "lv_modes = sorted(set(item['Clipping'] for item in loaded_array))\n",
    "cv_modes = sorted(set(item['Similarity'] for item in loaded_array))\n",
    "\n",
    "# Create a colormap for unique combinations of BV_mode and LV_mode\n",
    "cmap = plt.cm.viridis\n",
    "colors = [cmap(i) for i in range(len(bv_modes) * len(lv_modes)*len(cv_modes))]\n",
    "for index in range(len(bv_modes) * len(lv_modes) *len(cv_modes)):\n",
    "    colors[index] = plt.cm.viridis(index / (len(bv_modes) * len(lv_modes) *len(cv_modes)))\n",
    "\n",
    "# Create grouped bar plots for each metric\n",
    "num_metrics = len(metrics)\n",
    "\n",
    "fig, axes = plt.subplots(nrows=num_metrics, ncols=1, figsize=(15, 3 * num_metrics))\n",
    "\n",
    "for ax, (metric_name, metric_data) in zip(axes, metrics.items()):\n",
    "    x = np.arange(len(hd_dim_values))\n",
    "    num_combinations = len(bv_modes) * len(lv_modes) * len(cv_modes)\n",
    "    total_width = 0.8  # Total width for each group of bars\n",
    "    bar_width = total_width / num_combinations  # Width of each individual bar in a group\n",
    "    offset = -total_width / 2\n",
    "\n",
    "    # Precompute positions and labels for non-empty combinations\n",
    "    x_positions = []\n",
    "    x_labels = []\n",
    "    x_data = []  # Store data for each label in the same order\n",
    "    for i, bv_mode in enumerate(bv_modes):\n",
    "        for j, lv_mode in enumerate(lv_modes):\n",
    "            for k, cv_mode in enumerate(cv_modes):\n",
    "                key = f'{bv_mode} - {lv_mode} - {cv_mode}'\n",
    "                values = [metric_data[idx] for idx, item in enumerate(loaded_array) if item['HV_type'] == bv_mode and item['Clipping'] == lv_mode and item['Similarity'] == cv_mode]\n",
    "\n",
    "                #if metric_name == 'Execution Time':\n",
    "                #    print(\"Key: \", key, \"Values: \", values)\n",
    "                # Store data and labels in the same order\n",
    "                if values:\n",
    "                    x_data.append(values)\n",
    "                    x_labels.append(f'{bv_mode} - {lv_mode} - {cv_mode}')\n",
    "\n",
    "                    x_positions.append(x + offset + (i * len(lv_modes) * len(cv_modes) + j * len(cv_modes) + k) * bar_width)\n",
    "\n",
    "    # Plot bars for non-empty combinations\n",
    "    for x_pos, values, label, color in zip(x_positions, x_data, x_labels, colors):\n",
    "        ax.bar(x_pos, values, bar_width, label=label, color=color)\n",
    "\n",
    "    ax.set_xlabel('HD_DIM')\n",
    "    ax.set_ylabel(metric_name)\n",
    "    ax.set_title(f'{metric_name} vs. HD_DIM (Grouped by BV_mode, LV_mode, and CV_mode)')\n",
    "    ax.set_xticks(x)\n",
    "    ax.set_xticklabels(hd_dim_values)\n",
    "    ax.legend(loc='upper left', bbox_to_anchor=(1, 1))\n",
    "    ax.grid(True)\n",
    "\n",
    "plt.tight_layout()\n",
    "plt.show()"
   ]
  },
  {
   "cell_type": "markdown",
   "metadata": {},
   "source": [
    "# Test 4:  LevelHVs generation techniques\n",
    "Test description:\n",
    "verifying the effect of different LV generation techniques on the HDC model, varying the HD_DIM. The frame is keep constant.\n",
    "Explored ranges:\n",
    "- HD_DIM: [256, 512, 1024]\n",
    "- Similarity measure: Hamming Distance\n",
    "- HV_TYPE: binary\n",
    "- Clipping: Binary\n",
    "- Encoding: record-based\n",
    "- LevelHVs generation technique: Thermometer\n",
    "- LevelHVs in HW: \n",
    "    - From memory\n",
    "    - Logic\n",
    "    - HDL\n",
    "- BV: from memory\n",
    "- CV: from memory\n",
    "- Frame: 64\n",
    "\n"
   ]
  },
  {
   "cell_type": "code",
   "execution_count": null,
   "metadata": {},
   "outputs": [],
   "source": [
    "import numpy as np\n",
    "def apply_config_2(dim, frame, hvtype, similarity, clip, lv_mode_model, bv_mode, lv_mode, cv_mode): # dim & frame\n",
    "    aeneas.configuration.read()\n",
    "    \n",
    "    # HV dimension\n",
    "    aeneas.configuration.config_data['HDC']['HD_INFO']['HD_DIM'] = dim\n",
    "    \n",
    "    # HV type\n",
    "    aeneas.configuration.config_data['HDC']['HD_INFO']['HD_DATA_TYPE']['selected'] = hvtype\n",
    "    \n",
    "    # Similarity Measure\n",
    "    aeneas.configuration.config_data['HDC']['HD_INFO']['HD_SIMI_METHOD']['selected'] = similarity\n",
    "    \n",
    "    # Clip technique\n",
    "    aeneas.configuration.config_data['CLIPPING']['CLIPPING_CLASS']['selected'] = clip\n",
    "    if clip==\"CLIPPING_BINARY\":\n",
    "        aeneas.configuration.config_data['hw_interface']['CV_MODES']['CV_DATA_W_BITS'] = 1\n",
    "    else:\n",
    "        aeneas.configuration.config_data['hw_interface']['CV_MODES']['CV_DATA_W_BITS'] = int(np.ceil(np.log2(aeneas.configuration.config_data['dataset']['DS_INFO']['DS_TRAIN_SIZE'])))\n",
    "    print(aeneas.configuration.config_data['hw_interface']['CV_MODES']['CV_DATA_W_BITS'])\n",
    "    \n",
    "    # Partial processing: parallel elements\n",
    "    aeneas.configuration.config_data['hw_interface']['DATA_INTERFACE']['DI_PARALLEL_W_BITS'] = frame\n",
    "    aeneas.configuration.config_data['hw_interface']['LV_MODES']['LV_IN_DATA_W_BITS'] = frame\n",
    "    aeneas.configuration.config_data['hw_interface']['BV_MODES']['BV_IN_DATA_W_BITS'] = frame\n",
    "    aeneas.configuration.config_data['hw_interface']['CV_MODES']['CV_IN_DATA_W_BITS'] = frame\n",
    "    \n",
    "    # Level method technique on model\n",
    "    aeneas.configuration.config_data['HDC']['HD_INFO']['HD_LV_TYPE']['selected'] = lv_mode_model\n",
    "    \n",
    "    # BaseVector Generation Mode:\n",
    "    aeneas.configuration.config_data['hw_interface']['BV_MODES']['BV_MODE']['selected'] = bv_mode\n",
    "    \n",
    "    # LevelVector Generation Mode:\n",
    "    aeneas.configuration.config_data['hw_interface']['LV_MODES']['LV_MODE']['selected'] = lv_mode\n",
    "    \n",
    "    # ClassHVs Generation Mode:\n",
    "    aeneas.configuration.config_data['hw_interface']['CV_MODES']['CV_MODE']['selected'] = cv_mode\n",
    "    \n",
    "    aeneas.configuration.save();\n",
    "    aeneas.configuration.compile()"
   ]
  },
  {
   "cell_type": "code",
   "execution_count": null,
   "metadata": {},
   "outputs": [],
   "source": [
    "# Explored space:\n",
    "frame_size          = 64 \n",
    "dim_range           = np.array([256, 512, 1024])\n",
    "lv_mode_range       = [\"LV_M_INT_MEM\", \"LV_M_LOGIC\" ,\"LV_M_HDL_GEN\"]\n",
    "\n",
    "# Other configurations:\n",
    "hvtype              = \"BINARY\"\n",
    "sim                 = \"SIMI_HAM\"\n",
    "clip                = \"CLIPPING_BINARY\"\n",
    "bv_mode             = \"BV_M_INT_MEM\"\n",
    "cv_mode             = \"CV_M_INT_MEM\"\n",
    "lv_mode_model_range = [\"THERMOMETER\", \"APPROX\"]\n",
    "\n",
    "all_reports = []\n",
    "\n",
    "aeneas.configuration.read()\n",
    "aeneas.configuration.save();\n",
    "aeneas.configuration.compile()"
   ]
  },
  {
   "cell_type": "code",
   "execution_count": null,
   "metadata": {
    "scrolled": true
   },
   "outputs": [],
   "source": [
    "with open('./rep/log.txt', 'w') as file:  #**** 'w' for overwrite,'a' for to append ****#\n",
    "    count=1\n",
    "    for dim in dim_range:\n",
    "        for lv_mode_model in lv_mode_model_range:\n",
    "            run_model_en = True;\n",
    "            for lv_mode_hw in lv_mode_range:                          \n",
    "                print(\"<------START------>******************************************\")\n",
    "                print(f\"ID {count}: Dimension = {dim}, LV_technique: {lv_mode_model}, LV_mode_HW: {lv_mode_hw}\")\n",
    "                report = {}  \n",
    "                report['ID']           =  count\n",
    "                report['Dimension']    =  dim\n",
    "                report['HV_type']      =  hvtype\n",
    "                report[\"Clipping\"]     =  clip\n",
    "                report['Similarity']   =  sim\n",
    "                report['BV_mode']      =  bv_mode \n",
    "                report['LV_mode']      =  lv_mode_hw \n",
    "                report['CV_mode']      =  cv_mode \n",
    "                report['LV_technique'] =  lv_mode_model\n",
    "\n",
    "                apply_config_2(int(dim), int(frame_size), hvtype, sim, clip, lv_mode_model, bv_mode, lv_mode_hw, cv_mode)  \n",
    "\n",
    "                if run_model_en == True:\n",
    "                    results = aeneas.model.run()\n",
    "                    model_eval = aeneas.model.get_eval()\n",
    "                    run_model_en = False;\n",
    "\n",
    "                report['ModelResults'] = results                                         \n",
    "                report['ModelEval'] = model_eval\n",
    "                print(\"results:\",results)\n",
    "                print(\"model_eval:\",model_eval)\n",
    "\n",
    "                apply_config_2(int(dim), int(frame_size), hvtype, sim, clip, lv_mode_model, bv_mode, lv_mode_hw, cv_mode) \n",
    "\n",
    "                # HW model evaluation\n",
    "                aeneas.hdl.run_simulation()\n",
    "                aeneas.hdl.run_synthesis()\n",
    "                hdl_eval = aeneas.hdl.get_eval()\n",
    "                report['HD_Eval'] = hdl_eval\n",
    "                resource = aeneas.hdl.get_resource_usage_report()\n",
    "                report['ResourceUtility'] = resource\n",
    "                power = aeneas.hdl.get_power_estimation_report()\n",
    "                report['PowerReport'] = power\n",
    "                exe_time = aeneas.hdl.get_timing_report()\n",
    "                report['TimingReport'] = exe_time\n",
    "                class_sec = 1e9/exe_time\n",
    "                report['Speed'] = class_sec\n",
    "\n",
    "                all_reports.append(report)\n",
    "                print(\"<------END------>******************************************\")\n",
    "                count+=1\n",
    "\n",
    "                    \n",
    "np.save(\"test_4.npy\", all_reports)"
   ]
  },
  {
   "cell_type": "code",
   "execution_count": null,
   "metadata": {},
   "outputs": [],
   "source": [
    "all_reports"
   ]
  },
  {
   "cell_type": "code",
   "execution_count": null,
   "metadata": {
    "scrolled": false
   },
   "outputs": [],
   "source": [
    "import numpy as np\n",
    "import matplotlib.pyplot as plt\n",
    "loaded_array=all_reports\n",
    "# Define the metrics\n",
    "metrics = {\n",
    "    'ModelEval Accuracy': [item['ModelEval']['accuracy'] for item in loaded_array],\n",
    "    'HD_Eval Accuracy': [item['HD_Eval']['accuracy'] for item in loaded_array],\n",
    "    'Total LUTs': [item['ResourceUtility']['Total LUTs'] for item in loaded_array],\n",
    "    'Total FFs': [item['ResourceUtility']['Total FF'] for item in loaded_array],\n",
    "    'CARRY8': [item['ResourceUtility']['CARRY8'] for item in loaded_array],\n",
    "    'DSPs': [item['ResourceUtility']['DSPs'] for item in loaded_array],\n",
    "    'Power (Dynamic W)': [item['PowerReport']['Dynamic (W)'] for item in loaded_array],\n",
    "    'Power Device Static (W)': [item['PowerReport']['Device Static (W)'] for item in loaded_array],\n",
    "    'Execution Time': [item['TimingReport'] for item in loaded_array],\n",
    "    'Speed': [item['Speed'] for item in loaded_array]\n",
    "}\n",
    "\n",
    "# Extract unique HD_DIM values\n",
    "hd_dim_values = sorted(set(item['Dimension'] for item in loaded_array))\n",
    "\n",
    "# Extract unique combinations of BV_mode and LV_mode\n",
    "lv_modes = sorted(set(item['LV_mode'] for item in loaded_array))\n",
    "lv_techniques = sorted(set(item['LV_technique'] for item in loaded_array))\n",
    "\n",
    "# Create a colormap for unique combinations of BV_mode and LV_mode\n",
    "cmap = plt.cm.viridis\n",
    "colors = [cmap(i) for i in range(len(lv_techniques) * len(lv_modes))]\n",
    "for index in range(len(lv_techniques) * len(lv_modes)):\n",
    "    colors[index] = plt.cm.viridis(index / (len(lv_techniques)* len(lv_modes)))\n",
    "\n",
    "# Create grouped bar plots for each metric\n",
    "num_metrics = len(metrics)\n",
    "\n",
    "fig, axes = plt.subplots(nrows=num_metrics, ncols=1, figsize=(15, 3 * num_metrics))\n",
    "\n",
    "for ax, (metric_name, metric_data) in zip(axes, metrics.items()):\n",
    "    x = np.arange(len(hd_dim_values))\n",
    "    num_combinations = len(lv_techniques) * len(lv_modes)\n",
    "    total_width = 0.8  # Total width for each group of bars\n",
    "    bar_width = total_width / num_combinations  # Width of each individual bar in a group\n",
    "    offset = -total_width / 2\n",
    "\n",
    "    # Precompute positions and labels for non-empty combinations\n",
    "    x_positions = []\n",
    "    x_labels = []\n",
    "    x_data = []  # Store data for each label in the same order\n",
    "    for i, lv_technique in enumerate(lv_techniques):\n",
    "        for j, lv_mode in enumerate(lv_modes):\n",
    "            key = f'{lv_technique} - {lv_mode}'\n",
    "            values = [metric_data[idx] for idx, item in enumerate(loaded_array) if item['LV_technique'] == lv_technique and item['LV_mode'] == lv_mode]\n",
    "            #if metric_name == 'Execution Time':\n",
    "            print(\"Key: \", key, \"Values: \", values)\n",
    "            # Store data and labels in the same order\n",
    "            if values:\n",
    "                x_data.append(values)\n",
    "                x_labels.append(f'{lv_technique}-{lv_mode}')\n",
    "                x_positions.append(x + offset + (i * len(lv_modes) + j) * bar_width)\n",
    "\n",
    "    # Plot bars for non-empty combinations\n",
    "    for x_pos, values, label, color in zip(x_positions, x_data, x_labels, colors):\n",
    "        ax.bar(x_pos, values, bar_width, label=label, color=color)\n",
    "\n",
    "    ax.set_xlabel('HD_DIM')\n",
    "    ax.set_ylabel(metric_name)\n",
    "    ax.set_title(f'{metric_name} vs. HD_DIM (Grouped by BV_mode, LV_mode, and CV_mode)')\n",
    "    ax.set_xticks(x)\n",
    "    ax.set_xticklabels(hd_dim_values)\n",
    "    ax.legend(loc='upper left', bbox_to_anchor=(1, 1))\n",
    "    ax.grid(True)\n",
    "\n",
    "plt.tight_layout()\n",
    "plt.show()"
   ]
  },
  {
   "cell_type": "code",
   "execution_count": null,
   "metadata": {},
   "outputs": [],
   "source": []
  },
  {
   "cell_type": "markdown",
   "metadata": {},
   "source": [
    "# Test 5: Clipped disable, integer HVs\n",
    "Test description:\n",
    "verifying the effect of different LV generation techniques on the HDC model, varying the HD_DIM. The frame is keep constant.\n",
    "Explored ranges:\n",
    "- HD_DIM: [256, 512, 1024]\n",
    "- Similarity measure: Hamming Distance\n",
    "- HV_TYPE: binary\n",
    "- Clipping: Binary\n",
    "- Encoding: record-based\n",
    "- LevelHVs generation technique: Thermometer\n",
    "- LevelHVs in HW: \n",
    "    - From memory\n",
    "    - Logic\n",
    "    - HDL\n",
    "- BV: from memory\n",
    "- CV: from memory\n",
    "- Frame: 64\n",
    "\n"
   ]
  },
  {
   "cell_type": "code",
   "execution_count": null,
   "metadata": {},
   "outputs": [],
   "source": [
    "import numpy as np\n",
    "def apply_config_2(dim, frame, hvtype, similarity, clip, lv_mode_model, bv_mode, lv_mode, cv_mode): # dim & frame\n",
    "    aeneas.configuration.read()\n",
    "    \n",
    "    print(\"lv_mode_model:\", lv_mode_model)\n",
    "    # HV dimension\n",
    "    aeneas.configuration.config_data['HDC']['HD_INFO']['HD_DIM'] = dim\n",
    "    \n",
    "    # HV type\n",
    "    aeneas.configuration.config_data['HDC']['HD_INFO']['HD_DATA_TYPE']['selected'] = hvtype\n",
    "    \n",
    "    # Similarity Measure\n",
    "    aeneas.configuration.config_data['HDC']['HD_INFO']['HD_SIMI_METHOD']['selected'] = similarity\n",
    "    \n",
    "    # Clip technique\n",
    "    aeneas.configuration.config_data['CLIPPING']['CLIPPING_CLASS']['selected'] = clip\n",
    "    if clip==\"CLIPPING_BINARY\":\n",
    "        aeneas.configuration.config_data['hw_interface']['CV_MODES']['CV_DATA_W_BITS'] = 1\n",
    "    else:\n",
    "        aeneas.configuration.config_data['hw_interface']['CV_MODES']['CV_DATA_W_BITS'] = int(np.ceil(np.log2(aeneas.configuration.config_data['dataset']['DS_INFO']['DS_TRAIN_SIZE'])))\n",
    "    print(aeneas.configuration.config_data['hw_interface']['CV_MODES']['CV_DATA_W_BITS'])\n",
    "    \n",
    "    # Partial processing: parallel elements\n",
    "    aeneas.configuration.config_data['hw_interface']['DATA_INTERFACE']['DI_PARALLEL_W_BITS'] = frame\n",
    "    aeneas.configuration.config_data['hw_interface']['LV_MODES']['LV_IN_DATA_W_BITS'] = frame\n",
    "    aeneas.configuration.config_data['hw_interface']['BV_MODES']['BV_IN_DATA_W_BITS'] = frame\n",
    "    aeneas.configuration.config_data['hw_interface']['CV_MODES']['CV_IN_DATA_W_BITS'] = frame\n",
    "    \n",
    "    # Level method technique on model\n",
    "    aeneas.configuration.config_data['HDC']['HD_INFO']['HD_LV_TYPE']['selected'] = lv_mode_model\n",
    "    \n",
    "    # BaseVector Generation Mode:\n",
    "    aeneas.configuration.config_data['hw_interface']['BV_MODES']['BV_MODE']['selected'] = bv_mode\n",
    "    \n",
    "    # LevelVector Generation Mode:\n",
    "    aeneas.configuration.config_data['hw_interface']['LV_MODES']['LV_MODE']['selected'] = lv_mode\n",
    "    \n",
    "    # ClassHVs Generation Mode:\n",
    "    aeneas.configuration.config_data['hw_interface']['CV_MODES']['CV_MODE']['selected'] = cv_mode\n",
    "    \n",
    "    aeneas.configuration.save();\n",
    "    aeneas.configuration.compile()"
   ]
  },
  {
   "cell_type": "code",
   "execution_count": null,
   "metadata": {},
   "outputs": [],
   "source": [
    "# Explored space:\n",
    "frame_size    = 64 \n",
    "dim_range     = np.array([256])\n",
    "lv_mode       = \"LV_M_INT_MEM\"\n",
    "\n",
    "# Other configurations:\n",
    "hvtype        = \"BINARY\"\n",
    "sim           = \"SIMI_COS\"\n",
    "clip_range    = [\"CLIPPING_DISABLE\", \"CLIPPING_BINARY\"]\n",
    "bv_mode       = \"BV_M_INT_MEM\"\n",
    "cv_mode       = \"CV_M_INT_MEM\"\n",
    "lv_mode_model = \"LINEAR\"\n",
    "\n",
    "all_reports = []\n",
    "\n",
    "aeneas.configuration.read()\n",
    "aeneas.configuration.save();\n",
    "aeneas.configuration.compile()\n",
    "apply_config_2(int(256), int(64), hvtype[0], sim[0], \"CLIPPING_DISABLE\", lv_mode_model, bv_mode, lv_mode[0], cv_mode)  "
   ]
  },
  {
   "cell_type": "code",
   "execution_count": null,
   "metadata": {
    "scrolled": true
   },
   "outputs": [],
   "source": [
    "with open('./rep/log.txt', 'w') as file:  #**** 'w' for overwrite,'a' for to append ****#\n",
    "    count=1\n",
    "    for dim in dim_range:\n",
    "        \n",
    "        run_model_en = True;\n",
    "        for clip in clip_range:                          \n",
    "            print(\"<------START------>******************************************\")\n",
    "            print(f\"ID {count}: Dimension = {dim}, Clipping Mode = {clip}\")\n",
    "            report = {}  \n",
    "            report['ID']           =  count\n",
    "            report['Dimension']    =  dim\n",
    "            report['HV_type']      =  hvtype\n",
    "            report[\"Clipping\"]     =  clip\n",
    "            report['Similarity']   =  sim\n",
    "            report['BV_mode']      =  bv_mode \n",
    "            report['LV_mode']      =  lv_mode \n",
    "            report['CV_mode']      =  cv_mode \n",
    "            report['LV_technique'] =  lv_mode_model\n",
    "                        \n",
    "            apply_config_2(int(dim), int(frame_size), hvtype, sim, clip, lv_mode_model, bv_mode, lv_mode, cv_mode)  \n",
    "                        \n",
    "            # SW model evaluation\n",
    "            results = aeneas.model.run()\n",
    "            model_eval = aeneas.model.get_eval()\n",
    "            report['ModelResults'] = results                                         \n",
    "            report['ModelEval'] = model_eval\n",
    "            print(\"results:\",results)\n",
    "            print(\"model_eval:\",model_eval)  \n",
    "\n",
    "            # HW model evaluation\n",
    "            aeneas.hdl.run_simulation()\n",
    "            aeneas.hdl.run_synthesis()\n",
    "            \n",
    "            hdl_eval = aeneas.hdl.get_eval()\n",
    "            report['HD_Eval'] = hdl_eval\n",
    "            \n",
    "            resource = aeneas.hdl.get_resource_usage_report()\n",
    "            report['ResourceUtility'] = resource\n",
    "            power = aeneas.hdl.get_power_estimation_report()\n",
    "            report['PowerReport'] = power\n",
    "            exe_time = aeneas.hdl.get_timing_report()\n",
    "            report['TimingReport'] = exe_time\n",
    "            class_sec = 1e9/exe_time\n",
    "            report['Speed'] = class_sec\n",
    "                        \n",
    "            all_reports.append(report)\n",
    "            print(\"<------END------>******************************************\")\n",
    "            count+=1\n",
    "\n",
    "                    \n",
    "np.save(\"test_4_2.npy\", all_reports)"
   ]
  },
  {
   "cell_type": "code",
   "execution_count": null,
   "metadata": {},
   "outputs": [],
   "source": [
    "all_reports"
   ]
  },
  {
   "cell_type": "code",
   "execution_count": null,
   "metadata": {
    "scrolled": false
   },
   "outputs": [],
   "source": [
    "\n",
    "loaded_array=all_reports\n",
    "# Define the metrics\n",
    "metrics = {\n",
    "    'ModelEval Accuracy': [item['ModelEval']['accuracy'] for item in loaded_array],\n",
    "    'HD_Eval Accuracy': [item['HD_Eval']['accuracy'] for item in loaded_array],\n",
    "    'Total LUTs': [item['ResourceUtility']['Total LUTs'] for item in loaded_array],\n",
    "    'Total FFs': [item['ResourceUtility']['Total FF'] for item in loaded_array],\n",
    "    'CARRY8': [item['ResourceUtility']['CARRY8'] for item in loaded_array],\n",
    "    'DSPs': [item['ResourceUtility']['DSPs'] for item in loaded_array],\n",
    "    'Power (Dynamic W)': [item['PowerReport']['Dynamic (W)'] for item in loaded_array],\n",
    "    'Power Device Static (W)': [item['PowerReport']['Device Static (W)'] for item in loaded_array],\n",
    "    'Execution Time': [item['TimingReport'] for item in loaded_array],\n",
    "    'Speed': [item['Speed'] for item in loaded_array]\n",
    "}\n",
    "\n",
    "# Extract unique HD_DIM values\n",
    "hd_dim_values = sorted(set(item['Dimension'] for item in loaded_array))\n",
    "\n",
    "# Extract unique combinations of BV_mode and LV_mode\n",
    "\n",
    "clip = sorted(set(item['Clipping'] for item in loaded_array))\n",
    "\n",
    "\n",
    "# Create a colormap for unique combinations of BV_mode and LV_mode\n",
    "cmap = plt.cm.viridis\n",
    "colors = [cmap(i) for i in range(len(clip))]\n",
    "for index in range(len(clip)):\n",
    "    colors[index] = plt.cm.viridis(index / (len(clip)))\n",
    "\n",
    "# Create grouped bar plots for each metric\n",
    "num_metrics = len(metrics)\n",
    "\n",
    "fig, axes = plt.subplots(nrows=num_metrics, ncols=1, figsize=(15, 3 * num_metrics))\n",
    "\n",
    "for ax, (metric_name, metric_data) in zip(axes, metrics.items()):\n",
    "    x = np.arange(len(hd_dim_values))\n",
    "    num_combinations = len(clip)\n",
    "    total_width = 0.8  # Total width for each group of bars\n",
    "    bar_width = total_width / num_combinations  # Width of each individual bar in a group\n",
    "    offset = -total_width / 2\n",
    "\n",
    "    # Precompute positions and labels for non-empty combinations\n",
    "    x_positions = []\n",
    "    x_labels = []\n",
    "    x_data = []  # Store data for each label in the same order\n",
    "    for i, clip_mode in enumerate(clip):\n",
    "                key = f'{clip_mode}'\n",
    "                values = [metric_data[idx] for idx, item in enumerate(loaded_array) if item['Clipping'] == clip_mode]\n",
    "\n",
    "                print(\"Key: \", key, \"Values: \", values)\n",
    "                # Store data and labels in the same order\n",
    "                if values:\n",
    "                    x_data.append(values)\n",
    "                    x_labels.append(f'{clip_mode}')\n",
    "                    x_positions.append(x + offset + i * bar_width)\n",
    "\n",
    "    # Plot bars for non-empty combinations\n",
    "    for x_pos, values, label, color in zip(x_positions, x_data, x_labels, colors):\n",
    "        ax.bar(x_pos, values, bar_width, label=label, color=color)\n",
    "\n",
    "    ax.set_xlabel('HD_DIM')\n",
    "    ax.set_ylabel(metric_name)\n",
    "    ax.set_title(f'{metric_name} vs. HD_DIM ')\n",
    "    ax.set_xticks(x)\n",
    "    ax.set_xticklabels(hd_dim_values)\n",
    "    ax.legend(loc='upper left', bbox_to_anchor=(1, 1))\n",
    "    ax.grid(True)\n",
    "\n",
    "plt.tight_layout()\n",
    "plt.show()"
   ]
  },
  {
   "cell_type": "code",
   "execution_count": null,
   "metadata": {},
   "outputs": [],
   "source": []
  },
  {
   "cell_type": "code",
   "execution_count": null,
   "metadata": {},
   "outputs": [],
   "source": []
  },
  {
   "cell_type": "code",
   "execution_count": null,
   "metadata": {},
   "outputs": [],
   "source": []
  }
 ],
 "metadata": {
  "kernelspec": {
   "display_name": "Python 3 (ipykernel)",
   "language": "python",
   "name": "python3"
  },
  "language_info": {
   "codemirror_mode": {
    "name": "ipython",
    "version": 3
   },
   "file_extension": ".py",
   "mimetype": "text/x-python",
   "name": "python",
   "nbconvert_exporter": "python",
   "pygments_lexer": "ipython3",
   "version": "3.9.12"
  }
 },
 "nbformat": 4,
 "nbformat_minor": 2
}
